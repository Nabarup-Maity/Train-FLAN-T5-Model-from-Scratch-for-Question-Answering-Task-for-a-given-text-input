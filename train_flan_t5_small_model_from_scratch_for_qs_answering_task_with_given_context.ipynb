{
 "cells": [
  {
   "cell_type": "markdown",
   "metadata": {
    "id": "xVAy3oFXnhfV"
   },
   "source": [
    "## Train FLAN T5 Model from Scratch for Question Answering Task for a given text input\n",
    "\n",
    "__Index in the jupyter notebook__\n",
    "1. Use a pre-trained google/flan-t5-small as the model.\n",
    "2. Verify if the summarization task works.\r",
    "3. Verify if the Q&A task works.\n",
    "4. Verify if English to French translation task works.\n",
    "5. Programmatically print the names of all the model layers and their dimensions.\n",
    "6. Programmatically print the total number of parameters/weights in this model.\n",
    "7. Set the tensor in final layer (decoder.final_layer_norm.weight) to all zeros.\n",
    "8. Verify if the Q&A task works after resetting the weights of the above layer.\n",
    "9. Replace the decoder.final_layer_norm.weight with a layer of smaller dimensions and adjust all the dependent layers to match the dimension\n",
    "10. Reload the original google/flan-t5-small model.\n",
    "11. Train the model for a Q&A task that takes a context as additional input along with the question. You can use SQuAD dataset (https://rajpurkar.github.io/SQuAD-explorer/ ) or the smaller Topioca dataset (https://mcgill-nlp.github.io/topiocqa/) . Choose an appropriate task prefix/trigger word and justify the choice.\n",
    "12. Evaluate the quality of the model\r\n",
    "\n"
   ]
  },
  {
   "cell_type": "code",
   "execution_count": null,
   "metadata": {
    "id": "UNpKUWZLm36O"
   },
   "outputs": [],
   "source": [
    "%%bash\n",
    "pip install nltk\n",
    "pip install datasets\n",
    "pip install transformers[torch]\n",
    "pip install tokenizers\n",
    "pip install evaluate\n",
    "pip install rouge_score\n",
    "pip install sentencepiece\n",
    "pip install huggingface_hub"
   ]
  },
  {
   "cell_type": "code",
   "execution_count": null,
   "metadata": {
    "id": "6i5IYkxSmZaI"
   },
   "outputs": [],
   "source": [
    "# importing libraries\n",
    "import nltk\n",
    "import evaluate\n",
    "import numpy as np\n",
    "import torch.nn as nn\n",
    "from datasets import load_dataset\n",
    "from transformers import T5Tokenizer, DataCollatorForSeq2Seq, AutoTokenizer, T5Config\n",
    "from transformers import T5ForConditionalGeneration, Seq2SeqTrainingArguments, Seq2SeqTrainer"
   ]
  },
  {
   "cell_type": "markdown",
   "metadata": {
    "id": "hcBcZTssm0m3"
   },
   "source": [
    "## 1. Use a pre-trained google/flan-t5-small as the model."
   ]
  },
  {
   "cell_type": "code",
   "execution_count": null,
   "metadata": {
    "colab": {
     "base_uri": "https://localhost:8080/",
     "height": 400,
     "referenced_widgets": [
      "843bea0a5d0646b28d86344521fc2df5",
      "aa363cf8f5d44106a47a11c3f7f3e9d9",
      "28f26b52600a4481a0a0c3ef9403a26e",
      "3b8de61e75994849baa340cbb9244fcc",
      "d22af35d6263481b8af5bd148c9aef08",
      "e6af0cf1fb014f19819a58c244ccc28e",
      "36d21997ce2f4df99ab52c335ebc5539",
      "ced12bd60d484a57878e200164e4b02b",
      "b72b2dc92d7e426f83362aa8d289a866",
      "6d7af11c8697496e8ceb853ef1a3bbf2",
      "34140e8d62f741a08d756e46a31b16fc",
      "43775cb59155451daa137a38ff8fcef6",
      "8cc7f813849d4ab1b4333935973b43e5",
      "3a8b6589d01f4265aceb9eab9c1e6fe7",
      "db2bb3ffa4154df2afa76bbbf63ad6f6",
      "13dcddeb82a64cf280989d83c896f994",
      "0918873cebb14deebb2af2eaeac61f11",
      "49f9e68701a149f4b591373dad79b2be",
      "1fe924619e834722bd468eb94deac112",
      "d4da7b7b2e4740f4932045f064b2379f",
      "e28d84a505f3448eb0bd62f3feb1fabd",
      "4cede74fdb8343398f65ea9d1541472a",
      "af3269bef23d49ffa9640688be02dcc5",
      "005a30af0ac04fbbb69fa0b021c42fa5",
      "7d71ce02b2e24e48b8e02d252c38ec5f",
      "e427760e4cf549ff81a6db9a1ae4bd1c",
      "c8443cda31524284a04292465912cd03",
      "0d11867c57b54853b9a75737e6b7030b",
      "f05a3dc491be4f8786c43f84f3acc9cc",
      "d792621de35e450fb86e44852e7e7ee5",
      "9fd7e80b48bf4efdb0d017a2eb809361",
      "0c26586acfd7442ca7c5b3e3a0572695",
      "bb7eb1a4a51149efb62df1f23e9e74fe",
      "e6cb78127a474fda9ffa2293e0353552",
      "202792f70b64416b9c76297815f9a43e",
      "ec5b0b3bf22843a6a9aed773b5b86c52",
      "7b76cbe8d18543ad9f136862305a7ea2",
      "71c961a440c74056b20ba6060a047b13",
      "7fbf190ca55949daaf971902c94cafef",
      "2a187bd9724449259c11fdf7a3d68840",
      "6e84423ebe5c4d1bba53af4ba67d461c",
      "f4632595a65b4dee92470dd73bbcc800",
      "2f9fa8c8aa95407ea11cc0336f98562c",
      "779fe0918f804ed7b25e0833a4a837db",
      "36237ba7ce6f4713ac646686ee8c4572",
      "9ba7d3221df7437c83f0bfd03d114b74",
      "c396abafc27342d0bcf47d218017092d",
      "03daf03e554443f5a1ff9ed4b16e02a6",
      "6f4de4455e8c4ad593d06933aaddfacb",
      "51afcdd2fe324c29b62d2c24b337abeb",
      "81e90e3745aa40878ef3d04f00c9c504",
      "b598f1af7d3949a3b891b46b0728208c",
      "1c543b02052141a9a9d892e4abcd2c67",
      "df5dd6cb7e764e0a910f2711cc267ece",
      "71fef024199b47b4b151a689e461ede1",
      "e3c148faf340432b9360f05ebf0e8a95",
      "6d241979d4c54abe84b8fdb185aad23e",
      "b0511a94f26341808134f80806af27dc",
      "45dd5d38d2214970bf972fb8b309f3f4",
      "121a7431331b4746bb5a8c9b0eba4167",
      "1204e9998c2a4b86abc10ba60664d588",
      "aed82f02af3f4fe9b6e343832bd38ceb",
      "43beb8be796a4c16918c455b14afdcea",
      "472be07f6e6a44dfba59ba332d8cfdfb",
      "7edc959e8c1d493fbe40077aa16fb3d4",
      "7eeb2bad3d004fb1a2d2f3b90a444b71",
      "bd5499d8592c46f394f04ce6988caa6f",
      "08c451067d6f4209ba8cc451980196f0",
      "6e4859fc42ce46b3bc6665d34a1848db",
      "e406ff6d15034e09a6e771cc737156ca",
      "b155c2aa2f3a4ec2b6e3cc0b57ee98bd",
      "13572b0b5bf74fd2b08b330be258de4c",
      "333d08ad557d46a4960fb65a6365875e",
      "ebf30d7d78aa474986792064297b12b7",
      "0a405ebec4e64a33b0cbaa22e9bf4fac",
      "4b19e9abec1643c99389f52866630384",
      "21731633ab1b44769f736009e8e979bc"
     ]
    },
    "id": "0A2PVakNmcQT",
    "outputId": "09de0f45-d4b0-4dd8-d90e-040d441327d9"
   },
   "outputs": [
    {
     "name": "stderr",
     "output_type": "stream",
     "text": [
      "/usr/local/lib/python3.10/dist-packages/huggingface_hub/utils/_token.py:88: UserWarning: \n",
      "The secret `HF_TOKEN` does not exist in your Colab secrets.\n",
      "To authenticate with the Hugging Face Hub, create a token in your settings tab (https://huggingface.co/settings/tokens), set it as secret in your Google Colab and restart your session.\n",
      "You will be able to reuse this secret in all of your notebooks.\n",
      "Please note that authentication is recommended but still optional to access public models or datasets.\n",
      "  warnings.warn(\n"
     ]
    },
    {
     "data": {
      "application/vnd.jupyter.widget-view+json": {
       "model_id": "843bea0a5d0646b28d86344521fc2df5",
       "version_major": 2,
       "version_minor": 0
      },
      "text/plain": [
       "tokenizer_config.json:   0%|          | 0.00/2.54k [00:00<?, ?B/s]"
      ]
     },
     "metadata": {},
     "output_type": "display_data"
    },
    {
     "data": {
      "application/vnd.jupyter.widget-view+json": {
       "model_id": "43775cb59155451daa137a38ff8fcef6",
       "version_major": 2,
       "version_minor": 0
      },
      "text/plain": [
       "spiece.model:   0%|          | 0.00/792k [00:00<?, ?B/s]"
      ]
     },
     "metadata": {},
     "output_type": "display_data"
    },
    {
     "data": {
      "application/vnd.jupyter.widget-view+json": {
       "model_id": "af3269bef23d49ffa9640688be02dcc5",
       "version_major": 2,
       "version_minor": 0
      },
      "text/plain": [
       "special_tokens_map.json:   0%|          | 0.00/2.20k [00:00<?, ?B/s]"
      ]
     },
     "metadata": {},
     "output_type": "display_data"
    },
    {
     "data": {
      "application/vnd.jupyter.widget-view+json": {
       "model_id": "e6cb78127a474fda9ffa2293e0353552",
       "version_major": 2,
       "version_minor": 0
      },
      "text/plain": [
       "tokenizer.json:   0%|          | 0.00/2.42M [00:00<?, ?B/s]"
      ]
     },
     "metadata": {},
     "output_type": "display_data"
    },
    {
     "name": "stderr",
     "output_type": "stream",
     "text": [
      "You are using the default legacy behaviour of the <class 'transformers.models.t5.tokenization_t5.T5Tokenizer'>. This is expected, and simply means that the `legacy` (previous) behavior will be used so nothing changes for you. If you want to use the new behaviour, set `legacy=False`. This should only be set if you understand what it means, and thoroughly read the reason why this was added as explained in https://github.com/huggingface/transformers/pull/24565\n",
      "Special tokens have been added in the vocabulary, make sure the associated word embeddings are fine-tuned or trained.\n"
     ]
    },
    {
     "data": {
      "application/vnd.jupyter.widget-view+json": {
       "model_id": "36237ba7ce6f4713ac646686ee8c4572",
       "version_major": 2,
       "version_minor": 0
      },
      "text/plain": [
       "config.json:   0%|          | 0.00/1.40k [00:00<?, ?B/s]"
      ]
     },
     "metadata": {},
     "output_type": "display_data"
    },
    {
     "data": {
      "application/vnd.jupyter.widget-view+json": {
       "model_id": "e3c148faf340432b9360f05ebf0e8a95",
       "version_major": 2,
       "version_minor": 0
      },
      "text/plain": [
       "model.safetensors:   0%|          | 0.00/308M [00:00<?, ?B/s]"
      ]
     },
     "metadata": {},
     "output_type": "display_data"
    },
    {
     "data": {
      "application/vnd.jupyter.widget-view+json": {
       "model_id": "bd5499d8592c46f394f04ce6988caa6f",
       "version_major": 2,
       "version_minor": 0
      },
      "text/plain": [
       "generation_config.json:   0%|          | 0.00/147 [00:00<?, ?B/s]"
      ]
     },
     "metadata": {},
     "output_type": "display_data"
    }
   ],
   "source": [
    "tokenizer = T5Tokenizer.from_pretrained(\"google/flan-t5-small\")\n",
    "model = T5ForConditionalGeneration.from_pretrained(\"google/flan-t5-small\")\n",
    "data_collator = DataCollatorForSeq2Seq(tokenizer=tokenizer, model=model)"
   ]
  },
  {
   "cell_type": "markdown",
   "metadata": {
    "id": "wPwn-i0gnBc9"
   },
   "source": [
    "## 2. Verify if the summarization task works."
   ]
  },
  {
   "cell_type": "code",
   "execution_count": null,
   "metadata": {
    "id": "7ZJRQk-upFUj"
   },
   "outputs": [],
   "source": [
    "sequence = (\"Data science is an interdisciplinary field[10] focused on extracting knowledge from typically large data sets and applying the knowledge and insights from that data to solve problems in a wide range of application domains.[11] The field encompasses preparing data for analysis, formulating data science problems, analyzing data, developing data-driven solutions, and presenting findings to inform high-level decisions in a broad range of application domains. As such, it incorporates skills from computer science, statistics, information science, mathematics, data visualization, information visualization, data sonification, data integration, graphic design, complex systems, communication and business.[12][13] Statistician Nathan Yau, drawing on Ben Fry, also links data science to human–computer interaction: users should be able to intuitively control and explore data.[14][15] In 2015, the American Statistical Association identified database management, statistics and machine learning, and distributed and parallel systems as the three emerging foundational professional communities.[16]\")"
   ]
  },
  {
   "cell_type": "code",
   "execution_count": null,
   "metadata": {
    "id": "67tCW5Uep3TB"
   },
   "outputs": [],
   "source": [
    "sequence = (\"ServiceNow, Inc. is an American software company based in Santa Clara, California, that develops a cloud computing platform to help companies manage digital workflows for enterprise operations. Founded in 2003 by Fred Luddy, ServiceNow is listed on the New York Stock Exchange and is a constituent of the Russell 1000 Index and S&P 500 Index.[2] In 2018, Forbes magazine named it number one on its list of the world's most innovative companies\")"
   ]
  },
  {
   "cell_type": "code",
   "execution_count": null,
   "metadata": {
    "id": "TbLQXIvLmcIe"
   },
   "outputs": [],
   "source": [
    "inputs=tokenizer.encode(\"sumarize: \" + sequence, return_tensors='pt', max_length=512, truncation=True)"
   ]
  },
  {
   "cell_type": "code",
   "execution_count": null,
   "metadata": {
    "colab": {
     "base_uri": "https://localhost:8080/"
    },
    "id": "DpfmiGXDmcFu",
    "outputId": "3d2ee1d1-e5bd-49e5-aa7c-c33ae9a4e8ba"
   },
   "outputs": [
    {
     "name": "stdout",
     "output_type": "stream",
     "text": [
      "<pad>Data science is a field of research and development that focuses on the development of data science and data science.[16][17][18][18][18][18][18][18][18][18][18][18][18][18][18][18][18][18][18\n"
     ]
    }
   ],
   "source": [
    "output = model.generate(inputs, min_length=50, max_length=80)\n",
    "summary=tokenizer.decode(output[0])\n",
    "print(summary)"
   ]
  },
  {
   "cell_type": "markdown",
   "metadata": {
    "id": "tsjxFVuPp-Js"
   },
   "source": [
    "__Not Working Properly__"
   ]
  },
  {
   "cell_type": "markdown",
   "metadata": {
    "id": "bRPrwpX7na_O"
   },
   "source": [
    "## 3. Verify if the Q&A task works."
   ]
  },
  {
   "cell_type": "code",
   "execution_count": null,
   "metadata": {
    "colab": {
     "base_uri": "https://localhost:8080/"
    },
    "id": "Ew86FCKkmcCy",
    "outputId": "9f2983d0-d69b-4ac2-aa68-48c2495c7002"
   },
   "outputs": [
    {
     "name": "stdout",
     "output_type": "stream",
     "text": [
      "Answer: <pad> Apollo 11</s>\n"
     ]
    },
    {
     "name": "stderr",
     "output_type": "stream",
     "text": [
      "/usr/local/lib/python3.10/dist-packages/transformers/generation/configuration_utils.py:453: UserWarning: `num_beams` is set to 1. However, `early_stopping` is set to `True` -- this flag is only used in beam-based generation modes. You should set `num_beams>1` or unset `early_stopping`.\n",
      "  warnings.warn(\n"
     ]
    }
   ],
   "source": [
    "# Define context and question\n",
    "q_and_a_context = \"The Apollo program was a series of space missions undertaken by NASA designed to land humans on the Moon and bring them safely back to Earth. The first manned mission to the Moon was Apollo 11 in 1969. It was followed by six more successful missions, Apollo 12, 14, 15, 16, and 17, ending in 1972. Apollo 13 was intended to land, but an oxygen tank explosion forced the crew to return to Earth without landing.\"\n",
    "question = \"What was the first manned mission to the Moon?\"\n",
    "\n",
    "inputs = tokenizer.encode(\"question: \" + question + \" context: \" + q_and_a_context, return_tensors=\"pt\")\n",
    "\n",
    "outputs = model.generate(inputs, max_length=50, num_return_sequences=1, early_stopping=True)\n",
    "answer = tokenizer.decode(outputs[0])\n",
    "print(\"Answer:\", answer)"
   ]
  },
  {
   "cell_type": "markdown",
   "metadata": {
    "id": "QbaASCKOqMQc"
   },
   "source": [
    "__WORKING with a proper context__"
   ]
  },
  {
   "cell_type": "markdown",
   "metadata": {
    "id": "4o1h7EYfqUa1"
   },
   "source": [
    "## 4. Verify if English to French translation task works."
   ]
  },
  {
   "cell_type": "code",
   "execution_count": null,
   "metadata": {
    "colab": {
     "base_uri": "https://localhost:8080/"
    },
    "id": "qu8pCoInmb_E",
    "outputId": "e33d523d-9d0a-4bc7-c98e-0e9f8e404d2a"
   },
   "outputs": [
    {
     "name": "stderr",
     "output_type": "stream",
     "text": [
      "/usr/local/lib/python3.10/dist-packages/transformers/generation/utils.py:1178: UserWarning: Using the model-agnostic default `max_length` (=20) to control the generation length. We recommend setting `max_new_tokens` to control the maximum length of the generation.\n",
      "  warnings.warn(\n"
     ]
    },
    {
     "name": "stdout",
     "output_type": "stream",
     "text": [
      "<pad> <unk> <unk> <unk> <unk> <unk> <unk> <unk> <unk> <unk>\n"
     ]
    }
   ],
   "source": [
    "input_text = \"translate English to French: How old are you?\"\n",
    "input_ids = tokenizer(input_text, return_tensors=\"pt\").input_ids\n",
    "\n",
    "outputs = model.generate(input_ids)\n",
    "print(tokenizer.decode(outputs[0]))"
   ]
  },
  {
   "cell_type": "markdown",
   "metadata": {
    "id": "B82pPeZQqfJv"
   },
   "source": [
    "__Not Working.__ Tried with German that worked."
   ]
  },
  {
   "cell_type": "markdown",
   "metadata": {
    "id": "ydQccJKeqiMM"
   },
   "source": [
    "## 5. Programmatically print the names of all the model layers and their dimensions."
   ]
  },
  {
   "cell_type": "code",
   "execution_count": null,
   "metadata": {
    "colab": {
     "base_uri": "https://localhost:8080/"
    },
    "id": "_ttBvY2bqXnx",
    "outputId": "83d28423-239b-4f5b-82bb-ce8ace1a4efd"
   },
   "outputs": [
    {
     "name": "stdout",
     "output_type": "stream",
     "text": [
      "name:  shared.weight shape:  torch.Size([32128, 512])\n",
      "name:  encoder.block.0.layer.0.SelfAttention.q.weight shape:  torch.Size([384, 512])\n",
      "name:  encoder.block.0.layer.0.SelfAttention.k.weight shape:  torch.Size([384, 512])\n",
      "name:  encoder.block.0.layer.0.SelfAttention.v.weight shape:  torch.Size([384, 512])\n",
      "name:  encoder.block.0.layer.0.SelfAttention.o.weight shape:  torch.Size([512, 384])\n",
      "name:  encoder.block.0.layer.0.SelfAttention.relative_attention_bias.weight shape:  torch.Size([32, 6])\n",
      "name:  encoder.block.0.layer.0.layer_norm.weight shape:  torch.Size([512])\n",
      "name:  encoder.block.0.layer.1.DenseReluDense.wi_0.weight shape:  torch.Size([1024, 512])\n",
      "name:  encoder.block.0.layer.1.DenseReluDense.wi_1.weight shape:  torch.Size([1024, 512])\n",
      "name:  encoder.block.0.layer.1.DenseReluDense.wo.weight shape:  torch.Size([512, 1024])\n",
      "name:  encoder.block.0.layer.1.layer_norm.weight shape:  torch.Size([512])\n",
      "name:  encoder.block.1.layer.0.SelfAttention.q.weight shape:  torch.Size([384, 512])\n",
      "name:  encoder.block.1.layer.0.SelfAttention.k.weight shape:  torch.Size([384, 512])\n",
      "name:  encoder.block.1.layer.0.SelfAttention.v.weight shape:  torch.Size([384, 512])\n",
      "name:  encoder.block.1.layer.0.SelfAttention.o.weight shape:  torch.Size([512, 384])\n",
      "name:  encoder.block.1.layer.0.layer_norm.weight shape:  torch.Size([512])\n",
      "name:  encoder.block.1.layer.1.DenseReluDense.wi_0.weight shape:  torch.Size([1024, 512])\n",
      "name:  encoder.block.1.layer.1.DenseReluDense.wi_1.weight shape:  torch.Size([1024, 512])\n",
      "name:  encoder.block.1.layer.1.DenseReluDense.wo.weight shape:  torch.Size([512, 1024])\n",
      "name:  encoder.block.1.layer.1.layer_norm.weight shape:  torch.Size([512])\n",
      "name:  encoder.block.2.layer.0.SelfAttention.q.weight shape:  torch.Size([384, 512])\n",
      "name:  encoder.block.2.layer.0.SelfAttention.k.weight shape:  torch.Size([384, 512])\n",
      "name:  encoder.block.2.layer.0.SelfAttention.v.weight shape:  torch.Size([384, 512])\n",
      "name:  encoder.block.2.layer.0.SelfAttention.o.weight shape:  torch.Size([512, 384])\n",
      "name:  encoder.block.2.layer.0.layer_norm.weight shape:  torch.Size([512])\n",
      "name:  encoder.block.2.layer.1.DenseReluDense.wi_0.weight shape:  torch.Size([1024, 512])\n",
      "name:  encoder.block.2.layer.1.DenseReluDense.wi_1.weight shape:  torch.Size([1024, 512])\n",
      "name:  encoder.block.2.layer.1.DenseReluDense.wo.weight shape:  torch.Size([512, 1024])\n",
      "name:  encoder.block.2.layer.1.layer_norm.weight shape:  torch.Size([512])\n",
      "name:  encoder.block.3.layer.0.SelfAttention.q.weight shape:  torch.Size([384, 512])\n",
      "name:  encoder.block.3.layer.0.SelfAttention.k.weight shape:  torch.Size([384, 512])\n",
      "name:  encoder.block.3.layer.0.SelfAttention.v.weight shape:  torch.Size([384, 512])\n",
      "name:  encoder.block.3.layer.0.SelfAttention.o.weight shape:  torch.Size([512, 384])\n",
      "name:  encoder.block.3.layer.0.layer_norm.weight shape:  torch.Size([512])\n",
      "name:  encoder.block.3.layer.1.DenseReluDense.wi_0.weight shape:  torch.Size([1024, 512])\n",
      "name:  encoder.block.3.layer.1.DenseReluDense.wi_1.weight shape:  torch.Size([1024, 512])\n",
      "name:  encoder.block.3.layer.1.DenseReluDense.wo.weight shape:  torch.Size([512, 1024])\n",
      "name:  encoder.block.3.layer.1.layer_norm.weight shape:  torch.Size([512])\n",
      "name:  encoder.block.4.layer.0.SelfAttention.q.weight shape:  torch.Size([384, 512])\n",
      "name:  encoder.block.4.layer.0.SelfAttention.k.weight shape:  torch.Size([384, 512])\n",
      "name:  encoder.block.4.layer.0.SelfAttention.v.weight shape:  torch.Size([384, 512])\n",
      "name:  encoder.block.4.layer.0.SelfAttention.o.weight shape:  torch.Size([512, 384])\n",
      "name:  encoder.block.4.layer.0.layer_norm.weight shape:  torch.Size([512])\n",
      "name:  encoder.block.4.layer.1.DenseReluDense.wi_0.weight shape:  torch.Size([1024, 512])\n",
      "name:  encoder.block.4.layer.1.DenseReluDense.wi_1.weight shape:  torch.Size([1024, 512])\n",
      "name:  encoder.block.4.layer.1.DenseReluDense.wo.weight shape:  torch.Size([512, 1024])\n",
      "name:  encoder.block.4.layer.1.layer_norm.weight shape:  torch.Size([512])\n",
      "name:  encoder.block.5.layer.0.SelfAttention.q.weight shape:  torch.Size([384, 512])\n",
      "name:  encoder.block.5.layer.0.SelfAttention.k.weight shape:  torch.Size([384, 512])\n",
      "name:  encoder.block.5.layer.0.SelfAttention.v.weight shape:  torch.Size([384, 512])\n",
      "name:  encoder.block.5.layer.0.SelfAttention.o.weight shape:  torch.Size([512, 384])\n",
      "name:  encoder.block.5.layer.0.layer_norm.weight shape:  torch.Size([512])\n",
      "name:  encoder.block.5.layer.1.DenseReluDense.wi_0.weight shape:  torch.Size([1024, 512])\n",
      "name:  encoder.block.5.layer.1.DenseReluDense.wi_1.weight shape:  torch.Size([1024, 512])\n",
      "name:  encoder.block.5.layer.1.DenseReluDense.wo.weight shape:  torch.Size([512, 1024])\n",
      "name:  encoder.block.5.layer.1.layer_norm.weight shape:  torch.Size([512])\n",
      "name:  encoder.block.6.layer.0.SelfAttention.q.weight shape:  torch.Size([384, 512])\n",
      "name:  encoder.block.6.layer.0.SelfAttention.k.weight shape:  torch.Size([384, 512])\n",
      "name:  encoder.block.6.layer.0.SelfAttention.v.weight shape:  torch.Size([384, 512])\n",
      "name:  encoder.block.6.layer.0.SelfAttention.o.weight shape:  torch.Size([512, 384])\n",
      "name:  encoder.block.6.layer.0.layer_norm.weight shape:  torch.Size([512])\n",
      "name:  encoder.block.6.layer.1.DenseReluDense.wi_0.weight shape:  torch.Size([1024, 512])\n",
      "name:  encoder.block.6.layer.1.DenseReluDense.wi_1.weight shape:  torch.Size([1024, 512])\n",
      "name:  encoder.block.6.layer.1.DenseReluDense.wo.weight shape:  torch.Size([512, 1024])\n",
      "name:  encoder.block.6.layer.1.layer_norm.weight shape:  torch.Size([512])\n",
      "name:  encoder.block.7.layer.0.SelfAttention.q.weight shape:  torch.Size([384, 512])\n",
      "name:  encoder.block.7.layer.0.SelfAttention.k.weight shape:  torch.Size([384, 512])\n",
      "name:  encoder.block.7.layer.0.SelfAttention.v.weight shape:  torch.Size([384, 512])\n",
      "name:  encoder.block.7.layer.0.SelfAttention.o.weight shape:  torch.Size([512, 384])\n",
      "name:  encoder.block.7.layer.0.layer_norm.weight shape:  torch.Size([512])\n",
      "name:  encoder.block.7.layer.1.DenseReluDense.wi_0.weight shape:  torch.Size([1024, 512])\n",
      "name:  encoder.block.7.layer.1.DenseReluDense.wi_1.weight shape:  torch.Size([1024, 512])\n",
      "name:  encoder.block.7.layer.1.DenseReluDense.wo.weight shape:  torch.Size([512, 1024])\n",
      "name:  encoder.block.7.layer.1.layer_norm.weight shape:  torch.Size([512])\n",
      "name:  encoder.final_layer_norm.weight shape:  torch.Size([512])\n",
      "name:  decoder.block.0.layer.0.SelfAttention.q.weight shape:  torch.Size([384, 512])\n",
      "name:  decoder.block.0.layer.0.SelfAttention.k.weight shape:  torch.Size([384, 512])\n",
      "name:  decoder.block.0.layer.0.SelfAttention.v.weight shape:  torch.Size([384, 512])\n",
      "name:  decoder.block.0.layer.0.SelfAttention.o.weight shape:  torch.Size([512, 384])\n",
      "name:  decoder.block.0.layer.0.SelfAttention.relative_attention_bias.weight shape:  torch.Size([32, 6])\n",
      "name:  decoder.block.0.layer.0.layer_norm.weight shape:  torch.Size([512])\n",
      "name:  decoder.block.0.layer.1.EncDecAttention.q.weight shape:  torch.Size([384, 512])\n",
      "name:  decoder.block.0.layer.1.EncDecAttention.k.weight shape:  torch.Size([384, 512])\n",
      "name:  decoder.block.0.layer.1.EncDecAttention.v.weight shape:  torch.Size([384, 512])\n",
      "name:  decoder.block.0.layer.1.EncDecAttention.o.weight shape:  torch.Size([512, 384])\n",
      "name:  decoder.block.0.layer.1.layer_norm.weight shape:  torch.Size([512])\n",
      "name:  decoder.block.0.layer.2.DenseReluDense.wi_0.weight shape:  torch.Size([1024, 512])\n",
      "name:  decoder.block.0.layer.2.DenseReluDense.wi_1.weight shape:  torch.Size([1024, 512])\n",
      "name:  decoder.block.0.layer.2.DenseReluDense.wo.weight shape:  torch.Size([512, 1024])\n",
      "name:  decoder.block.0.layer.2.layer_norm.weight shape:  torch.Size([512])\n",
      "name:  decoder.block.1.layer.0.SelfAttention.q.weight shape:  torch.Size([384, 512])\n",
      "name:  decoder.block.1.layer.0.SelfAttention.k.weight shape:  torch.Size([384, 512])\n",
      "name:  decoder.block.1.layer.0.SelfAttention.v.weight shape:  torch.Size([384, 512])\n",
      "name:  decoder.block.1.layer.0.SelfAttention.o.weight shape:  torch.Size([512, 384])\n",
      "name:  decoder.block.1.layer.0.layer_norm.weight shape:  torch.Size([512])\n",
      "name:  decoder.block.1.layer.1.EncDecAttention.q.weight shape:  torch.Size([384, 512])\n",
      "name:  decoder.block.1.layer.1.EncDecAttention.k.weight shape:  torch.Size([384, 512])\n",
      "name:  decoder.block.1.layer.1.EncDecAttention.v.weight shape:  torch.Size([384, 512])\n",
      "name:  decoder.block.1.layer.1.EncDecAttention.o.weight shape:  torch.Size([512, 384])\n",
      "name:  decoder.block.1.layer.1.layer_norm.weight shape:  torch.Size([512])\n",
      "name:  decoder.block.1.layer.2.DenseReluDense.wi_0.weight shape:  torch.Size([1024, 512])\n",
      "name:  decoder.block.1.layer.2.DenseReluDense.wi_1.weight shape:  torch.Size([1024, 512])\n",
      "name:  decoder.block.1.layer.2.DenseReluDense.wo.weight shape:  torch.Size([512, 1024])\n",
      "name:  decoder.block.1.layer.2.layer_norm.weight shape:  torch.Size([512])\n",
      "name:  decoder.block.2.layer.0.SelfAttention.q.weight shape:  torch.Size([384, 512])\n",
      "name:  decoder.block.2.layer.0.SelfAttention.k.weight shape:  torch.Size([384, 512])\n",
      "name:  decoder.block.2.layer.0.SelfAttention.v.weight shape:  torch.Size([384, 512])\n",
      "name:  decoder.block.2.layer.0.SelfAttention.o.weight shape:  torch.Size([512, 384])\n",
      "name:  decoder.block.2.layer.0.layer_norm.weight shape:  torch.Size([512])\n",
      "name:  decoder.block.2.layer.1.EncDecAttention.q.weight shape:  torch.Size([384, 512])\n",
      "name:  decoder.block.2.layer.1.EncDecAttention.k.weight shape:  torch.Size([384, 512])\n",
      "name:  decoder.block.2.layer.1.EncDecAttention.v.weight shape:  torch.Size([384, 512])\n",
      "name:  decoder.block.2.layer.1.EncDecAttention.o.weight shape:  torch.Size([512, 384])\n",
      "name:  decoder.block.2.layer.1.layer_norm.weight shape:  torch.Size([512])\n",
      "name:  decoder.block.2.layer.2.DenseReluDense.wi_0.weight shape:  torch.Size([1024, 512])\n",
      "name:  decoder.block.2.layer.2.DenseReluDense.wi_1.weight shape:  torch.Size([1024, 512])\n",
      "name:  decoder.block.2.layer.2.DenseReluDense.wo.weight shape:  torch.Size([512, 1024])\n",
      "name:  decoder.block.2.layer.2.layer_norm.weight shape:  torch.Size([512])\n",
      "name:  decoder.block.3.layer.0.SelfAttention.q.weight shape:  torch.Size([384, 512])\n",
      "name:  decoder.block.3.layer.0.SelfAttention.k.weight shape:  torch.Size([384, 512])\n",
      "name:  decoder.block.3.layer.0.SelfAttention.v.weight shape:  torch.Size([384, 512])\n",
      "name:  decoder.block.3.layer.0.SelfAttention.o.weight shape:  torch.Size([512, 384])\n",
      "name:  decoder.block.3.layer.0.layer_norm.weight shape:  torch.Size([512])\n",
      "name:  decoder.block.3.layer.1.EncDecAttention.q.weight shape:  torch.Size([384, 512])\n",
      "name:  decoder.block.3.layer.1.EncDecAttention.k.weight shape:  torch.Size([384, 512])\n",
      "name:  decoder.block.3.layer.1.EncDecAttention.v.weight shape:  torch.Size([384, 512])\n",
      "name:  decoder.block.3.layer.1.EncDecAttention.o.weight shape:  torch.Size([512, 384])\n",
      "name:  decoder.block.3.layer.1.layer_norm.weight shape:  torch.Size([512])\n",
      "name:  decoder.block.3.layer.2.DenseReluDense.wi_0.weight shape:  torch.Size([1024, 512])\n",
      "name:  decoder.block.3.layer.2.DenseReluDense.wi_1.weight shape:  torch.Size([1024, 512])\n",
      "name:  decoder.block.3.layer.2.DenseReluDense.wo.weight shape:  torch.Size([512, 1024])\n",
      "name:  decoder.block.3.layer.2.layer_norm.weight shape:  torch.Size([512])\n",
      "name:  decoder.block.4.layer.0.SelfAttention.q.weight shape:  torch.Size([384, 512])\n",
      "name:  decoder.block.4.layer.0.SelfAttention.k.weight shape:  torch.Size([384, 512])\n",
      "name:  decoder.block.4.layer.0.SelfAttention.v.weight shape:  torch.Size([384, 512])\n",
      "name:  decoder.block.4.layer.0.SelfAttention.o.weight shape:  torch.Size([512, 384])\n",
      "name:  decoder.block.4.layer.0.layer_norm.weight shape:  torch.Size([512])\n",
      "name:  decoder.block.4.layer.1.EncDecAttention.q.weight shape:  torch.Size([384, 512])\n",
      "name:  decoder.block.4.layer.1.EncDecAttention.k.weight shape:  torch.Size([384, 512])\n",
      "name:  decoder.block.4.layer.1.EncDecAttention.v.weight shape:  torch.Size([384, 512])\n",
      "name:  decoder.block.4.layer.1.EncDecAttention.o.weight shape:  torch.Size([512, 384])\n",
      "name:  decoder.block.4.layer.1.layer_norm.weight shape:  torch.Size([512])\n",
      "name:  decoder.block.4.layer.2.DenseReluDense.wi_0.weight shape:  torch.Size([1024, 512])\n",
      "name:  decoder.block.4.layer.2.DenseReluDense.wi_1.weight shape:  torch.Size([1024, 512])\n",
      "name:  decoder.block.4.layer.2.DenseReluDense.wo.weight shape:  torch.Size([512, 1024])\n",
      "name:  decoder.block.4.layer.2.layer_norm.weight shape:  torch.Size([512])\n",
      "name:  decoder.block.5.layer.0.SelfAttention.q.weight shape:  torch.Size([384, 512])\n",
      "name:  decoder.block.5.layer.0.SelfAttention.k.weight shape:  torch.Size([384, 512])\n",
      "name:  decoder.block.5.layer.0.SelfAttention.v.weight shape:  torch.Size([384, 512])\n",
      "name:  decoder.block.5.layer.0.SelfAttention.o.weight shape:  torch.Size([512, 384])\n",
      "name:  decoder.block.5.layer.0.layer_norm.weight shape:  torch.Size([512])\n",
      "name:  decoder.block.5.layer.1.EncDecAttention.q.weight shape:  torch.Size([384, 512])\n",
      "name:  decoder.block.5.layer.1.EncDecAttention.k.weight shape:  torch.Size([384, 512])\n",
      "name:  decoder.block.5.layer.1.EncDecAttention.v.weight shape:  torch.Size([384, 512])\n",
      "name:  decoder.block.5.layer.1.EncDecAttention.o.weight shape:  torch.Size([512, 384])\n",
      "name:  decoder.block.5.layer.1.layer_norm.weight shape:  torch.Size([512])\n",
      "name:  decoder.block.5.layer.2.DenseReluDense.wi_0.weight shape:  torch.Size([1024, 512])\n",
      "name:  decoder.block.5.layer.2.DenseReluDense.wi_1.weight shape:  torch.Size([1024, 512])\n",
      "name:  decoder.block.5.layer.2.DenseReluDense.wo.weight shape:  torch.Size([512, 1024])\n",
      "name:  decoder.block.5.layer.2.layer_norm.weight shape:  torch.Size([512])\n",
      "name:  decoder.block.6.layer.0.SelfAttention.q.weight shape:  torch.Size([384, 512])\n",
      "name:  decoder.block.6.layer.0.SelfAttention.k.weight shape:  torch.Size([384, 512])\n",
      "name:  decoder.block.6.layer.0.SelfAttention.v.weight shape:  torch.Size([384, 512])\n",
      "name:  decoder.block.6.layer.0.SelfAttention.o.weight shape:  torch.Size([512, 384])\n",
      "name:  decoder.block.6.layer.0.layer_norm.weight shape:  torch.Size([512])\n",
      "name:  decoder.block.6.layer.1.EncDecAttention.q.weight shape:  torch.Size([384, 512])\n",
      "name:  decoder.block.6.layer.1.EncDecAttention.k.weight shape:  torch.Size([384, 512])\n",
      "name:  decoder.block.6.layer.1.EncDecAttention.v.weight shape:  torch.Size([384, 512])\n",
      "name:  decoder.block.6.layer.1.EncDecAttention.o.weight shape:  torch.Size([512, 384])\n",
      "name:  decoder.block.6.layer.1.layer_norm.weight shape:  torch.Size([512])\n",
      "name:  decoder.block.6.layer.2.DenseReluDense.wi_0.weight shape:  torch.Size([1024, 512])\n",
      "name:  decoder.block.6.layer.2.DenseReluDense.wi_1.weight shape:  torch.Size([1024, 512])\n",
      "name:  decoder.block.6.layer.2.DenseReluDense.wo.weight shape:  torch.Size([512, 1024])\n",
      "name:  decoder.block.6.layer.2.layer_norm.weight shape:  torch.Size([512])\n",
      "name:  decoder.block.7.layer.0.SelfAttention.q.weight shape:  torch.Size([384, 512])\n",
      "name:  decoder.block.7.layer.0.SelfAttention.k.weight shape:  torch.Size([384, 512])\n",
      "name:  decoder.block.7.layer.0.SelfAttention.v.weight shape:  torch.Size([384, 512])\n",
      "name:  decoder.block.7.layer.0.SelfAttention.o.weight shape:  torch.Size([512, 384])\n",
      "name:  decoder.block.7.layer.0.layer_norm.weight shape:  torch.Size([512])\n",
      "name:  decoder.block.7.layer.1.EncDecAttention.q.weight shape:  torch.Size([384, 512])\n",
      "name:  decoder.block.7.layer.1.EncDecAttention.k.weight shape:  torch.Size([384, 512])\n",
      "name:  decoder.block.7.layer.1.EncDecAttention.v.weight shape:  torch.Size([384, 512])\n",
      "name:  decoder.block.7.layer.1.EncDecAttention.o.weight shape:  torch.Size([512, 384])\n",
      "name:  decoder.block.7.layer.1.layer_norm.weight shape:  torch.Size([512])\n",
      "name:  decoder.block.7.layer.2.DenseReluDense.wi_0.weight shape:  torch.Size([1024, 512])\n",
      "name:  decoder.block.7.layer.2.DenseReluDense.wi_1.weight shape:  torch.Size([1024, 512])\n",
      "name:  decoder.block.7.layer.2.DenseReluDense.wo.weight shape:  torch.Size([512, 1024])\n",
      "name:  decoder.block.7.layer.2.layer_norm.weight shape:  torch.Size([512])\n",
      "name:  decoder.final_layer_norm.weight shape:  torch.Size([512])\n",
      "name:  lm_head.weight shape:  torch.Size([32128, 512])\n"
     ]
    }
   ],
   "source": [
    "# Print names and dimensions of all model layers\n",
    "for name, param in model.named_parameters():\n",
    "    print('name: ', name, 'shape: ', param.shape)"
   ]
  },
  {
   "cell_type": "markdown",
   "metadata": {
    "id": "w7G16Y-aqt22"
   },
   "source": [
    "## 6. Programmatically print the total number of parameters/weights in this model."
   ]
  },
  {
   "cell_type": "code",
   "execution_count": null,
   "metadata": {
    "colab": {
     "base_uri": "https://localhost:8080/"
    },
    "id": "AI2yTEhYqmfz",
    "outputId": "c9e3f774-32c9-446f-de8f-16fcf84453e6"
   },
   "outputs": [
    {
     "name": "stdout",
     "output_type": "stream",
     "text": [
      "Total parameters: 76961152\n"
     ]
    }
   ],
   "source": [
    "total_params = sum(p.numel() for p in model.parameters())\n",
    "print(\"Total parameters:\", total_params)"
   ]
  },
  {
   "cell_type": "markdown",
   "metadata": {
    "id": "dHCndp0dq0Qk"
   },
   "source": [
    "## 7. Set the tensor in final layer (decoder.final_layer_norm.weight) to all zeros."
   ]
  },
  {
   "cell_type": "code",
   "execution_count": null,
   "metadata": {
    "colab": {
     "base_uri": "https://localhost:8080/"
    },
    "id": "WlC1dLUjqxDA",
    "outputId": "728af8a6-e238-4762-de1a-631286e478c9"
   },
   "outputs": [
    {
     "data": {
      "text/plain": [
       "tensor([0., 0., 0., 0., 0., 0., 0., 0., 0., 0., 0., 0., 0., 0., 0., 0., 0., 0., 0., 0., 0., 0., 0., 0.,\n",
       "        0., 0., 0., 0., 0., 0., 0., 0., 0., 0., 0., 0., 0., 0., 0., 0., 0., 0., 0., 0., 0., 0., 0., 0.,\n",
       "        0., 0., 0., 0., 0., 0., 0., 0., 0., 0., 0., 0., 0., 0., 0., 0., 0., 0., 0., 0., 0., 0., 0., 0.,\n",
       "        0., 0., 0., 0., 0., 0., 0., 0., 0., 0., 0., 0., 0., 0., 0., 0., 0., 0., 0., 0., 0., 0., 0., 0.,\n",
       "        0., 0., 0., 0., 0., 0., 0., 0., 0., 0., 0., 0., 0., 0., 0., 0., 0., 0., 0., 0., 0., 0., 0., 0.,\n",
       "        0., 0., 0., 0., 0., 0., 0., 0., 0., 0., 0., 0., 0., 0., 0., 0., 0., 0., 0., 0., 0., 0., 0., 0.,\n",
       "        0., 0., 0., 0., 0., 0., 0., 0., 0., 0., 0., 0., 0., 0., 0., 0., 0., 0., 0., 0., 0., 0., 0., 0.,\n",
       "        0., 0., 0., 0., 0., 0., 0., 0., 0., 0., 0., 0., 0., 0., 0., 0., 0., 0., 0., 0., 0., 0., 0., 0.,\n",
       "        0., 0., 0., 0., 0., 0., 0., 0., 0., 0., 0., 0., 0., 0., 0., 0., 0., 0., 0., 0., 0., 0., 0., 0.,\n",
       "        0., 0., 0., 0., 0., 0., 0., 0., 0., 0., 0., 0., 0., 0., 0., 0., 0., 0., 0., 0., 0., 0., 0., 0.,\n",
       "        0., 0., 0., 0., 0., 0., 0., 0., 0., 0., 0., 0., 0., 0., 0., 0., 0., 0., 0., 0., 0., 0., 0., 0.,\n",
       "        0., 0., 0., 0., 0., 0., 0., 0., 0., 0., 0., 0., 0., 0., 0., 0., 0., 0., 0., 0., 0., 0., 0., 0.,\n",
       "        0., 0., 0., 0., 0., 0., 0., 0., 0., 0., 0., 0., 0., 0., 0., 0., 0., 0., 0., 0., 0., 0., 0., 0.,\n",
       "        0., 0., 0., 0., 0., 0., 0., 0., 0., 0., 0., 0., 0., 0., 0., 0., 0., 0., 0., 0., 0., 0., 0., 0.,\n",
       "        0., 0., 0., 0., 0., 0., 0., 0., 0., 0., 0., 0., 0., 0., 0., 0., 0., 0., 0., 0., 0., 0., 0., 0.,\n",
       "        0., 0., 0., 0., 0., 0., 0., 0., 0., 0., 0., 0., 0., 0., 0., 0., 0., 0., 0., 0., 0., 0., 0., 0.,\n",
       "        0., 0., 0., 0., 0., 0., 0., 0., 0., 0., 0., 0., 0., 0., 0., 0., 0., 0., 0., 0., 0., 0., 0., 0.,\n",
       "        0., 0., 0., 0., 0., 0., 0., 0., 0., 0., 0., 0., 0., 0., 0., 0., 0., 0., 0., 0., 0., 0., 0., 0.,\n",
       "        0., 0., 0., 0., 0., 0., 0., 0., 0., 0., 0., 0., 0., 0., 0., 0., 0., 0., 0., 0., 0., 0., 0., 0.,\n",
       "        0., 0., 0., 0., 0., 0., 0., 0., 0., 0., 0., 0., 0., 0., 0., 0., 0., 0., 0., 0., 0., 0., 0., 0.,\n",
       "        0., 0., 0., 0., 0., 0., 0., 0., 0., 0., 0., 0., 0., 0., 0., 0., 0., 0., 0., 0., 0., 0., 0., 0.,\n",
       "        0., 0., 0., 0., 0., 0., 0., 0.])"
      ]
     },
     "execution_count": 17,
     "metadata": {},
     "output_type": "execute_result"
    }
   ],
   "source": [
    "# Set final layer weights to zeros\n",
    "model.decoder.final_layer_norm.weight.data.fill_(0.0)"
   ]
  },
  {
   "cell_type": "markdown",
   "metadata": {
    "id": "rMwy_-c4rB70"
   },
   "source": [
    "## 8. Verify if the Q&A task works after resetting the weights of the above layer."
   ]
  },
  {
   "cell_type": "code",
   "execution_count": null,
   "metadata": {
    "colab": {
     "base_uri": "https://localhost:8080/"
    },
    "id": "uLGXbwGfq3Le",
    "outputId": "3800b0ed-cb6f-41db-bcfb-b250d52844c4"
   },
   "outputs": [
    {
     "name": "stdout",
     "output_type": "stream",
     "text": [
      "Answer after resetting weights: <pad> <unk> <unk> <unk> <unk> <unk> <unk> <unk> <unk> <unk>\n"
     ]
    }
   ],
   "source": [
    "q_and_ainputs = tokenizer.encode(\"question: \" + question + \" context: \" + q_and_a_context, return_tensors=\"pt\")\n",
    "q_and_a_outputs = model.generate(inputs, max_length=50, num_return_sequences=1, early_stopping=True)\n",
    "answer = tokenizer.decode(outputs[0])\n",
    "\n",
    "print(\"Answer after resetting weights:\", answer)"
   ]
  },
  {
   "cell_type": "markdown",
   "metadata": {
    "id": "9YvHx4e8rYoH"
   },
   "source": [
    "__Not Getting Any Response__"
   ]
  },
  {
   "cell_type": "markdown",
   "metadata": {
    "id": "srd8h5IVrene"
   },
   "source": [
    "## 9. Replace the decoder.final_layer_norm.weight with a layer of smaller dimensions and adjust all the dependent layers to match the dimension"
   ]
  },
  {
   "cell_type": "code",
   "execution_count": null,
   "metadata": {
    "id": "_NUOEg6yrIkP"
   },
   "outputs": [],
   "source": [
    "# Load the pre-trained model configuration\n",
    "config = T5Config.from_pretrained(\"google/flan-t5-small\")\n",
    "\n",
    "# Define new dimensions for the final layer norm\n",
    "new_final_layer_norm_dim = 128  # tuning\n",
    "\n",
    "config.d_model = new_final_layer_norm_dim # Modify the configuration to reflect the changes\n",
    "new_model = T5ForConditionalGeneration(config=config)\n",
    "\n",
    "# Replace the final layer norm with a layer of smaller dimensions\n",
    "new_model.decoder.final_layer_norm = nn.LayerNorm(new_final_layer_norm_dim)\n",
    "\n",
    "# Adjust all dependent layers to match the new dimension\n",
    "# For simplicity, let's assume only the output projection layer is dependent and adjust it\n",
    "new_model.get_output_embeddings().weight = nn.Parameter(\n",
    "    new_model.get_output_embeddings().weight[:, :new_final_layer_norm_dim]\n",
    ")"
   ]
  },
  {
   "cell_type": "code",
   "execution_count": null,
   "metadata": {
    "colab": {
     "base_uri": "https://localhost:8080/"
    },
    "id": "E2UK5xOWrnSR",
    "outputId": "33b5b489-ad16-4190-aa57-41f6f7880aee"
   },
   "outputs": [
    {
     "name": "stdout",
     "output_type": "stream",
     "text": [
      "Answer after resetting weights: <pad> <unk> <unk> <unk> <unk> <unk> <unk> <unk> <unk> <unk>\n"
     ]
    }
   ],
   "source": [
    "q_and_ainputs = tokenizer.encode(\"question: \" + question + \" context: \" + q_and_a_context, return_tensors=\"pt\")\n",
    "q_and_a_outputs = new_model.generate(inputs, max_length=50, num_return_sequences=1)\n",
    "answer = tokenizer.decode(outputs[0])\n",
    "\n",
    "print(\"Answer after resetting weights:\", answer)"
   ]
  },
  {
   "cell_type": "markdown",
   "metadata": {
    "id": "T0NbyRlasD2u"
   },
   "source": [
    "__Not getting any response__"
   ]
  },
  {
   "cell_type": "markdown",
   "metadata": {
    "id": "wPt12gftsMQV"
   },
   "source": [
    "## 10. Reload the original google/flan-t5-small model."
   ]
  },
  {
   "cell_type": "code",
   "execution_count": null,
   "metadata": {
    "colab": {
     "base_uri": "https://localhost:8080/"
    },
    "id": "jCnbfX5GsG5R",
    "outputId": "01610416-4a30-4401-f241-1bcdcee9e276"
   },
   "outputs": [
    {
     "name": "stderr",
     "output_type": "stream",
     "text": [
      "Special tokens have been added in the vocabulary, make sure the associated word embeddings are fine-tuned or trained.\n"
     ]
    }
   ],
   "source": [
    "tokenizer = T5Tokenizer.from_pretrained(\"google/flan-t5-small\")\n",
    "model = T5ForConditionalGeneration.from_pretrained(\"google/flan-t5-small\")"
   ]
  },
  {
   "cell_type": "markdown",
   "metadata": {
    "id": "hyqlo6sisXzM"
   },
   "source": [
    "## 11. Train the model for a Q&A task that takes a context as additional input along with the ..\n",
    "question. You can use SQuAD dataset (https://rajpurkar.github.io/SQuAD-explorer/ )\n",
    "or the smaller Topioca dataset (https://mcgill-nlp.github.io/topiocqa/) . Choose an\n",
    "appropriate task prefix/trigger word and justify the choice."
   ]
  },
  {
   "cell_type": "markdown",
   "metadata": {
    "id": "lKMK0yCZsfE0"
   },
   "source": [
    "https://rajpurkar.github.io/SQuAD-explorer/#:~:text=might%20be%20unanswerable.-,SQuAD2.,the%20100%2C000%20questions%20in%20SQuAD1.&text=0%2C%20systems%20must%20not%20only,paragraph%20and%20abstain%20from%20answering.&text=SQuAD%201.1%2C%20the%20previous%20version,answer%20pairs%20on%20500%2B%20articles."
   ]
  },
  {
   "cell_type": "code",
   "execution_count": null,
   "metadata": {
    "colab": {
     "base_uri": "https://localhost:8080/",
     "height": 177,
     "referenced_widgets": [
      "8456424b72a74a9187eabc2dbb025c5b",
      "b736d0000f59450da1709daf7f48833d",
      "e3c4fe75f5164657ac2b64902121a4d3",
      "d5d0b0261db642ad955966cd3b881a77",
      "b1147d8aec4944c4ad0c291d9c6b25ad",
      "bb6d673c4c174107a49554dbf99d8e78",
      "a61da36b355e4909beeb387114eb4c3d",
      "6f3cca6b8ed54e4b83d03ad13dd71f31",
      "953e58c00bc1481f82bf4cbe14df9622",
      "2de48fa3ac244018a79120b6de48ff1b",
      "42663c20e09d461c9b1c7a00314ade72",
      "6799f9d022344330877ecb6a5db1b89c",
      "0e5437b30b1146a0970bb1e6d0539b3d",
      "0a6e6490795b43699b1aa46233cfa0bc",
      "33c463e285a74ffeb52eb3dffa1e7388",
      "af70127aad274f3487b39f9542993825",
      "6bd59dda04424ac7b2d22893ab7b8a22",
      "cde548cc3d3b4fae83eadb5d5861b3a4",
      "d29390e5e818435b80f3d1b4776859a8",
      "1d84a7d2e3334dcfa262f57183cef684",
      "7dfd0148676a4d0ebe01c4adfc480d72",
      "4a458024c1b3436885dafb4c4990513f",
      "7dc01ad741794a6489a8d3de0e7b1903",
      "c4a92744fd644bcbadf69123b5a4f200",
      "b905191daedf49c29dc7d01593bb4f48",
      "8e5fabc5972840e0a018c62172323d07",
      "5256773e54554dc2a4076d84a6c2b5cb",
      "fc6445154c5546e8b208fb8518779b24",
      "32bced593daf4f9d930d2581dbf8c9fe",
      "c491ae712070412aaf752dc6d4f84d91",
      "a1f1569977744c3dbd1478becc4ad5ac",
      "897f1f9d19e7476f94394f080b1e0cc1",
      "cc54523507094c2da38bc4009916af87",
      "52557a2ddb5f474dbd139d06a45386d2",
      "db1d525ce26945d88eff23963ed0160c",
      "870da9d0644243f29e7d645ec242881c",
      "c85836700da145efb0831b34b84ac97b",
      "6c7567dcc56249bb9af08623c4079cdd",
      "ce87ec34866f42d5893e390c6e3bba6f",
      "49293930a2014497a53bcbfea37c470b",
      "29ba4f742ce0486097b31a9b6e4c1425",
      "a26629e5c0964c4da44146a2a5f301a6",
      "f4a4cd0eee8c4cb28c6167ba42f59434",
      "1c9205f96a754233b9cb4c18f0e27ec4",
      "ef51e6c69aaa47c6aad2f0745a922340",
      "92bb494af38140e3a66bb3d45e4053cc",
      "9d8c471dcdb14aa584a90ab7baea7b99",
      "dc77c5e5e7954de5bb7c35332ce6c29e",
      "7748780ddd6d4c5ab6ac27ef71e91b34",
      "cad634da25674fb2b401bf9d7bd74873",
      "f8b148e575d14b6780e4d1d35301fe44",
      "766fbee584db4e788ee44a87e930bec2",
      "7f4fb655a8e140a8812c4d1a8aef0611",
      "1c650a26519541358a61de006884a048",
      "0a328f34f7594844a2ea68ea077ba7ae"
     ]
    },
    "id": "cvCT0JbXsc5D",
    "outputId": "d1bd872b-d0bf-4cd3-9896-6f715c1c980d"
   },
   "outputs": [
    {
     "data": {
      "application/vnd.jupyter.widget-view+json": {
       "model_id": "8456424b72a74a9187eabc2dbb025c5b",
       "version_major": 2,
       "version_minor": 0
      },
      "text/plain": [
       "Downloading readme:   0%|          | 0.00/7.62k [00:00<?, ?B/s]"
      ]
     },
     "metadata": {},
     "output_type": "display_data"
    },
    {
     "data": {
      "application/vnd.jupyter.widget-view+json": {
       "model_id": "6799f9d022344330877ecb6a5db1b89c",
       "version_major": 2,
       "version_minor": 0
      },
      "text/plain": [
       "Downloading data:   0%|          | 0.00/14.5M [00:00<?, ?B/s]"
      ]
     },
     "metadata": {},
     "output_type": "display_data"
    },
    {
     "data": {
      "application/vnd.jupyter.widget-view+json": {
       "model_id": "7dc01ad741794a6489a8d3de0e7b1903",
       "version_major": 2,
       "version_minor": 0
      },
      "text/plain": [
       "Downloading data:   0%|          | 0.00/1.82M [00:00<?, ?B/s]"
      ]
     },
     "metadata": {},
     "output_type": "display_data"
    },
    {
     "data": {
      "application/vnd.jupyter.widget-view+json": {
       "model_id": "52557a2ddb5f474dbd139d06a45386d2",
       "version_major": 2,
       "version_minor": 0
      },
      "text/plain": [
       "Generating train split:   0%|          | 0/87599 [00:00<?, ? examples/s]"
      ]
     },
     "metadata": {},
     "output_type": "display_data"
    },
    {
     "data": {
      "application/vnd.jupyter.widget-view+json": {
       "model_id": "ef51e6c69aaa47c6aad2f0745a922340",
       "version_major": 2,
       "version_minor": 0
      },
      "text/plain": [
       "Generating validation split:   0%|          | 0/10570 [00:00<?, ? examples/s]"
      ]
     },
     "metadata": {},
     "output_type": "display_data"
    }
   ],
   "source": [
    "dataset = load_dataset(\"squad\")#squad_v2"
   ]
  },
  {
   "cell_type": "code",
   "execution_count": null,
   "metadata": {
    "colab": {
     "base_uri": "https://localhost:8080/"
    },
    "id": "K-6oYodxssQW",
    "outputId": "aad1c881-03e7-405f-e4db-575358ce64e9"
   },
   "outputs": [
    {
     "data": {
      "text/plain": [
       "DatasetDict({\n",
       "    train: Dataset({\n",
       "        features: ['id', 'title', 'context', 'question', 'answers'],\n",
       "        num_rows: 87599\n",
       "    })\n",
       "    validation: Dataset({\n",
       "        features: ['id', 'title', 'context', 'question', 'answers'],\n",
       "        num_rows: 10570\n",
       "    })\n",
       "})"
      ]
     },
     "execution_count": 23,
     "metadata": {},
     "output_type": "execute_result"
    }
   ],
   "source": [
    "dataset"
   ]
  },
  {
   "cell_type": "code",
   "execution_count": null,
   "metadata": {
    "colab": {
     "base_uri": "https://localhost:8080/"
    },
    "id": "U90a40yKsvnB",
    "outputId": "cd8c3c09-aca9-441e-fe44-abf35c9b0183"
   },
   "outputs": [
    {
     "data": {
      "text/plain": [
       "{'id': '5733bf84d058e614000b61bf',\n",
       " 'title': 'University_of_Notre_Dame',\n",
       " 'context': \"As at most other universities, Notre Dame's students run a number of news media outlets. The nine student-run outlets include three newspapers, both a radio and television station, and several magazines and journals. Begun as a one-page journal in September 1876, the Scholastic magazine is issued twice monthly and claims to be the oldest continuous collegiate publication in the United States. The other magazine, The Juggler, is released twice a year and focuses on student literature and artwork. The Dome yearbook is published annually. The newspapers have varying publication interests, with The Observer published daily and mainly reporting university and other news, and staffed by students from both Notre Dame and Saint Mary's College. Unlike Scholastic and The Dome, The Observer is an independent publication and does not have a faculty advisor or any editorial oversight from the University. In 1987, when some students believed that The Observer began to show a conservative bias, a liberal newspaper, Common Sense was published. Likewise, in 2003, when other students believed that the paper showed a liberal bias, the conservative paper Irish Rover went into production. Neither paper is published as often as The Observer; however, all three are distributed to all students. Finally, in Spring 2008 an undergraduate journal for political science research, Beyond Politics, made its debut.\",\n",
       " 'question': \"How often is Notre Dame's the Juggler published?\",\n",
       " 'answers': {'text': ['twice'], 'answer_start': [441]}}"
      ]
     },
     "execution_count": 24,
     "metadata": {},
     "output_type": "execute_result"
    }
   ],
   "source": [
    "dataset[\"train\"][6]"
   ]
  },
  {
   "cell_type": "markdown",
   "metadata": {
    "id": "xrkRTw0tPDGK"
   },
   "source": [
    "taking the validation part for due to limited resource available"
   ]
  },
  {
   "cell_type": "code",
   "execution_count": null,
   "metadata": {
    "id": "wlUa9amvswFd"
   },
   "outputs": [],
   "source": [
    "squad_qa = dataset[\"validation\"].train_test_split(test_size=0.3)# take the train part and train with it"
   ]
  },
  {
   "cell_type": "markdown",
   "metadata": {
    "id": "C__LWvrTtAgd"
   },
   "source": [
    "### Preprocess"
   ]
  },
  {
   "cell_type": "code",
   "execution_count": null,
   "metadata": {
    "id": "iJtRTxqZs8TP"
   },
   "outputs": [],
   "source": [
    "# We prefix our tasks with \"answer the question\"\n",
    "prefix = \"Answer the qs: \"\n",
    "\n",
    "# Define the preprocessing function\n",
    "\n",
    "def preprocess_function(examples):\n",
    "   \"\"\"Add prefix to the sentences, tokenize the text, and set the labels\"\"\"\n",
    "   # The \"inputs\" are the tokenized answer:\n",
    "   inputs = []\n",
    "   for i in range(len(examples[\"question\"])):\n",
    "        inputs.append(prefix + examples[\"question\"][i] + 'Given context: ' + examples[\"context\"][i])\n",
    "   #inputs = [prefix + doc  + for doc in examples[\"question\"]]\n",
    "   model_inputs = tokenizer(inputs, max_length=1024, truncation=True)\n",
    "   model_output = [doc[\"text\"][0] for doc in examples[\"answers\"]]\n",
    "   #print(examples[\"answers\"])\n",
    "   #answers = examples[\"answers\"][\"text\"][0]\n",
    "   #print(answers)\n",
    "   # The \"labels\" are the tokenized outputs:\n",
    "   labels = tokenizer(text_target=model_output,\n",
    "                      max_length=248,\n",
    "                      truncation=True)\n",
    "\n",
    "   model_inputs[\"labels\"] = labels[\"input_ids\"]\n",
    "   return model_inputs"
   ]
  },
  {
   "cell_type": "code",
   "execution_count": null,
   "metadata": {
    "colab": {
     "base_uri": "https://localhost:8080/",
     "height": 81,
     "referenced_widgets": [
      "a659abe5448c4269bb4773575aa20cb1",
      "ebc988d7b78d403b8cf661aea4e3a255",
      "6ad5bee0e164469caa947f1a4def5cdd",
      "26c3ef468cd2419abca883c9ca73e9cd",
      "9809cd0a31d74989a4c6b8a0b907b03e",
      "61a08e21cc5b4eeeaf17bc48198958c9",
      "90a65456728a4f05befd4806e9550930",
      "b35ce3d787bd471bb5697d539b6c934c",
      "97427033e3714032a8c8bf91990fffd0",
      "40dede471cf54ec3a356edd2479ecdb9",
      "b1f52fca815142128b99f151afcbe9ff",
      "b0d7f920e666412f90655d1e80ebebaf",
      "6ab4ef78466c4099aa7fd36ec6d60a27",
      "9f44da956c92463b837e7fdede052152",
      "8fa00abfa2a14161a8474a4cee6cf771",
      "2da5cca77ad5477d9fa857dcb895a271",
      "93fad6e20faf4e5bab794c94531fd1f8",
      "2c8c4df3bf09414aa35d6d8be5e3f285",
      "79ca9f6fe4af4832ae86a236b6212b7f",
      "bbdd1b7b38f14fc581d266bb0ad5b82e",
      "5eb9290237dc497da7f8cab37c5e19f2",
      "cb1b12dece7c4276bd806f1dcbb8178b"
     ]
    },
    "id": "pDK9MIMXtKT1",
    "outputId": "ddee73bf-eb06-4671-d4b3-ab19385e9c3c"
   },
   "outputs": [
    {
     "data": {
      "application/vnd.jupyter.widget-view+json": {
       "model_id": "a659abe5448c4269bb4773575aa20cb1",
       "version_major": 2,
       "version_minor": 0
      },
      "text/plain": [
       "Map:   0%|          | 0/7399 [00:00<?, ? examples/s]"
      ]
     },
     "metadata": {},
     "output_type": "display_data"
    },
    {
     "data": {
      "application/vnd.jupyter.widget-view+json": {
       "model_id": "b0d7f920e666412f90655d1e80ebebaf",
       "version_major": 2,
       "version_minor": 0
      },
      "text/plain": [
       "Map:   0%|          | 0/3171 [00:00<?, ? examples/s]"
      ]
     },
     "metadata": {},
     "output_type": "display_data"
    }
   ],
   "source": [
    "# Map the preprocessing function across our dataset\n",
    "tokenized_dataset = squad_qa.map(preprocess_function, batched=True)"
   ]
  },
  {
   "cell_type": "code",
   "execution_count": null,
   "metadata": {
    "colab": {
     "base_uri": "https://localhost:8080/",
     "height": 49,
     "referenced_widgets": [
      "c3fd7d9235a14f4d98cfbadd111e8eea",
      "7789c7ca680742bc918c43169737ef4d",
      "6dedd54cb31a40ed856997f1fb0eb06f",
      "6771f1fa3b7f429cba210c1d060e94ff",
      "51f501467f3344eeaafc21c779140a89",
      "994111154bbb45878c30d2b60093aff6",
      "69b20994d6d54029885def37be89252a",
      "c810c9edf1ff498a88400eff1b20663c",
      "82491f90614d4eef9e175f344ca4fed8",
      "715d280b0cc94114a11c3f9ce56dfc02",
      "ff07cfe7549a422b8594d8a6c240f731"
     ]
    },
    "id": "ZIVfmwsfutNj",
    "outputId": "8dea8f06-30d9-41ed-b441-5c9d8affccd1"
   },
   "outputs": [
    {
     "data": {
      "application/vnd.jupyter.widget-view+json": {
       "model_id": "c3fd7d9235a14f4d98cfbadd111e8eea",
       "version_major": 2,
       "version_minor": 0
      },
      "text/plain": [
       "Downloading builder script:   0%|          | 0.00/6.27k [00:00<?, ?B/s]"
      ]
     },
     "metadata": {},
     "output_type": "display_data"
    }
   ],
   "source": [
    "nltk.download(\"punkt\", quiet=True)\n",
    "metric = evaluate.load(\"rouge\")"
   ]
  },
  {
   "cell_type": "code",
   "execution_count": null,
   "metadata": {
    "id": "vvQqP3wTuvNy"
   },
   "outputs": [],
   "source": [
    "def compute_metrics(eval_preds):\n",
    "   preds, labels = eval_preds\n",
    "\n",
    "   # decode preds and labels\n",
    "   labels = np.where(labels != -100, labels, tokenizer.pad_token_id)\n",
    "   decoded_preds = tokenizer.batch_decode(preds, skip_special_tokens=True)\n",
    "   decoded_labels = tokenizer.batch_decode(labels, skip_special_tokens=True)\n",
    "\n",
    "   # rougeLSum expects newline after each sentence\n",
    "   decoded_preds = [\"\\n\".join(nltk.sent_tokenize(pred.strip())) for pred in decoded_preds]\n",
    "   decoded_labels = [\"\\n\".join(nltk.sent_tokenize(label.strip())) for label in decoded_labels]\n",
    "\n",
    "   result = metric.compute(predictions=decoded_preds, references=decoded_labels, use_stemmer=True)\n",
    "\n",
    "   return result"
   ]
  },
  {
   "cell_type": "markdown",
   "metadata": {
    "id": "AU_dTU28tQED"
   },
   "source": [
    "## Model Training"
   ]
  },
  {
   "cell_type": "code",
   "execution_count": null,
   "metadata": {
    "id": "naBItoPMtPEZ"
   },
   "outputs": [],
   "source": [
    "# Global Parameters\n",
    "L_RATE = 3e-4\n",
    "BATCH_SIZE = 8\n",
    "PER_DEVICE_EVAL_BATCH = 4\n",
    "WEIGHT_DECAY = 0.01\n",
    "SAVE_TOTAL_LIM = 3\n",
    "NUM_EPOCHS = 4"
   ]
  },
  {
   "cell_type": "code",
   "execution_count": null,
   "metadata": {
    "id": "Dm3helNFvIDo"
   },
   "outputs": [],
   "source": [
    "#from transformers import AutoModelForQuestionAnswering, TrainingArguments, Trainer"
   ]
  },
  {
   "cell_type": "code",
   "execution_count": null,
   "metadata": {
    "id": "Y91i07-itVw6"
   },
   "outputs": [],
   "source": [
    "# Set up training arguments\n",
    "training_args = Seq2SeqTrainingArguments(\n",
    "   output_dir=\"./results\",\n",
    "   evaluation_strategy=\"epoch\",\n",
    "   learning_rate=L_RATE,\n",
    "   per_device_train_batch_size=BATCH_SIZE,\n",
    "   per_device_eval_batch_size=PER_DEVICE_EVAL_BATCH,\n",
    "   weight_decay=WEIGHT_DECAY,\n",
    "   save_total_limit=SAVE_TOTAL_LIM,\n",
    "   num_train_epochs=NUM_EPOCHS,\n",
    "   predict_with_generate=True,\n",
    "   push_to_hub=False\n",
    ")"
   ]
  },
  {
   "cell_type": "code",
   "execution_count": null,
   "metadata": {
    "colab": {
     "base_uri": "https://localhost:8080/"
    },
    "id": "ekaamzzYtaeY",
    "outputId": "34d3888d-c706-4b32-abc8-e6b0367fae36"
   },
   "outputs": [
    {
     "name": "stderr",
     "output_type": "stream",
     "text": [
      "/usr/local/lib/python3.10/dist-packages/accelerate/accelerator.py:436: FutureWarning: Passing the following arguments to `Accelerator` is deprecated and will be removed in version 1.0 of Accelerate: dict_keys(['dispatch_batches', 'split_batches', 'even_batches', 'use_seedable_sampler']). Please pass an `accelerate.DataLoaderConfiguration` instead: \n",
      "dataloader_config = DataLoaderConfiguration(dispatch_batches=None, split_batches=False, even_batches=True, use_seedable_sampler=True)\n",
      "  warnings.warn(\n"
     ]
    }
   ],
   "source": [
    "trainer = Seq2SeqTrainer(\n",
    "   model=model,\n",
    "   args=training_args,\n",
    "   train_dataset=tokenized_dataset[\"train\"],\n",
    "   eval_dataset=tokenized_dataset[\"test\"],\n",
    "   tokenizer=tokenizer,\n",
    "   data_collator=data_collator,\n",
    "   compute_metrics=compute_metrics\n",
    ")"
   ]
  },
  {
   "cell_type": "code",
   "execution_count": 37,
   "metadata": {
    "colab": {
     "base_uri": "https://localhost:8080/",
     "height": 566
    },
    "id": "Xh2phxjytchF",
    "outputId": "2060ca32-0a23-446d-b929-7274b2530924"
   },
   "outputs": [
    {
     "data": {
      "text/html": [
       "\n",
       "    <div>\n",
       "      \n",
       "      <progress value='3701' max='3700' style='width:300px; height:20px; vertical-align: middle;'></progress>\n",
       "      [3700/3700 22:25, Epoch 4/4]\n",
       "    </div>\n",
       "    <table border=\"1\" class=\"dataframe\">\n",
       "  <thead>\n",
       " <tr style=\"text-align: left;\">\n",
       "      <th>Epoch</th>\n",
       "      <th>Training Loss</th>\n",
       "      <th>Validation Loss</th>\n",
       "      <th>Rouge1</th>\n",
       "      <th>Rouge2</th>\n",
       "      <th>Rougel</th>\n",
       "      <th>Rougelsum</th>\n",
       "    </tr>\n",
       "  </thead>\n",
       "  <tbody>\n",
       "    <tr>\n",
       "      <td>1</td>\n",
       "      <td>0.583500</td>\n",
       "      <td>0.481565</td>\n",
       "      <td>0.746599</td>\n",
       "      <td>0.479322</td>\n",
       "      <td>0.746051</td>\n",
       "      <td>0.746312</td>\n",
       "    </tr>\n",
       "    <tr>\n",
       "      <td>2</td>\n",
       "      <td>0.445000</td>\n",
       "      <td>0.496622</td>\n",
       "      <td>0.747429</td>\n",
       "      <td>0.472507</td>\n",
       "      <td>0.747172</td>\n",
       "      <td>0.747430</td>\n",
       "    </tr>\n",
       "    <tr>\n",
       "      <td>3</td>\n",
       "      <td>0.308200</td>\n",
       "      <td>0.512347</td>\n",
       "      <td>0.757324</td>\n",
       "      <td>0.479703</td>\n",
       "      <td>0.757723</td>\n",
       "      <td>0.757696</td>\n",
       "    </tr>\n",
       "  </tbody>\n",
       "</table><p>\n",
       "    <div>\n",
       "      \n",
       "      <progress value='493' max='793' style='width:300px; height:20px; vertical-align: middle;'></progress>\n",
       "      [493/793 01:26 < 00:52, 5.67 it/s]\n",
       "    </div>\n",
       "    "
      ],
      "text/plain": [
       "<IPython.core.display.HTML object>"
      ]
     },
     "metadata": {},
     "output_type": "display_data"
    },
    {
     "metadata": {
      "tags": null
     },
     "name": "stderr",
     "output_type": "stream",
     "text": [
      "/usr/local/lib/python3.10/dist-packages/transformers/generation/utils.py:1178: UserWarning: Using the model-agnostic default `max_length` (=20) to control the generation length. We recommend setting `max_new_tokens` to control the maximum length of the generation.\n",
      "  warnings.warn(\n",
      "/usr/local/lib/python3.10/dist-packages/transformers/generation/utils.py:1178: UserWarning: Using the model-agnostic default `max_length` (=20) to control the generation length. We recommend setting `max_new_tokens` to control the maximum length of the generation.\n",
      "  warnings.warn(\n",
      "/usr/local/lib/python3.10/dist-packages/transformers/generation/utils.py:1178: UserWarning: Using the model-agnostic default `max_length` (=20) to control the generation length. We recommend setting `max_new_tokens` to control the maximum length of the generation.\n",
      "  warnings.warn(\n",
      "/usr/local/lib/python3.10/dist-packages/transformers/generation/utils.py:1178: UserWarning: Using the model-agnostic default `max_length` (=20) to control the generation length. We recommend setting `max_new_tokens` to control the maximum length of the generation.\n",
      "  warnings.warn(\n"
     ]
    },
    {
     "data": {
      "text/html": [
       "\n",
       "    <div>\n",
       "      \n",
       "      <progress value='3700' max='3700' style='width:300px; height:20px; vertical-align: middle;'></progress>\n",
       "      [3700/3700 25:02, Epoch 4/4]\n",
       "    </div>\n",
       "    <table border=\"1\" class=\"dataframe\">\n",
       "  <thead>\n",
       " <tr style=\"text-align: left;\">\n",
       "      <th>Epoch</th>\n",
       "      <th>Training Loss</th>\n",
       "      <th>Validation Loss</th>\n",
       "      <th>Rouge1</th>\n",
       "      <th>Rouge2</th>\n",
       "      <th>Rougel</th>\n",
       "      <th>Rougelsum</th>\n",
       "    </tr>\n",
       "  </thead>\n",
       "  <tbody>\n",
       "    <tr>\n",
       "      <td>1</td>\n",
       "      <td>0.583500</td>\n",
       "      <td>0.481565</td>\n",
       "      <td>0.746599</td>\n",
       "      <td>0.479322</td>\n",
       "      <td>0.746051</td>\n",
       "      <td>0.746312</td>\n",
       "    </tr>\n",
       "    <tr>\n",
       "      <td>2</td>\n",
       "      <td>0.445000</td>\n",
       "      <td>0.496622</td>\n",
       "      <td>0.747429</td>\n",
       "      <td>0.472507</td>\n",
       "      <td>0.747172</td>\n",
       "      <td>0.747430</td>\n",
       "    </tr>\n",
       "    <tr>\n",
       "      <td>3</td>\n",
       "      <td>0.308200</td>\n",
       "      <td>0.512347</td>\n",
       "      <td>0.757324</td>\n",
       "      <td>0.479703</td>\n",
       "      <td>0.757723</td>\n",
       "      <td>0.757696</td>\n",
       "    </tr>\n",
       "    <tr>\n",
       "      <td>4</td>\n",
       "      <td>0.225500</td>\n",
       "      <td>0.547093</td>\n",
       "      <td>0.763898</td>\n",
       "      <td>0.490283</td>\n",
       "      <td>0.763500</td>\n",
       "      <td>0.763860</td>\n",
       "    </tr>\n",
       "  </tbody>\n",
       "</table><p>"
      ],
      "text/plain": [
       "<IPython.core.display.HTML object>"
      ]
     },
     "metadata": {},
     "output_type": "display_data"
    },
    {
     "data": {
      "text/plain": [
       "TrainOutput(global_step=3700, training_loss=0.39542021674078864, metrics={'train_runtime': 1502.7839, 'train_samples_per_second': 19.694, 'train_steps_per_second': 2.462, 'total_flos': 3628742401474560.0, 'train_loss': 0.39542021674078864, 'epoch': 4.0})"
      ]
     },
     "execution_count": 37,
     "metadata": {},
     "output_type": "execute_result"
    }
   ],
   "source": [
    "trainer.train()"
   ]
  },
  {
   "cell_type": "markdown",
   "metadata": {
    "id": "y5ZKjKEswP8e"
   },
   "source": [
    "## 12. Evaluate the quality of the model"
   ]
  },
  {
   "cell_type": "markdown",
   "metadata": {
    "id": "sS1yQi4BS26h"
   },
   "source": [
    "__Rouge Metrics (Rouge1, Rouge2, Rougel, and Rougelsum):__ Higher values in these metrics are preferable as they indicate better text q&A performance. Across all four Rouge metrics, the values have increased over the epochs, with the highest values recorded in epoch 4\n",
    "\n",
    "__Training Loss and Validation Loss:__ Lower values in these metrics are preferable as they indicate a better fit of the model to the data. The training and validation loss has decreased over the epochs, with the lowest values recorded in epoch 4."
   ]
  },
  {
   "cell_type": "markdown",
   "metadata": {
    "id": "6eP_dxELVdQk"
   },
   "source": [
    "![image.png](data:image/png;base64,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)"
   ]
  },
  {
   "cell_type": "markdown",
   "metadata": {
    "id": "0_hSD_hbTJWs"
   },
   "source": [
    "## Model Inference"
   ]
  },
  {
   "cell_type": "code",
   "execution_count": 40,
   "metadata": {
    "id": "vggEmqMGagGR"
   },
   "outputs": [],
   "source": [
    "import glob"
   ]
  },
  {
   "cell_type": "code",
   "execution_count": 42,
   "metadata": {
    "id": "aKy_XNuBaiWC"
   },
   "outputs": [],
   "source": [
    "filelist = glob.glob('./results/*', recursive = True)"
   ]
  },
  {
   "cell_type": "code",
   "execution_count": 43,
   "metadata": {
    "colab": {
     "base_uri": "https://localhost:8080/"
    },
    "id": "XL3RMED8auZq",
    "outputId": "4aa0ef4d-ed2a-4467-bc1e-8064047cd81e"
   },
   "outputs": [
    {
     "data": {
      "text/plain": [
       "['./results/checkpoint-2500',\n",
       " './results/checkpoint-3500',\n",
       " './results/runs',\n",
       " './results/checkpoint-3000']"
      ]
     },
     "execution_count": 43,
     "metadata": {},
     "output_type": "execute_result"
    }
   ],
   "source": [
    "filelist"
   ]
  },
  {
   "cell_type": "code",
   "execution_count": 44,
   "metadata": {
    "colab": {
     "base_uri": "https://localhost:8080/"
    },
    "id": "z_QDPy_4wNH9",
    "outputId": "b51c1955-6830-4a10-f0cb-9ad20dd13aba"
   },
   "outputs": [
    {
     "name": "stderr",
     "output_type": "stream",
     "text": [
      "Special tokens have been added in the vocabulary, make sure the associated word embeddings are fine-tuned or trained.\n"
     ]
    }
   ],
   "source": [
    "last_checkpoint = \"./results/checkpoint-3500\"\n",
    "\n",
    "finetuned_model = T5ForConditionalGeneration.from_pretrained(last_checkpoint)\n",
    "tokenizer = T5Tokenizer.from_pretrained(last_checkpoint)"
   ]
  },
  {
   "cell_type": "markdown",
   "metadata": {
    "id": "pc1dvBcldwjB"
   },
   "source": [
    "__I have taken the squad validation set for training. Now let us use some sample from training set for inferencing__"
   ]
  },
  {
   "cell_type": "code",
   "execution_count": 47,
   "metadata": {
    "colab": {
     "base_uri": "https://localhost:8080/"
    },
    "id": "_jGn8q9hdz15",
    "outputId": "42a992ed-f2f7-4d67-8382-a9182115a56a"
   },
   "outputs": [
    {
     "data": {
      "text/plain": [
       "{'id': '5733be284776f41900661180',\n",
       " 'title': 'University_of_Notre_Dame',\n",
       " 'context': 'Architecturally, the school has a Catholic character. Atop the Main Building\\'s gold dome is a golden statue of the Virgin Mary. Immediately in front of the Main Building and facing it, is a copper statue of Christ with arms upraised with the legend \"Venite Ad Me Omnes\". Next to the Main Building is the Basilica of the Sacred Heart. Immediately behind the basilica is the Grotto, a Marian place of prayer and reflection. It is a replica of the grotto at Lourdes, France where the Virgin Mary reputedly appeared to Saint Bernadette Soubirous in 1858. At the end of the main drive (and in a direct line that connects through 3 statues and the Gold Dome), is a simple, modern stone statue of Mary.',\n",
       " 'question': 'The Basilica of the Sacred heart at Notre Dame is beside to which structure?',\n",
       " 'answers': {'text': ['the Main Building'], 'answer_start': [279]}}"
      ]
     },
     "execution_count": 47,
     "metadata": {},
     "output_type": "execute_result"
    }
   ],
   "source": [
    "dataset[\"train\"][2]"
   ]
  },
  {
   "cell_type": "code",
   "execution_count": 51,
   "metadata": {
    "id": "5SH_qWeVdlcB"
   },
   "outputs": [],
   "source": [
    "prefix = \"Answer the qs: \"\n",
    "context= \"\"\"Architecturally, the school has a Catholic character. Atop the Main Building\\'s gold dome is a golden statue of the Virgin Mary. Immediately in front of the Main Building and facing it, is a copper statue of Christ with arms upraised with the legend \"Venite Ad Me Omnes\". Next to the Main Building is the Basilica of the Sacred Heart. Immediately behind the basilica is the Grotto, a Marian place of prayer and reflection. It is a replica of the grotto at Lourdes, France where the Virgin Mary reputedly appeared to Saint Bernadette Soubirous in 1858.\"\"\"\n",
    "question= \"The Basilica of the Sacred heart at Notre Dame is beside to which structure?\"\n",
    "inference_input = prefix + question + 'Given context: ' + context"
   ]
  },
  {
   "cell_type": "code",
   "execution_count": 53,
   "metadata": {
    "colab": {
     "base_uri": "https://localhost:8080/"
    },
    "id": "WuSwVH2-d3NJ",
    "outputId": "3719e1b5-8014-41c4-cd91-a12a68dd1fdb"
   },
   "outputs": [
    {
     "name": "stdout",
     "output_type": "stream",
     "text": [
      "<pad> Main Building</s>\n"
     ]
    }
   ],
   "source": [
    "inputs = tokenizer(inference_input, return_tensors=\"pt\")\n",
    "outputs = finetuned_model.generate(**inputs)\n",
    "answer = tokenizer.decode(outputs[0])\n",
    "from textwrap import fill\n",
    "\n",
    "print(fill(answer, width=80))"
   ]
  },
  {
   "cell_type": "markdown",
   "metadata": {
    "id": "bhU9dMsjfBLW"
   },
   "source": [
    "__Working__"
   ]
  },
  {
   "cell_type": "code",
   "execution_count": 56,
   "metadata": {
    "colab": {
     "base_uri": "https://localhost:8080/"
    },
    "id": "DBuoguZtdhod",
    "outputId": "1672f8ca-7cd8-40e0-dc64-e42136f6f7f4"
   },
   "outputs": [
    {
     "data": {
      "text/plain": [
       "{'id': '5733849bd058e614000b5c56',\n",
       " 'title': 'University_of_Notre_Dame',\n",
       " 'context': \"In 1842, the Bishop of Vincennes, Célestine Guynemer de la Hailandière, offered land to Father Edward Sorin of the Congregation of the Holy Cross, on the condition that he build a college in two years. Fr. Sorin arrived on the site with eight Holy Cross brothers from France and Ireland on November 26, 1842, and began the school using Father Stephen Badin's old log chapel. He soon erected additional buildings, including Old College, the first church, and the first main building. They immediately acquired two students and set about building additions to the campus.\",\n",
       " 'question': 'In what year was Father Edward Sorin given two years to create a college?',\n",
       " 'answers': {'text': ['1842'], 'answer_start': [3]}}"
      ]
     },
     "execution_count": 56,
     "metadata": {},
     "output_type": "execute_result"
    }
   ],
   "source": [
    "#Lets take another sample\n",
    "dataset[\"train\"][200]"
   ]
  },
  {
   "cell_type": "code",
   "execution_count": 57,
   "metadata": {
    "id": "Rf0sulLOfKha"
   },
   "outputs": [],
   "source": [
    "prefix = \"Answer the qs: \"\n",
    "context= \"\"\"In 1842, the Bishop of Vincennes, Célestine Guynemer de la Hailandière, offered land to Father Edward Sorin of the Congregation of the Holy Cross, on the condition that he build a college in two years. Fr. Sorin arrived on the site with eight Holy Cross brothers from France and Ireland on November 26, 1842, and began the school using Father Stephen Badin's old log chapel. He soon erected additional buildings, including Old College, the first church, and the first main building.\"\"\"\n",
    "question= \"In what year was Father Edward Sorin given two years to create a college?\"\n",
    "inference_input = prefix + question + 'Given context: ' + context"
   ]
  },
  {
   "cell_type": "code",
   "execution_count": 58,
   "metadata": {
    "colab": {
     "base_uri": "https://localhost:8080/"
    },
    "id": "0CetvGYwfKZE",
    "outputId": "7126ce2d-3e71-46c9-fc8c-9e18f748fc70"
   },
   "outputs": [
    {
     "name": "stdout",
     "output_type": "stream",
     "text": [
      "<pad> 1842</s>\n"
     ]
    },
    {
     "name": "stderr",
     "output_type": "stream",
     "text": [
      "/usr/local/lib/python3.10/dist-packages/transformers/generation/utils.py:1178: UserWarning: Using the model-agnostic default `max_length` (=20) to control the generation length. We recommend setting `max_new_tokens` to control the maximum length of the generation.\n",
      "  warnings.warn(\n"
     ]
    }
   ],
   "source": [
    "inputs = tokenizer(inference_input, return_tensors=\"pt\")\n",
    "outputs = finetuned_model.generate(**inputs)\n",
    "answer = tokenizer.decode(outputs[0])\n",
    "from textwrap import fill\n",
    "\n",
    "print(fill(answer, width=80))"
   ]
  },
  {
   "cell_type": "markdown",
   "metadata": {
    "id": "Nz_8G1e2fO8y"
   },
   "source": [
    "__Working__"
   ]
  },
  {
   "cell_type": "markdown",
   "metadata": {
    "id": "XHOiONONglti"
   },
   "source": [
    "So far this has worked."
   ]
  },
  {
   "cell_type": "markdown",
   "metadata": {
    "id": "D6Dzk5yPf4kD"
   },
   "source": [
    "__Limitation__: Flan-T5 has not been tested in real world applications."
   ]
  },
  {
   "cell_type": "markdown",
   "metadata": {
    "id": "D8_vcT3je5SN"
   },
   "source": [
    "### Future Task\n"
   ]
  },
  {
   "cell_type": "markdown",
   "metadata": {
    "id": "nc-mWq7Pf_nT"
   },
   "source": [
    "* Train on traing data on squad dataset. Use version 2 as well\n",
    "* Data preprocessing\n",
    "* Hyperparameter tuning\n",
    "* Train same model over different task"
   ]
  },
  {
   "cell_type": "code",
   "execution_count": 55,
   "metadata": {
    "id": "MCZCsFZHe7dR"
   },
   "outputs": [],
   "source": [
    "#END"
   ]
  },
  {
   "cell_type": "code",
   "execution_count": null,
   "metadata": {
    "id": "m4iQRnLkgUsV"
   },
   "outputs": [],
   "source": []
  }
 ],
 "metadata": {
  "accelerator": "GPU",
  "colab": {
   "gpuType": "T4",
   "provenance": []
  },
  "kernelspec": {
   "display_name": "Python 3 (ipykernel)",
   "language": "python",
   "name": "python3"
  },
  "language_info": {
   "codemirror_mode": {
    "name": "ipython",
    "version": 3
   },
   "file_extension": ".py",
   "mimetype": "text/x-python",
   "name": "python",
   "nbconvert_exporter": "python",
   "pygments_lexer": "ipython3",
   "version": "3.9.13"
  },
  "widgets": {
   "application/vnd.jupyter.widget-state+json": {
    "005a30af0ac04fbbb69fa0b021c42fa5": {
     "model_module": "@jupyter-widgets/controls",
     "model_module_version": "1.5.0",
     "model_name": "HTMLModel",
     "state": {
      "_dom_classes": [],
      "_model_module": "@jupyter-widgets/controls",
      "_model_module_version": "1.5.0",
      "_model_name": "HTMLModel",
      "_view_count": null,
      "_view_module": "@jupyter-widgets/controls",
      "_view_module_version": "1.5.0",
      "_view_name": "HTMLView",
      "description": "",
      "description_tooltip": null,
      "layout": "IPY_MODEL_0d11867c57b54853b9a75737e6b7030b",
      "placeholder": "​",
      "style": "IPY_MODEL_f05a3dc491be4f8786c43f84f3acc9cc",
      "value": "special_tokens_map.json: 100%"
     }
    },
    "03daf03e554443f5a1ff9ed4b16e02a6": {
     "model_module": "@jupyter-widgets/controls",
     "model_module_version": "1.5.0",
     "model_name": "HTMLModel",
     "state": {
      "_dom_classes": [],
      "_model_module": "@jupyter-widgets/controls",
      "_model_module_version": "1.5.0",
      "_model_name": "HTMLModel",
      "_view_count": null,
      "_view_module": "@jupyter-widgets/controls",
      "_view_module_version": "1.5.0",
      "_view_name": "HTMLView",
      "description": "",
      "description_tooltip": null,
      "layout": "IPY_MODEL_df5dd6cb7e764e0a910f2711cc267ece",
      "placeholder": "​",
      "style": "IPY_MODEL_71fef024199b47b4b151a689e461ede1",
      "value": " 1.40k/1.40k [00:00&lt;00:00, 91.8kB/s]"
     }
    },
    "08c451067d6f4209ba8cc451980196f0": {
     "model_module": "@jupyter-widgets/controls",
     "model_module_version": "1.5.0",
     "model_name": "HTMLModel",
     "state": {
      "_dom_classes": [],
      "_model_module": "@jupyter-widgets/controls",
      "_model_module_version": "1.5.0",
      "_model_name": "HTMLModel",
      "_view_count": null,
      "_view_module": "@jupyter-widgets/controls",
      "_view_module_version": "1.5.0",
      "_view_name": "HTMLView",
      "description": "",
      "description_tooltip": null,
      "layout": "IPY_MODEL_13572b0b5bf74fd2b08b330be258de4c",
      "placeholder": "​",
      "style": "IPY_MODEL_333d08ad557d46a4960fb65a6365875e",
      "value": "generation_config.json: 100%"
     }
    },
    "0918873cebb14deebb2af2eaeac61f11": {
     "model_module": "@jupyter-widgets/base",
     "model_module_version": "1.2.0",
     "model_name": "LayoutModel",
     "state": {
      "_model_module": "@jupyter-widgets/base",
      "_model_module_version": "1.2.0",
      "_model_name": "LayoutModel",
      "_view_count": null,
      "_view_module": "@jupyter-widgets/base",
      "_view_module_version": "1.2.0",
      "_view_name": "LayoutView",
      "align_content": null,
      "align_items": null,
      "align_self": null,
      "border": null,
      "bottom": null,
      "display": null,
      "flex": null,
      "flex_flow": null,
      "grid_area": null,
      "grid_auto_columns": null,
      "grid_auto_flow": null,
      "grid_auto_rows": null,
      "grid_column": null,
      "grid_gap": null,
      "grid_row": null,
      "grid_template_areas": null,
      "grid_template_columns": null,
      "grid_template_rows": null,
      "height": null,
      "justify_content": null,
      "justify_items": null,
      "left": null,
      "margin": null,
      "max_height": null,
      "max_width": null,
      "min_height": null,
      "min_width": null,
      "object_fit": null,
      "object_position": null,
      "order": null,
      "overflow": null,
      "overflow_x": null,
      "overflow_y": null,
      "padding": null,
      "right": null,
      "top": null,
      "visibility": null,
      "width": null
     }
    },
    "0a328f34f7594844a2ea68ea077ba7ae": {
     "model_module": "@jupyter-widgets/controls",
     "model_module_version": "1.5.0",
     "model_name": "DescriptionStyleModel",
     "state": {
      "_model_module": "@jupyter-widgets/controls",
      "_model_module_version": "1.5.0",
      "_model_name": "DescriptionStyleModel",
      "_view_count": null,
      "_view_module": "@jupyter-widgets/base",
      "_view_module_version": "1.2.0",
      "_view_name": "StyleView",
      "description_width": ""
     }
    },
    "0a405ebec4e64a33b0cbaa22e9bf4fac": {
     "model_module": "@jupyter-widgets/controls",
     "model_module_version": "1.5.0",
     "model_name": "ProgressStyleModel",
     "state": {
      "_model_module": "@jupyter-widgets/controls",
      "_model_module_version": "1.5.0",
      "_model_name": "ProgressStyleModel",
      "_view_count": null,
      "_view_module": "@jupyter-widgets/base",
      "_view_module_version": "1.2.0",
      "_view_name": "StyleView",
      "bar_color": null,
      "description_width": ""
     }
    },
    "0a6e6490795b43699b1aa46233cfa0bc": {
     "model_module": "@jupyter-widgets/controls",
     "model_module_version": "1.5.0",
     "model_name": "FloatProgressModel",
     "state": {
      "_dom_classes": [],
      "_model_module": "@jupyter-widgets/controls",
      "_model_module_version": "1.5.0",
      "_model_name": "FloatProgressModel",
      "_view_count": null,
      "_view_module": "@jupyter-widgets/controls",
      "_view_module_version": "1.5.0",
      "_view_name": "ProgressView",
      "bar_style": "success",
      "description": "",
      "description_tooltip": null,
      "layout": "IPY_MODEL_d29390e5e818435b80f3d1b4776859a8",
      "max": 14458314,
      "min": 0,
      "orientation": "horizontal",
      "style": "IPY_MODEL_1d84a7d2e3334dcfa262f57183cef684",
      "value": 14458314
     }
    },
    "0c26586acfd7442ca7c5b3e3a0572695": {
     "model_module": "@jupyter-widgets/base",
     "model_module_version": "1.2.0",
     "model_name": "LayoutModel",
     "state": {
      "_model_module": "@jupyter-widgets/base",
      "_model_module_version": "1.2.0",
      "_model_name": "LayoutModel",
      "_view_count": null,
      "_view_module": "@jupyter-widgets/base",
      "_view_module_version": "1.2.0",
      "_view_name": "LayoutView",
      "align_content": null,
      "align_items": null,
      "align_self": null,
      "border": null,
      "bottom": null,
      "display": null,
      "flex": null,
      "flex_flow": null,
      "grid_area": null,
      "grid_auto_columns": null,
      "grid_auto_flow": null,
      "grid_auto_rows": null,
      "grid_column": null,
      "grid_gap": null,
      "grid_row": null,
      "grid_template_areas": null,
      "grid_template_columns": null,
      "grid_template_rows": null,
      "height": null,
      "justify_content": null,
      "justify_items": null,
      "left": null,
      "margin": null,
      "max_height": null,
      "max_width": null,
      "min_height": null,
      "min_width": null,
      "object_fit": null,
      "object_position": null,
      "order": null,
      "overflow": null,
      "overflow_x": null,
      "overflow_y": null,
      "padding": null,
      "right": null,
      "top": null,
      "visibility": null,
      "width": null
     }
    },
    "0d11867c57b54853b9a75737e6b7030b": {
     "model_module": "@jupyter-widgets/base",
     "model_module_version": "1.2.0",
     "model_name": "LayoutModel",
     "state": {
      "_model_module": "@jupyter-widgets/base",
      "_model_module_version": "1.2.0",
      "_model_name": "LayoutModel",
      "_view_count": null,
      "_view_module": "@jupyter-widgets/base",
      "_view_module_version": "1.2.0",
      "_view_name": "LayoutView",
      "align_content": null,
      "align_items": null,
      "align_self": null,
      "border": null,
      "bottom": null,
      "display": null,
      "flex": null,
      "flex_flow": null,
      "grid_area": null,
      "grid_auto_columns": null,
      "grid_auto_flow": null,
      "grid_auto_rows": null,
      "grid_column": null,
      "grid_gap": null,
      "grid_row": null,
      "grid_template_areas": null,
      "grid_template_columns": null,
      "grid_template_rows": null,
      "height": null,
      "justify_content": null,
      "justify_items": null,
      "left": null,
      "margin": null,
      "max_height": null,
      "max_width": null,
      "min_height": null,
      "min_width": null,
      "object_fit": null,
      "object_position": null,
      "order": null,
      "overflow": null,
      "overflow_x": null,
      "overflow_y": null,
      "padding": null,
      "right": null,
      "top": null,
      "visibility": null,
      "width": null
     }
    },
    "0e5437b30b1146a0970bb1e6d0539b3d": {
     "model_module": "@jupyter-widgets/controls",
     "model_module_version": "1.5.0",
     "model_name": "HTMLModel",
     "state": {
      "_dom_classes": [],
      "_model_module": "@jupyter-widgets/controls",
      "_model_module_version": "1.5.0",
      "_model_name": "HTMLModel",
      "_view_count": null,
      "_view_module": "@jupyter-widgets/controls",
      "_view_module_version": "1.5.0",
      "_view_name": "HTMLView",
      "description": "",
      "description_tooltip": null,
      "layout": "IPY_MODEL_6bd59dda04424ac7b2d22893ab7b8a22",
      "placeholder": "​",
      "style": "IPY_MODEL_cde548cc3d3b4fae83eadb5d5861b3a4",
      "value": "Downloading data: 100%"
     }
    },
    "1204e9998c2a4b86abc10ba60664d588": {
     "model_module": "@jupyter-widgets/base",
     "model_module_version": "1.2.0",
     "model_name": "LayoutModel",
     "state": {
      "_model_module": "@jupyter-widgets/base",
      "_model_module_version": "1.2.0",
      "_model_name": "LayoutModel",
      "_view_count": null,
      "_view_module": "@jupyter-widgets/base",
      "_view_module_version": "1.2.0",
      "_view_name": "LayoutView",
      "align_content": null,
      "align_items": null,
      "align_self": null,
      "border": null,
      "bottom": null,
      "display": null,
      "flex": null,
      "flex_flow": null,
      "grid_area": null,
      "grid_auto_columns": null,
      "grid_auto_flow": null,
      "grid_auto_rows": null,
      "grid_column": null,
      "grid_gap": null,
      "grid_row": null,
      "grid_template_areas": null,
      "grid_template_columns": null,
      "grid_template_rows": null,
      "height": null,
      "justify_content": null,
      "justify_items": null,
      "left": null,
      "margin": null,
      "max_height": null,
      "max_width": null,
      "min_height": null,
      "min_width": null,
      "object_fit": null,
      "object_position": null,
      "order": null,
      "overflow": null,
      "overflow_x": null,
      "overflow_y": null,
      "padding": null,
      "right": null,
      "top": null,
      "visibility": null,
      "width": null
     }
    },
    "121a7431331b4746bb5a8c9b0eba4167": {
     "model_module": "@jupyter-widgets/base",
     "model_module_version": "1.2.0",
     "model_name": "LayoutModel",
     "state": {
      "_model_module": "@jupyter-widgets/base",
      "_model_module_version": "1.2.0",
      "_model_name": "LayoutModel",
      "_view_count": null,
      "_view_module": "@jupyter-widgets/base",
      "_view_module_version": "1.2.0",
      "_view_name": "LayoutView",
      "align_content": null,
      "align_items": null,
      "align_self": null,
      "border": null,
      "bottom": null,
      "display": null,
      "flex": null,
      "flex_flow": null,
      "grid_area": null,
      "grid_auto_columns": null,
      "grid_auto_flow": null,
      "grid_auto_rows": null,
      "grid_column": null,
      "grid_gap": null,
      "grid_row": null,
      "grid_template_areas": null,
      "grid_template_columns": null,
      "grid_template_rows": null,
      "height": null,
      "justify_content": null,
      "justify_items": null,
      "left": null,
      "margin": null,
      "max_height": null,
      "max_width": null,
      "min_height": null,
      "min_width": null,
      "object_fit": null,
      "object_position": null,
      "order": null,
      "overflow": null,
      "overflow_x": null,
      "overflow_y": null,
      "padding": null,
      "right": null,
      "top": null,
      "visibility": null,
      "width": null
     }
    },
    "13572b0b5bf74fd2b08b330be258de4c": {
     "model_module": "@jupyter-widgets/base",
     "model_module_version": "1.2.0",
     "model_name": "LayoutModel",
     "state": {
      "_model_module": "@jupyter-widgets/base",
      "_model_module_version": "1.2.0",
      "_model_name": "LayoutModel",
      "_view_count": null,
      "_view_module": "@jupyter-widgets/base",
      "_view_module_version": "1.2.0",
      "_view_name": "LayoutView",
      "align_content": null,
      "align_items": null,
      "align_self": null,
      "border": null,
      "bottom": null,
      "display": null,
      "flex": null,
      "flex_flow": null,
      "grid_area": null,
      "grid_auto_columns": null,
      "grid_auto_flow": null,
      "grid_auto_rows": null,
      "grid_column": null,
      "grid_gap": null,
      "grid_row": null,
      "grid_template_areas": null,
      "grid_template_columns": null,
      "grid_template_rows": null,
      "height": null,
      "justify_content": null,
      "justify_items": null,
      "left": null,
      "margin": null,
      "max_height": null,
      "max_width": null,
      "min_height": null,
      "min_width": null,
      "object_fit": null,
      "object_position": null,
      "order": null,
      "overflow": null,
      "overflow_x": null,
      "overflow_y": null,
      "padding": null,
      "right": null,
      "top": null,
      "visibility": null,
      "width": null
     }
    },
    "13dcddeb82a64cf280989d83c896f994": {
     "model_module": "@jupyter-widgets/base",
     "model_module_version": "1.2.0",
     "model_name": "LayoutModel",
     "state": {
      "_model_module": "@jupyter-widgets/base",
      "_model_module_version": "1.2.0",
      "_model_name": "LayoutModel",
      "_view_count": null,
      "_view_module": "@jupyter-widgets/base",
      "_view_module_version": "1.2.0",
      "_view_name": "LayoutView",
      "align_content": null,
      "align_items": null,
      "align_self": null,
      "border": null,
      "bottom": null,
      "display": null,
      "flex": null,
      "flex_flow": null,
      "grid_area": null,
      "grid_auto_columns": null,
      "grid_auto_flow": null,
      "grid_auto_rows": null,
      "grid_column": null,
      "grid_gap": null,
      "grid_row": null,
      "grid_template_areas": null,
      "grid_template_columns": null,
      "grid_template_rows": null,
      "height": null,
      "justify_content": null,
      "justify_items": null,
      "left": null,
      "margin": null,
      "max_height": null,
      "max_width": null,
      "min_height": null,
      "min_width": null,
      "object_fit": null,
      "object_position": null,
      "order": null,
      "overflow": null,
      "overflow_x": null,
      "overflow_y": null,
      "padding": null,
      "right": null,
      "top": null,
      "visibility": null,
      "width": null
     }
    },
    "1c543b02052141a9a9d892e4abcd2c67": {
     "model_module": "@jupyter-widgets/controls",
     "model_module_version": "1.5.0",
     "model_name": "ProgressStyleModel",
     "state": {
      "_model_module": "@jupyter-widgets/controls",
      "_model_module_version": "1.5.0",
      "_model_name": "ProgressStyleModel",
      "_view_count": null,
      "_view_module": "@jupyter-widgets/base",
      "_view_module_version": "1.2.0",
      "_view_name": "StyleView",
      "bar_color": null,
      "description_width": ""
     }
    },
    "1c650a26519541358a61de006884a048": {
     "model_module": "@jupyter-widgets/base",
     "model_module_version": "1.2.0",
     "model_name": "LayoutModel",
     "state": {
      "_model_module": "@jupyter-widgets/base",
      "_model_module_version": "1.2.0",
      "_model_name": "LayoutModel",
      "_view_count": null,
      "_view_module": "@jupyter-widgets/base",
      "_view_module_version": "1.2.0",
      "_view_name": "LayoutView",
      "align_content": null,
      "align_items": null,
      "align_self": null,
      "border": null,
      "bottom": null,
      "display": null,
      "flex": null,
      "flex_flow": null,
      "grid_area": null,
      "grid_auto_columns": null,
      "grid_auto_flow": null,
      "grid_auto_rows": null,
      "grid_column": null,
      "grid_gap": null,
      "grid_row": null,
      "grid_template_areas": null,
      "grid_template_columns": null,
      "grid_template_rows": null,
      "height": null,
      "justify_content": null,
      "justify_items": null,
      "left": null,
      "margin": null,
      "max_height": null,
      "max_width": null,
      "min_height": null,
      "min_width": null,
      "object_fit": null,
      "object_position": null,
      "order": null,
      "overflow": null,
      "overflow_x": null,
      "overflow_y": null,
      "padding": null,
      "right": null,
      "top": null,
      "visibility": null,
      "width": null
     }
    },
    "1c9205f96a754233b9cb4c18f0e27ec4": {
     "model_module": "@jupyter-widgets/controls",
     "model_module_version": "1.5.0",
     "model_name": "DescriptionStyleModel",
     "state": {
      "_model_module": "@jupyter-widgets/controls",
      "_model_module_version": "1.5.0",
      "_model_name": "DescriptionStyleModel",
      "_view_count": null,
      "_view_module": "@jupyter-widgets/base",
      "_view_module_version": "1.2.0",
      "_view_name": "StyleView",
      "description_width": ""
     }
    },
    "1d84a7d2e3334dcfa262f57183cef684": {
     "model_module": "@jupyter-widgets/controls",
     "model_module_version": "1.5.0",
     "model_name": "ProgressStyleModel",
     "state": {
      "_model_module": "@jupyter-widgets/controls",
      "_model_module_version": "1.5.0",
      "_model_name": "ProgressStyleModel",
      "_view_count": null,
      "_view_module": "@jupyter-widgets/base",
      "_view_module_version": "1.2.0",
      "_view_name": "StyleView",
      "bar_color": null,
      "description_width": ""
     }
    },
    "1fe924619e834722bd468eb94deac112": {
     "model_module": "@jupyter-widgets/base",
     "model_module_version": "1.2.0",
     "model_name": "LayoutModel",
     "state": {
      "_model_module": "@jupyter-widgets/base",
      "_model_module_version": "1.2.0",
      "_model_name": "LayoutModel",
      "_view_count": null,
      "_view_module": "@jupyter-widgets/base",
      "_view_module_version": "1.2.0",
      "_view_name": "LayoutView",
      "align_content": null,
      "align_items": null,
      "align_self": null,
      "border": null,
      "bottom": null,
      "display": null,
      "flex": null,
      "flex_flow": null,
      "grid_area": null,
      "grid_auto_columns": null,
      "grid_auto_flow": null,
      "grid_auto_rows": null,
      "grid_column": null,
      "grid_gap": null,
      "grid_row": null,
      "grid_template_areas": null,
      "grid_template_columns": null,
      "grid_template_rows": null,
      "height": null,
      "justify_content": null,
      "justify_items": null,
      "left": null,
      "margin": null,
      "max_height": null,
      "max_width": null,
      "min_height": null,
      "min_width": null,
      "object_fit": null,
      "object_position": null,
      "order": null,
      "overflow": null,
      "overflow_x": null,
      "overflow_y": null,
      "padding": null,
      "right": null,
      "top": null,
      "visibility": null,
      "width": null
     }
    },
    "202792f70b64416b9c76297815f9a43e": {
     "model_module": "@jupyter-widgets/controls",
     "model_module_version": "1.5.0",
     "model_name": "HTMLModel",
     "state": {
      "_dom_classes": [],
      "_model_module": "@jupyter-widgets/controls",
      "_model_module_version": "1.5.0",
      "_model_name": "HTMLModel",
      "_view_count": null,
      "_view_module": "@jupyter-widgets/controls",
      "_view_module_version": "1.5.0",
      "_view_name": "HTMLView",
      "description": "",
      "description_tooltip": null,
      "layout": "IPY_MODEL_7fbf190ca55949daaf971902c94cafef",
      "placeholder": "​",
      "style": "IPY_MODEL_2a187bd9724449259c11fdf7a3d68840",
      "value": "tokenizer.json: 100%"
     }
    },
    "21731633ab1b44769f736009e8e979bc": {
     "model_module": "@jupyter-widgets/controls",
     "model_module_version": "1.5.0",
     "model_name": "DescriptionStyleModel",
     "state": {
      "_model_module": "@jupyter-widgets/controls",
      "_model_module_version": "1.5.0",
      "_model_name": "DescriptionStyleModel",
      "_view_count": null,
      "_view_module": "@jupyter-widgets/base",
      "_view_module_version": "1.2.0",
      "_view_name": "StyleView",
      "description_width": ""
     }
    },
    "26c3ef468cd2419abca883c9ca73e9cd": {
     "model_module": "@jupyter-widgets/controls",
     "model_module_version": "1.5.0",
     "model_name": "HTMLModel",
     "state": {
      "_dom_classes": [],
      "_model_module": "@jupyter-widgets/controls",
      "_model_module_version": "1.5.0",
      "_model_name": "HTMLModel",
      "_view_count": null,
      "_view_module": "@jupyter-widgets/controls",
      "_view_module_version": "1.5.0",
      "_view_name": "HTMLView",
      "description": "",
      "description_tooltip": null,
      "layout": "IPY_MODEL_40dede471cf54ec3a356edd2479ecdb9",
      "placeholder": "​",
      "style": "IPY_MODEL_b1f52fca815142128b99f151afcbe9ff",
      "value": " 7399/7399 [00:07&lt;00:00, 897.25 examples/s]"
     }
    },
    "28f26b52600a4481a0a0c3ef9403a26e": {
     "model_module": "@jupyter-widgets/controls",
     "model_module_version": "1.5.0",
     "model_name": "FloatProgressModel",
     "state": {
      "_dom_classes": [],
      "_model_module": "@jupyter-widgets/controls",
      "_model_module_version": "1.5.0",
      "_model_name": "FloatProgressModel",
      "_view_count": null,
      "_view_module": "@jupyter-widgets/controls",
      "_view_module_version": "1.5.0",
      "_view_name": "ProgressView",
      "bar_style": "success",
      "description": "",
      "description_tooltip": null,
      "layout": "IPY_MODEL_ced12bd60d484a57878e200164e4b02b",
      "max": 2539,
      "min": 0,
      "orientation": "horizontal",
      "style": "IPY_MODEL_b72b2dc92d7e426f83362aa8d289a866",
      "value": 2539
     }
    },
    "29ba4f742ce0486097b31a9b6e4c1425": {
     "model_module": "@jupyter-widgets/base",
     "model_module_version": "1.2.0",
     "model_name": "LayoutModel",
     "state": {
      "_model_module": "@jupyter-widgets/base",
      "_model_module_version": "1.2.0",
      "_model_name": "LayoutModel",
      "_view_count": null,
      "_view_module": "@jupyter-widgets/base",
      "_view_module_version": "1.2.0",
      "_view_name": "LayoutView",
      "align_content": null,
      "align_items": null,
      "align_self": null,
      "border": null,
      "bottom": null,
      "display": null,
      "flex": null,
      "flex_flow": null,
      "grid_area": null,
      "grid_auto_columns": null,
      "grid_auto_flow": null,
      "grid_auto_rows": null,
      "grid_column": null,
      "grid_gap": null,
      "grid_row": null,
      "grid_template_areas": null,
      "grid_template_columns": null,
      "grid_template_rows": null,
      "height": null,
      "justify_content": null,
      "justify_items": null,
      "left": null,
      "margin": null,
      "max_height": null,
      "max_width": null,
      "min_height": null,
      "min_width": null,
      "object_fit": null,
      "object_position": null,
      "order": null,
      "overflow": null,
      "overflow_x": null,
      "overflow_y": null,
      "padding": null,
      "right": null,
      "top": null,
      "visibility": null,
      "width": null
     }
    },
    "2a187bd9724449259c11fdf7a3d68840": {
     "model_module": "@jupyter-widgets/controls",
     "model_module_version": "1.5.0",
     "model_name": "DescriptionStyleModel",
     "state": {
      "_model_module": "@jupyter-widgets/controls",
      "_model_module_version": "1.5.0",
      "_model_name": "DescriptionStyleModel",
      "_view_count": null,
      "_view_module": "@jupyter-widgets/base",
      "_view_module_version": "1.2.0",
      "_view_name": "StyleView",
      "description_width": ""
     }
    },
    "2c8c4df3bf09414aa35d6d8be5e3f285": {
     "model_module": "@jupyter-widgets/controls",
     "model_module_version": "1.5.0",
     "model_name": "DescriptionStyleModel",
     "state": {
      "_model_module": "@jupyter-widgets/controls",
      "_model_module_version": "1.5.0",
      "_model_name": "DescriptionStyleModel",
      "_view_count": null,
      "_view_module": "@jupyter-widgets/base",
      "_view_module_version": "1.2.0",
      "_view_name": "StyleView",
      "description_width": ""
     }
    },
    "2da5cca77ad5477d9fa857dcb895a271": {
     "model_module": "@jupyter-widgets/base",
     "model_module_version": "1.2.0",
     "model_name": "LayoutModel",
     "state": {
      "_model_module": "@jupyter-widgets/base",
      "_model_module_version": "1.2.0",
      "_model_name": "LayoutModel",
      "_view_count": null,
      "_view_module": "@jupyter-widgets/base",
      "_view_module_version": "1.2.0",
      "_view_name": "LayoutView",
      "align_content": null,
      "align_items": null,
      "align_self": null,
      "border": null,
      "bottom": null,
      "display": null,
      "flex": null,
      "flex_flow": null,
      "grid_area": null,
      "grid_auto_columns": null,
      "grid_auto_flow": null,
      "grid_auto_rows": null,
      "grid_column": null,
      "grid_gap": null,
      "grid_row": null,
      "grid_template_areas": null,
      "grid_template_columns": null,
      "grid_template_rows": null,
      "height": null,
      "justify_content": null,
      "justify_items": null,
      "left": null,
      "margin": null,
      "max_height": null,
      "max_width": null,
      "min_height": null,
      "min_width": null,
      "object_fit": null,
      "object_position": null,
      "order": null,
      "overflow": null,
      "overflow_x": null,
      "overflow_y": null,
      "padding": null,
      "right": null,
      "top": null,
      "visibility": null,
      "width": null
     }
    },
    "2de48fa3ac244018a79120b6de48ff1b": {
     "model_module": "@jupyter-widgets/base",
     "model_module_version": "1.2.0",
     "model_name": "LayoutModel",
     "state": {
      "_model_module": "@jupyter-widgets/base",
      "_model_module_version": "1.2.0",
      "_model_name": "LayoutModel",
      "_view_count": null,
      "_view_module": "@jupyter-widgets/base",
      "_view_module_version": "1.2.0",
      "_view_name": "LayoutView",
      "align_content": null,
      "align_items": null,
      "align_self": null,
      "border": null,
      "bottom": null,
      "display": null,
      "flex": null,
      "flex_flow": null,
      "grid_area": null,
      "grid_auto_columns": null,
      "grid_auto_flow": null,
      "grid_auto_rows": null,
      "grid_column": null,
      "grid_gap": null,
      "grid_row": null,
      "grid_template_areas": null,
      "grid_template_columns": null,
      "grid_template_rows": null,
      "height": null,
      "justify_content": null,
      "justify_items": null,
      "left": null,
      "margin": null,
      "max_height": null,
      "max_width": null,
      "min_height": null,
      "min_width": null,
      "object_fit": null,
      "object_position": null,
      "order": null,
      "overflow": null,
      "overflow_x": null,
      "overflow_y": null,
      "padding": null,
      "right": null,
      "top": null,
      "visibility": null,
      "width": null
     }
    },
    "2f9fa8c8aa95407ea11cc0336f98562c": {
     "model_module": "@jupyter-widgets/base",
     "model_module_version": "1.2.0",
     "model_name": "LayoutModel",
     "state": {
      "_model_module": "@jupyter-widgets/base",
      "_model_module_version": "1.2.0",
      "_model_name": "LayoutModel",
      "_view_count": null,
      "_view_module": "@jupyter-widgets/base",
      "_view_module_version": "1.2.0",
      "_view_name": "LayoutView",
      "align_content": null,
      "align_items": null,
      "align_self": null,
      "border": null,
      "bottom": null,
      "display": null,
      "flex": null,
      "flex_flow": null,
      "grid_area": null,
      "grid_auto_columns": null,
      "grid_auto_flow": null,
      "grid_auto_rows": null,
      "grid_column": null,
      "grid_gap": null,
      "grid_row": null,
      "grid_template_areas": null,
      "grid_template_columns": null,
      "grid_template_rows": null,
      "height": null,
      "justify_content": null,
      "justify_items": null,
      "left": null,
      "margin": null,
      "max_height": null,
      "max_width": null,
      "min_height": null,
      "min_width": null,
      "object_fit": null,
      "object_position": null,
      "order": null,
      "overflow": null,
      "overflow_x": null,
      "overflow_y": null,
      "padding": null,
      "right": null,
      "top": null,
      "visibility": null,
      "width": null
     }
    },
    "32bced593daf4f9d930d2581dbf8c9fe": {
     "model_module": "@jupyter-widgets/controls",
     "model_module_version": "1.5.0",
     "model_name": "DescriptionStyleModel",
     "state": {
      "_model_module": "@jupyter-widgets/controls",
      "_model_module_version": "1.5.0",
      "_model_name": "DescriptionStyleModel",
      "_view_count": null,
      "_view_module": "@jupyter-widgets/base",
      "_view_module_version": "1.2.0",
      "_view_name": "StyleView",
      "description_width": ""
     }
    },
    "333d08ad557d46a4960fb65a6365875e": {
     "model_module": "@jupyter-widgets/controls",
     "model_module_version": "1.5.0",
     "model_name": "DescriptionStyleModel",
     "state": {
      "_model_module": "@jupyter-widgets/controls",
      "_model_module_version": "1.5.0",
      "_model_name": "DescriptionStyleModel",
      "_view_count": null,
      "_view_module": "@jupyter-widgets/base",
      "_view_module_version": "1.2.0",
      "_view_name": "StyleView",
      "description_width": ""
     }
    },
    "33c463e285a74ffeb52eb3dffa1e7388": {
     "model_module": "@jupyter-widgets/controls",
     "model_module_version": "1.5.0",
     "model_name": "HTMLModel",
     "state": {
      "_dom_classes": [],
      "_model_module": "@jupyter-widgets/controls",
      "_model_module_version": "1.5.0",
      "_model_name": "HTMLModel",
      "_view_count": null,
      "_view_module": "@jupyter-widgets/controls",
      "_view_module_version": "1.5.0",
      "_view_name": "HTMLView",
      "description": "",
      "description_tooltip": null,
      "layout": "IPY_MODEL_7dfd0148676a4d0ebe01c4adfc480d72",
      "placeholder": "​",
      "style": "IPY_MODEL_4a458024c1b3436885dafb4c4990513f",
      "value": " 14.5M/14.5M [00:00&lt;00:00, 20.2MB/s]"
     }
    },
    "34140e8d62f741a08d756e46a31b16fc": {
     "model_module": "@jupyter-widgets/controls",
     "model_module_version": "1.5.0",
     "model_name": "DescriptionStyleModel",
     "state": {
      "_model_module": "@jupyter-widgets/controls",
      "_model_module_version": "1.5.0",
      "_model_name": "DescriptionStyleModel",
      "_view_count": null,
      "_view_module": "@jupyter-widgets/base",
      "_view_module_version": "1.2.0",
      "_view_name": "StyleView",
      "description_width": ""
     }
    },
    "36237ba7ce6f4713ac646686ee8c4572": {
     "model_module": "@jupyter-widgets/controls",
     "model_module_version": "1.5.0",
     "model_name": "HBoxModel",
     "state": {
      "_dom_classes": [],
      "_model_module": "@jupyter-widgets/controls",
      "_model_module_version": "1.5.0",
      "_model_name": "HBoxModel",
      "_view_count": null,
      "_view_module": "@jupyter-widgets/controls",
      "_view_module_version": "1.5.0",
      "_view_name": "HBoxView",
      "box_style": "",
      "children": [
       "IPY_MODEL_9ba7d3221df7437c83f0bfd03d114b74",
       "IPY_MODEL_c396abafc27342d0bcf47d218017092d",
       "IPY_MODEL_03daf03e554443f5a1ff9ed4b16e02a6"
      ],
      "layout": "IPY_MODEL_6f4de4455e8c4ad593d06933aaddfacb"
     }
    },
    "36d21997ce2f4df99ab52c335ebc5539": {
     "model_module": "@jupyter-widgets/controls",
     "model_module_version": "1.5.0",
     "model_name": "DescriptionStyleModel",
     "state": {
      "_model_module": "@jupyter-widgets/controls",
      "_model_module_version": "1.5.0",
      "_model_name": "DescriptionStyleModel",
      "_view_count": null,
      "_view_module": "@jupyter-widgets/base",
      "_view_module_version": "1.2.0",
      "_view_name": "StyleView",
      "description_width": ""
     }
    },
    "3a8b6589d01f4265aceb9eab9c1e6fe7": {
     "model_module": "@jupyter-widgets/controls",
     "model_module_version": "1.5.0",
     "model_name": "FloatProgressModel",
     "state": {
      "_dom_classes": [],
      "_model_module": "@jupyter-widgets/controls",
      "_model_module_version": "1.5.0",
      "_model_name": "FloatProgressModel",
      "_view_count": null,
      "_view_module": "@jupyter-widgets/controls",
      "_view_module_version": "1.5.0",
      "_view_name": "ProgressView",
      "bar_style": "success",
      "description": "",
      "description_tooltip": null,
      "layout": "IPY_MODEL_1fe924619e834722bd468eb94deac112",
      "max": 791656,
      "min": 0,
      "orientation": "horizontal",
      "style": "IPY_MODEL_d4da7b7b2e4740f4932045f064b2379f",
      "value": 791656
     }
    },
    "3b8de61e75994849baa340cbb9244fcc": {
     "model_module": "@jupyter-widgets/controls",
     "model_module_version": "1.5.0",
     "model_name": "HTMLModel",
     "state": {
      "_dom_classes": [],
      "_model_module": "@jupyter-widgets/controls",
      "_model_module_version": "1.5.0",
      "_model_name": "HTMLModel",
      "_view_count": null,
      "_view_module": "@jupyter-widgets/controls",
      "_view_module_version": "1.5.0",
      "_view_name": "HTMLView",
      "description": "",
      "description_tooltip": null,
      "layout": "IPY_MODEL_6d7af11c8697496e8ceb853ef1a3bbf2",
      "placeholder": "​",
      "style": "IPY_MODEL_34140e8d62f741a08d756e46a31b16fc",
      "value": " 2.54k/2.54k [00:00&lt;00:00, 166kB/s]"
     }
    },
    "40dede471cf54ec3a356edd2479ecdb9": {
     "model_module": "@jupyter-widgets/base",
     "model_module_version": "1.2.0",
     "model_name": "LayoutModel",
     "state": {
      "_model_module": "@jupyter-widgets/base",
      "_model_module_version": "1.2.0",
      "_model_name": "LayoutModel",
      "_view_count": null,
      "_view_module": "@jupyter-widgets/base",
      "_view_module_version": "1.2.0",
      "_view_name": "LayoutView",
      "align_content": null,
      "align_items": null,
      "align_self": null,
      "border": null,
      "bottom": null,
      "display": null,
      "flex": null,
      "flex_flow": null,
      "grid_area": null,
      "grid_auto_columns": null,
      "grid_auto_flow": null,
      "grid_auto_rows": null,
      "grid_column": null,
      "grid_gap": null,
      "grid_row": null,
      "grid_template_areas": null,
      "grid_template_columns": null,
      "grid_template_rows": null,
      "height": null,
      "justify_content": null,
      "justify_items": null,
      "left": null,
      "margin": null,
      "max_height": null,
      "max_width": null,
      "min_height": null,
      "min_width": null,
      "object_fit": null,
      "object_position": null,
      "order": null,
      "overflow": null,
      "overflow_x": null,
      "overflow_y": null,
      "padding": null,
      "right": null,
      "top": null,
      "visibility": null,
      "width": null
     }
    },
    "42663c20e09d461c9b1c7a00314ade72": {
     "model_module": "@jupyter-widgets/controls",
     "model_module_version": "1.5.0",
     "model_name": "DescriptionStyleModel",
     "state": {
      "_model_module": "@jupyter-widgets/controls",
      "_model_module_version": "1.5.0",
      "_model_name": "DescriptionStyleModel",
      "_view_count": null,
      "_view_module": "@jupyter-widgets/base",
      "_view_module_version": "1.2.0",
      "_view_name": "StyleView",
      "description_width": ""
     }
    },
    "43775cb59155451daa137a38ff8fcef6": {
     "model_module": "@jupyter-widgets/controls",
     "model_module_version": "1.5.0",
     "model_name": "HBoxModel",
     "state": {
      "_dom_classes": [],
      "_model_module": "@jupyter-widgets/controls",
      "_model_module_version": "1.5.0",
      "_model_name": "HBoxModel",
      "_view_count": null,
      "_view_module": "@jupyter-widgets/controls",
      "_view_module_version": "1.5.0",
      "_view_name": "HBoxView",
      "box_style": "",
      "children": [
       "IPY_MODEL_8cc7f813849d4ab1b4333935973b43e5",
       "IPY_MODEL_3a8b6589d01f4265aceb9eab9c1e6fe7",
       "IPY_MODEL_db2bb3ffa4154df2afa76bbbf63ad6f6"
      ],
      "layout": "IPY_MODEL_13dcddeb82a64cf280989d83c896f994"
     }
    },
    "43beb8be796a4c16918c455b14afdcea": {
     "model_module": "@jupyter-widgets/base",
     "model_module_version": "1.2.0",
     "model_name": "LayoutModel",
     "state": {
      "_model_module": "@jupyter-widgets/base",
      "_model_module_version": "1.2.0",
      "_model_name": "LayoutModel",
      "_view_count": null,
      "_view_module": "@jupyter-widgets/base",
      "_view_module_version": "1.2.0",
      "_view_name": "LayoutView",
      "align_content": null,
      "align_items": null,
      "align_self": null,
      "border": null,
      "bottom": null,
      "display": null,
      "flex": null,
      "flex_flow": null,
      "grid_area": null,
      "grid_auto_columns": null,
      "grid_auto_flow": null,
      "grid_auto_rows": null,
      "grid_column": null,
      "grid_gap": null,
      "grid_row": null,
      "grid_template_areas": null,
      "grid_template_columns": null,
      "grid_template_rows": null,
      "height": null,
      "justify_content": null,
      "justify_items": null,
      "left": null,
      "margin": null,
      "max_height": null,
      "max_width": null,
      "min_height": null,
      "min_width": null,
      "object_fit": null,
      "object_position": null,
      "order": null,
      "overflow": null,
      "overflow_x": null,
      "overflow_y": null,
      "padding": null,
      "right": null,
      "top": null,
      "visibility": null,
      "width": null
     }
    },
    "45dd5d38d2214970bf972fb8b309f3f4": {
     "model_module": "@jupyter-widgets/controls",
     "model_module_version": "1.5.0",
     "model_name": "HTMLModel",
     "state": {
      "_dom_classes": [],
      "_model_module": "@jupyter-widgets/controls",
      "_model_module_version": "1.5.0",
      "_model_name": "HTMLModel",
      "_view_count": null,
      "_view_module": "@jupyter-widgets/controls",
      "_view_module_version": "1.5.0",
      "_view_name": "HTMLView",
      "description": "",
      "description_tooltip": null,
      "layout": "IPY_MODEL_7edc959e8c1d493fbe40077aa16fb3d4",
      "placeholder": "​",
      "style": "IPY_MODEL_7eeb2bad3d004fb1a2d2f3b90a444b71",
      "value": " 308M/308M [00:01&lt;00:00, 196MB/s]"
     }
    },
    "472be07f6e6a44dfba59ba332d8cfdfb": {
     "model_module": "@jupyter-widgets/controls",
     "model_module_version": "1.5.0",
     "model_name": "ProgressStyleModel",
     "state": {
      "_model_module": "@jupyter-widgets/controls",
      "_model_module_version": "1.5.0",
      "_model_name": "ProgressStyleModel",
      "_view_count": null,
      "_view_module": "@jupyter-widgets/base",
      "_view_module_version": "1.2.0",
      "_view_name": "StyleView",
      "bar_color": null,
      "description_width": ""
     }
    },
    "49293930a2014497a53bcbfea37c470b": {
     "model_module": "@jupyter-widgets/controls",
     "model_module_version": "1.5.0",
     "model_name": "DescriptionStyleModel",
     "state": {
      "_model_module": "@jupyter-widgets/controls",
      "_model_module_version": "1.5.0",
      "_model_name": "DescriptionStyleModel",
      "_view_count": null,
      "_view_module": "@jupyter-widgets/base",
      "_view_module_version": "1.2.0",
      "_view_name": "StyleView",
      "description_width": ""
     }
    },
    "49f9e68701a149f4b591373dad79b2be": {
     "model_module": "@jupyter-widgets/controls",
     "model_module_version": "1.5.0",
     "model_name": "DescriptionStyleModel",
     "state": {
      "_model_module": "@jupyter-widgets/controls",
      "_model_module_version": "1.5.0",
      "_model_name": "DescriptionStyleModel",
      "_view_count": null,
      "_view_module": "@jupyter-widgets/base",
      "_view_module_version": "1.2.0",
      "_view_name": "StyleView",
      "description_width": ""
     }
    },
    "4a458024c1b3436885dafb4c4990513f": {
     "model_module": "@jupyter-widgets/controls",
     "model_module_version": "1.5.0",
     "model_name": "DescriptionStyleModel",
     "state": {
      "_model_module": "@jupyter-widgets/controls",
      "_model_module_version": "1.5.0",
      "_model_name": "DescriptionStyleModel",
      "_view_count": null,
      "_view_module": "@jupyter-widgets/base",
      "_view_module_version": "1.2.0",
      "_view_name": "StyleView",
      "description_width": ""
     }
    },
    "4b19e9abec1643c99389f52866630384": {
     "model_module": "@jupyter-widgets/base",
     "model_module_version": "1.2.0",
     "model_name": "LayoutModel",
     "state": {
      "_model_module": "@jupyter-widgets/base",
      "_model_module_version": "1.2.0",
      "_model_name": "LayoutModel",
      "_view_count": null,
      "_view_module": "@jupyter-widgets/base",
      "_view_module_version": "1.2.0",
      "_view_name": "LayoutView",
      "align_content": null,
      "align_items": null,
      "align_self": null,
      "border": null,
      "bottom": null,
      "display": null,
      "flex": null,
      "flex_flow": null,
      "grid_area": null,
      "grid_auto_columns": null,
      "grid_auto_flow": null,
      "grid_auto_rows": null,
      "grid_column": null,
      "grid_gap": null,
      "grid_row": null,
      "grid_template_areas": null,
      "grid_template_columns": null,
      "grid_template_rows": null,
      "height": null,
      "justify_content": null,
      "justify_items": null,
      "left": null,
      "margin": null,
      "max_height": null,
      "max_width": null,
      "min_height": null,
      "min_width": null,
      "object_fit": null,
      "object_position": null,
      "order": null,
      "overflow": null,
      "overflow_x": null,
      "overflow_y": null,
      "padding": null,
      "right": null,
      "top": null,
      "visibility": null,
      "width": null
     }
    },
    "4cede74fdb8343398f65ea9d1541472a": {
     "model_module": "@jupyter-widgets/controls",
     "model_module_version": "1.5.0",
     "model_name": "DescriptionStyleModel",
     "state": {
      "_model_module": "@jupyter-widgets/controls",
      "_model_module_version": "1.5.0",
      "_model_name": "DescriptionStyleModel",
      "_view_count": null,
      "_view_module": "@jupyter-widgets/base",
      "_view_module_version": "1.2.0",
      "_view_name": "StyleView",
      "description_width": ""
     }
    },
    "51afcdd2fe324c29b62d2c24b337abeb": {
     "model_module": "@jupyter-widgets/base",
     "model_module_version": "1.2.0",
     "model_name": "LayoutModel",
     "state": {
      "_model_module": "@jupyter-widgets/base",
      "_model_module_version": "1.2.0",
      "_model_name": "LayoutModel",
      "_view_count": null,
      "_view_module": "@jupyter-widgets/base",
      "_view_module_version": "1.2.0",
      "_view_name": "LayoutView",
      "align_content": null,
      "align_items": null,
      "align_self": null,
      "border": null,
      "bottom": null,
      "display": null,
      "flex": null,
      "flex_flow": null,
      "grid_area": null,
      "grid_auto_columns": null,
      "grid_auto_flow": null,
      "grid_auto_rows": null,
      "grid_column": null,
      "grid_gap": null,
      "grid_row": null,
      "grid_template_areas": null,
      "grid_template_columns": null,
      "grid_template_rows": null,
      "height": null,
      "justify_content": null,
      "justify_items": null,
      "left": null,
      "margin": null,
      "max_height": null,
      "max_width": null,
      "min_height": null,
      "min_width": null,
      "object_fit": null,
      "object_position": null,
      "order": null,
      "overflow": null,
      "overflow_x": null,
      "overflow_y": null,
      "padding": null,
      "right": null,
      "top": null,
      "visibility": null,
      "width": null
     }
    },
    "51f501467f3344eeaafc21c779140a89": {
     "model_module": "@jupyter-widgets/base",
     "model_module_version": "1.2.0",
     "model_name": "LayoutModel",
     "state": {
      "_model_module": "@jupyter-widgets/base",
      "_model_module_version": "1.2.0",
      "_model_name": "LayoutModel",
      "_view_count": null,
      "_view_module": "@jupyter-widgets/base",
      "_view_module_version": "1.2.0",
      "_view_name": "LayoutView",
      "align_content": null,
      "align_items": null,
      "align_self": null,
      "border": null,
      "bottom": null,
      "display": null,
      "flex": null,
      "flex_flow": null,
      "grid_area": null,
      "grid_auto_columns": null,
      "grid_auto_flow": null,
      "grid_auto_rows": null,
      "grid_column": null,
      "grid_gap": null,
      "grid_row": null,
      "grid_template_areas": null,
      "grid_template_columns": null,
      "grid_template_rows": null,
      "height": null,
      "justify_content": null,
      "justify_items": null,
      "left": null,
      "margin": null,
      "max_height": null,
      "max_width": null,
      "min_height": null,
      "min_width": null,
      "object_fit": null,
      "object_position": null,
      "order": null,
      "overflow": null,
      "overflow_x": null,
      "overflow_y": null,
      "padding": null,
      "right": null,
      "top": null,
      "visibility": null,
      "width": null
     }
    },
    "52557a2ddb5f474dbd139d06a45386d2": {
     "model_module": "@jupyter-widgets/controls",
     "model_module_version": "1.5.0",
     "model_name": "HBoxModel",
     "state": {
      "_dom_classes": [],
      "_model_module": "@jupyter-widgets/controls",
      "_model_module_version": "1.5.0",
      "_model_name": "HBoxModel",
      "_view_count": null,
      "_view_module": "@jupyter-widgets/controls",
      "_view_module_version": "1.5.0",
      "_view_name": "HBoxView",
      "box_style": "",
      "children": [
       "IPY_MODEL_db1d525ce26945d88eff23963ed0160c",
       "IPY_MODEL_870da9d0644243f29e7d645ec242881c",
       "IPY_MODEL_c85836700da145efb0831b34b84ac97b"
      ],
      "layout": "IPY_MODEL_6c7567dcc56249bb9af08623c4079cdd"
     }
    },
    "5256773e54554dc2a4076d84a6c2b5cb": {
     "model_module": "@jupyter-widgets/base",
     "model_module_version": "1.2.0",
     "model_name": "LayoutModel",
     "state": {
      "_model_module": "@jupyter-widgets/base",
      "_model_module_version": "1.2.0",
      "_model_name": "LayoutModel",
      "_view_count": null,
      "_view_module": "@jupyter-widgets/base",
      "_view_module_version": "1.2.0",
      "_view_name": "LayoutView",
      "align_content": null,
      "align_items": null,
      "align_self": null,
      "border": null,
      "bottom": null,
      "display": null,
      "flex": null,
      "flex_flow": null,
      "grid_area": null,
      "grid_auto_columns": null,
      "grid_auto_flow": null,
      "grid_auto_rows": null,
      "grid_column": null,
      "grid_gap": null,
      "grid_row": null,
      "grid_template_areas": null,
      "grid_template_columns": null,
      "grid_template_rows": null,
      "height": null,
      "justify_content": null,
      "justify_items": null,
      "left": null,
      "margin": null,
      "max_height": null,
      "max_width": null,
      "min_height": null,
      "min_width": null,
      "object_fit": null,
      "object_position": null,
      "order": null,
      "overflow": null,
      "overflow_x": null,
      "overflow_y": null,
      "padding": null,
      "right": null,
      "top": null,
      "visibility": null,
      "width": null
     }
    },
    "5eb9290237dc497da7f8cab37c5e19f2": {
     "model_module": "@jupyter-widgets/base",
     "model_module_version": "1.2.0",
     "model_name": "LayoutModel",
     "state": {
      "_model_module": "@jupyter-widgets/base",
      "_model_module_version": "1.2.0",
      "_model_name": "LayoutModel",
      "_view_count": null,
      "_view_module": "@jupyter-widgets/base",
      "_view_module_version": "1.2.0",
      "_view_name": "LayoutView",
      "align_content": null,
      "align_items": null,
      "align_self": null,
      "border": null,
      "bottom": null,
      "display": null,
      "flex": null,
      "flex_flow": null,
      "grid_area": null,
      "grid_auto_columns": null,
      "grid_auto_flow": null,
      "grid_auto_rows": null,
      "grid_column": null,
      "grid_gap": null,
      "grid_row": null,
      "grid_template_areas": null,
      "grid_template_columns": null,
      "grid_template_rows": null,
      "height": null,
      "justify_content": null,
      "justify_items": null,
      "left": null,
      "margin": null,
      "max_height": null,
      "max_width": null,
      "min_height": null,
      "min_width": null,
      "object_fit": null,
      "object_position": null,
      "order": null,
      "overflow": null,
      "overflow_x": null,
      "overflow_y": null,
      "padding": null,
      "right": null,
      "top": null,
      "visibility": null,
      "width": null
     }
    },
    "61a08e21cc5b4eeeaf17bc48198958c9": {
     "model_module": "@jupyter-widgets/base",
     "model_module_version": "1.2.0",
     "model_name": "LayoutModel",
     "state": {
      "_model_module": "@jupyter-widgets/base",
      "_model_module_version": "1.2.0",
      "_model_name": "LayoutModel",
      "_view_count": null,
      "_view_module": "@jupyter-widgets/base",
      "_view_module_version": "1.2.0",
      "_view_name": "LayoutView",
      "align_content": null,
      "align_items": null,
      "align_self": null,
      "border": null,
      "bottom": null,
      "display": null,
      "flex": null,
      "flex_flow": null,
      "grid_area": null,
      "grid_auto_columns": null,
      "grid_auto_flow": null,
      "grid_auto_rows": null,
      "grid_column": null,
      "grid_gap": null,
      "grid_row": null,
      "grid_template_areas": null,
      "grid_template_columns": null,
      "grid_template_rows": null,
      "height": null,
      "justify_content": null,
      "justify_items": null,
      "left": null,
      "margin": null,
      "max_height": null,
      "max_width": null,
      "min_height": null,
      "min_width": null,
      "object_fit": null,
      "object_position": null,
      "order": null,
      "overflow": null,
      "overflow_x": null,
      "overflow_y": null,
      "padding": null,
      "right": null,
      "top": null,
      "visibility": null,
      "width": null
     }
    },
    "6771f1fa3b7f429cba210c1d060e94ff": {
     "model_module": "@jupyter-widgets/controls",
     "model_module_version": "1.5.0",
     "model_name": "HTMLModel",
     "state": {
      "_dom_classes": [],
      "_model_module": "@jupyter-widgets/controls",
      "_model_module_version": "1.5.0",
      "_model_name": "HTMLModel",
      "_view_count": null,
      "_view_module": "@jupyter-widgets/controls",
      "_view_module_version": "1.5.0",
      "_view_name": "HTMLView",
      "description": "",
      "description_tooltip": null,
      "layout": "IPY_MODEL_715d280b0cc94114a11c3f9ce56dfc02",
      "placeholder": "​",
      "style": "IPY_MODEL_ff07cfe7549a422b8594d8a6c240f731",
      "value": " 6.27k/6.27k [00:00&lt;00:00, 438kB/s]"
     }
    },
    "6799f9d022344330877ecb6a5db1b89c": {
     "model_module": "@jupyter-widgets/controls",
     "model_module_version": "1.5.0",
     "model_name": "HBoxModel",
     "state": {
      "_dom_classes": [],
      "_model_module": "@jupyter-widgets/controls",
      "_model_module_version": "1.5.0",
      "_model_name": "HBoxModel",
      "_view_count": null,
      "_view_module": "@jupyter-widgets/controls",
      "_view_module_version": "1.5.0",
      "_view_name": "HBoxView",
      "box_style": "",
      "children": [
       "IPY_MODEL_0e5437b30b1146a0970bb1e6d0539b3d",
       "IPY_MODEL_0a6e6490795b43699b1aa46233cfa0bc",
       "IPY_MODEL_33c463e285a74ffeb52eb3dffa1e7388"
      ],
      "layout": "IPY_MODEL_af70127aad274f3487b39f9542993825"
     }
    },
    "69b20994d6d54029885def37be89252a": {
     "model_module": "@jupyter-widgets/controls",
     "model_module_version": "1.5.0",
     "model_name": "DescriptionStyleModel",
     "state": {
      "_model_module": "@jupyter-widgets/controls",
      "_model_module_version": "1.5.0",
      "_model_name": "DescriptionStyleModel",
      "_view_count": null,
      "_view_module": "@jupyter-widgets/base",
      "_view_module_version": "1.2.0",
      "_view_name": "StyleView",
      "description_width": ""
     }
    },
    "6ab4ef78466c4099aa7fd36ec6d60a27": {
     "model_module": "@jupyter-widgets/controls",
     "model_module_version": "1.5.0",
     "model_name": "HTMLModel",
     "state": {
      "_dom_classes": [],
      "_model_module": "@jupyter-widgets/controls",
      "_model_module_version": "1.5.0",
      "_model_name": "HTMLModel",
      "_view_count": null,
      "_view_module": "@jupyter-widgets/controls",
      "_view_module_version": "1.5.0",
      "_view_name": "HTMLView",
      "description": "",
      "description_tooltip": null,
      "layout": "IPY_MODEL_93fad6e20faf4e5bab794c94531fd1f8",
      "placeholder": "​",
      "style": "IPY_MODEL_2c8c4df3bf09414aa35d6d8be5e3f285",
      "value": "Map: 100%"
     }
    },
    "6ad5bee0e164469caa947f1a4def5cdd": {
     "model_module": "@jupyter-widgets/controls",
     "model_module_version": "1.5.0",
     "model_name": "FloatProgressModel",
     "state": {
      "_dom_classes": [],
      "_model_module": "@jupyter-widgets/controls",
      "_model_module_version": "1.5.0",
      "_model_name": "FloatProgressModel",
      "_view_count": null,
      "_view_module": "@jupyter-widgets/controls",
      "_view_module_version": "1.5.0",
      "_view_name": "ProgressView",
      "bar_style": "success",
      "description": "",
      "description_tooltip": null,
      "layout": "IPY_MODEL_b35ce3d787bd471bb5697d539b6c934c",
      "max": 7399,
      "min": 0,
      "orientation": "horizontal",
      "style": "IPY_MODEL_97427033e3714032a8c8bf91990fffd0",
      "value": 7399
     }
    },
    "6bd59dda04424ac7b2d22893ab7b8a22": {
     "model_module": "@jupyter-widgets/base",
     "model_module_version": "1.2.0",
     "model_name": "LayoutModel",
     "state": {
      "_model_module": "@jupyter-widgets/base",
      "_model_module_version": "1.2.0",
      "_model_name": "LayoutModel",
      "_view_count": null,
      "_view_module": "@jupyter-widgets/base",
      "_view_module_version": "1.2.0",
      "_view_name": "LayoutView",
      "align_content": null,
      "align_items": null,
      "align_self": null,
      "border": null,
      "bottom": null,
      "display": null,
      "flex": null,
      "flex_flow": null,
      "grid_area": null,
      "grid_auto_columns": null,
      "grid_auto_flow": null,
      "grid_auto_rows": null,
      "grid_column": null,
      "grid_gap": null,
      "grid_row": null,
      "grid_template_areas": null,
      "grid_template_columns": null,
      "grid_template_rows": null,
      "height": null,
      "justify_content": null,
      "justify_items": null,
      "left": null,
      "margin": null,
      "max_height": null,
      "max_width": null,
      "min_height": null,
      "min_width": null,
      "object_fit": null,
      "object_position": null,
      "order": null,
      "overflow": null,
      "overflow_x": null,
      "overflow_y": null,
      "padding": null,
      "right": null,
      "top": null,
      "visibility": null,
      "width": null
     }
    },
    "6c7567dcc56249bb9af08623c4079cdd": {
     "model_module": "@jupyter-widgets/base",
     "model_module_version": "1.2.0",
     "model_name": "LayoutModel",
     "state": {
      "_model_module": "@jupyter-widgets/base",
      "_model_module_version": "1.2.0",
      "_model_name": "LayoutModel",
      "_view_count": null,
      "_view_module": "@jupyter-widgets/base",
      "_view_module_version": "1.2.0",
      "_view_name": "LayoutView",
      "align_content": null,
      "align_items": null,
      "align_self": null,
      "border": null,
      "bottom": null,
      "display": null,
      "flex": null,
      "flex_flow": null,
      "grid_area": null,
      "grid_auto_columns": null,
      "grid_auto_flow": null,
      "grid_auto_rows": null,
      "grid_column": null,
      "grid_gap": null,
      "grid_row": null,
      "grid_template_areas": null,
      "grid_template_columns": null,
      "grid_template_rows": null,
      "height": null,
      "justify_content": null,
      "justify_items": null,
      "left": null,
      "margin": null,
      "max_height": null,
      "max_width": null,
      "min_height": null,
      "min_width": null,
      "object_fit": null,
      "object_position": null,
      "order": null,
      "overflow": null,
      "overflow_x": null,
      "overflow_y": null,
      "padding": null,
      "right": null,
      "top": null,
      "visibility": null,
      "width": null
     }
    },
    "6d241979d4c54abe84b8fdb185aad23e": {
     "model_module": "@jupyter-widgets/controls",
     "model_module_version": "1.5.0",
     "model_name": "HTMLModel",
     "state": {
      "_dom_classes": [],
      "_model_module": "@jupyter-widgets/controls",
      "_model_module_version": "1.5.0",
      "_model_name": "HTMLModel",
      "_view_count": null,
      "_view_module": "@jupyter-widgets/controls",
      "_view_module_version": "1.5.0",
      "_view_name": "HTMLView",
      "description": "",
      "description_tooltip": null,
      "layout": "IPY_MODEL_1204e9998c2a4b86abc10ba60664d588",
      "placeholder": "​",
      "style": "IPY_MODEL_aed82f02af3f4fe9b6e343832bd38ceb",
      "value": "model.safetensors: 100%"
     }
    },
    "6d7af11c8697496e8ceb853ef1a3bbf2": {
     "model_module": "@jupyter-widgets/base",
     "model_module_version": "1.2.0",
     "model_name": "LayoutModel",
     "state": {
      "_model_module": "@jupyter-widgets/base",
      "_model_module_version": "1.2.0",
      "_model_name": "LayoutModel",
      "_view_count": null,
      "_view_module": "@jupyter-widgets/base",
      "_view_module_version": "1.2.0",
      "_view_name": "LayoutView",
      "align_content": null,
      "align_items": null,
      "align_self": null,
      "border": null,
      "bottom": null,
      "display": null,
      "flex": null,
      "flex_flow": null,
      "grid_area": null,
      "grid_auto_columns": null,
      "grid_auto_flow": null,
      "grid_auto_rows": null,
      "grid_column": null,
      "grid_gap": null,
      "grid_row": null,
      "grid_template_areas": null,
      "grid_template_columns": null,
      "grid_template_rows": null,
      "height": null,
      "justify_content": null,
      "justify_items": null,
      "left": null,
      "margin": null,
      "max_height": null,
      "max_width": null,
      "min_height": null,
      "min_width": null,
      "object_fit": null,
      "object_position": null,
      "order": null,
      "overflow": null,
      "overflow_x": null,
      "overflow_y": null,
      "padding": null,
      "right": null,
      "top": null,
      "visibility": null,
      "width": null
     }
    },
    "6dedd54cb31a40ed856997f1fb0eb06f": {
     "model_module": "@jupyter-widgets/controls",
     "model_module_version": "1.5.0",
     "model_name": "FloatProgressModel",
     "state": {
      "_dom_classes": [],
      "_model_module": "@jupyter-widgets/controls",
      "_model_module_version": "1.5.0",
      "_model_name": "FloatProgressModel",
      "_view_count": null,
      "_view_module": "@jupyter-widgets/controls",
      "_view_module_version": "1.5.0",
      "_view_name": "ProgressView",
      "bar_style": "success",
      "description": "",
      "description_tooltip": null,
      "layout": "IPY_MODEL_c810c9edf1ff498a88400eff1b20663c",
      "max": 6270,
      "min": 0,
      "orientation": "horizontal",
      "style": "IPY_MODEL_82491f90614d4eef9e175f344ca4fed8",
      "value": 6270
     }
    },
    "6e4859fc42ce46b3bc6665d34a1848db": {
     "model_module": "@jupyter-widgets/controls",
     "model_module_version": "1.5.0",
     "model_name": "FloatProgressModel",
     "state": {
      "_dom_classes": [],
      "_model_module": "@jupyter-widgets/controls",
      "_model_module_version": "1.5.0",
      "_model_name": "FloatProgressModel",
      "_view_count": null,
      "_view_module": "@jupyter-widgets/controls",
      "_view_module_version": "1.5.0",
      "_view_name": "ProgressView",
      "bar_style": "success",
      "description": "",
      "description_tooltip": null,
      "layout": "IPY_MODEL_ebf30d7d78aa474986792064297b12b7",
      "max": 147,
      "min": 0,
      "orientation": "horizontal",
      "style": "IPY_MODEL_0a405ebec4e64a33b0cbaa22e9bf4fac",
      "value": 147
     }
    },
    "6e84423ebe5c4d1bba53af4ba67d461c": {
     "model_module": "@jupyter-widgets/base",
     "model_module_version": "1.2.0",
     "model_name": "LayoutModel",
     "state": {
      "_model_module": "@jupyter-widgets/base",
      "_model_module_version": "1.2.0",
      "_model_name": "LayoutModel",
      "_view_count": null,
      "_view_module": "@jupyter-widgets/base",
      "_view_module_version": "1.2.0",
      "_view_name": "LayoutView",
      "align_content": null,
      "align_items": null,
      "align_self": null,
      "border": null,
      "bottom": null,
      "display": null,
      "flex": null,
      "flex_flow": null,
      "grid_area": null,
      "grid_auto_columns": null,
      "grid_auto_flow": null,
      "grid_auto_rows": null,
      "grid_column": null,
      "grid_gap": null,
      "grid_row": null,
      "grid_template_areas": null,
      "grid_template_columns": null,
      "grid_template_rows": null,
      "height": null,
      "justify_content": null,
      "justify_items": null,
      "left": null,
      "margin": null,
      "max_height": null,
      "max_width": null,
      "min_height": null,
      "min_width": null,
      "object_fit": null,
      "object_position": null,
      "order": null,
      "overflow": null,
      "overflow_x": null,
      "overflow_y": null,
      "padding": null,
      "right": null,
      "top": null,
      "visibility": null,
      "width": null
     }
    },
    "6f3cca6b8ed54e4b83d03ad13dd71f31": {
     "model_module": "@jupyter-widgets/base",
     "model_module_version": "1.2.0",
     "model_name": "LayoutModel",
     "state": {
      "_model_module": "@jupyter-widgets/base",
      "_model_module_version": "1.2.0",
      "_model_name": "LayoutModel",
      "_view_count": null,
      "_view_module": "@jupyter-widgets/base",
      "_view_module_version": "1.2.0",
      "_view_name": "LayoutView",
      "align_content": null,
      "align_items": null,
      "align_self": null,
      "border": null,
      "bottom": null,
      "display": null,
      "flex": null,
      "flex_flow": null,
      "grid_area": null,
      "grid_auto_columns": null,
      "grid_auto_flow": null,
      "grid_auto_rows": null,
      "grid_column": null,
      "grid_gap": null,
      "grid_row": null,
      "grid_template_areas": null,
      "grid_template_columns": null,
      "grid_template_rows": null,
      "height": null,
      "justify_content": null,
      "justify_items": null,
      "left": null,
      "margin": null,
      "max_height": null,
      "max_width": null,
      "min_height": null,
      "min_width": null,
      "object_fit": null,
      "object_position": null,
      "order": null,
      "overflow": null,
      "overflow_x": null,
      "overflow_y": null,
      "padding": null,
      "right": null,
      "top": null,
      "visibility": null,
      "width": null
     }
    },
    "6f4de4455e8c4ad593d06933aaddfacb": {
     "model_module": "@jupyter-widgets/base",
     "model_module_version": "1.2.0",
     "model_name": "LayoutModel",
     "state": {
      "_model_module": "@jupyter-widgets/base",
      "_model_module_version": "1.2.0",
      "_model_name": "LayoutModel",
      "_view_count": null,
      "_view_module": "@jupyter-widgets/base",
      "_view_module_version": "1.2.0",
      "_view_name": "LayoutView",
      "align_content": null,
      "align_items": null,
      "align_self": null,
      "border": null,
      "bottom": null,
      "display": null,
      "flex": null,
      "flex_flow": null,
      "grid_area": null,
      "grid_auto_columns": null,
      "grid_auto_flow": null,
      "grid_auto_rows": null,
      "grid_column": null,
      "grid_gap": null,
      "grid_row": null,
      "grid_template_areas": null,
      "grid_template_columns": null,
      "grid_template_rows": null,
      "height": null,
      "justify_content": null,
      "justify_items": null,
      "left": null,
      "margin": null,
      "max_height": null,
      "max_width": null,
      "min_height": null,
      "min_width": null,
      "object_fit": null,
      "object_position": null,
      "order": null,
      "overflow": null,
      "overflow_x": null,
      "overflow_y": null,
      "padding": null,
      "right": null,
      "top": null,
      "visibility": null,
      "width": null
     }
    },
    "715d280b0cc94114a11c3f9ce56dfc02": {
     "model_module": "@jupyter-widgets/base",
     "model_module_version": "1.2.0",
     "model_name": "LayoutModel",
     "state": {
      "_model_module": "@jupyter-widgets/base",
      "_model_module_version": "1.2.0",
      "_model_name": "LayoutModel",
      "_view_count": null,
      "_view_module": "@jupyter-widgets/base",
      "_view_module_version": "1.2.0",
      "_view_name": "LayoutView",
      "align_content": null,
      "align_items": null,
      "align_self": null,
      "border": null,
      "bottom": null,
      "display": null,
      "flex": null,
      "flex_flow": null,
      "grid_area": null,
      "grid_auto_columns": null,
      "grid_auto_flow": null,
      "grid_auto_rows": null,
      "grid_column": null,
      "grid_gap": null,
      "grid_row": null,
      "grid_template_areas": null,
      "grid_template_columns": null,
      "grid_template_rows": null,
      "height": null,
      "justify_content": null,
      "justify_items": null,
      "left": null,
      "margin": null,
      "max_height": null,
      "max_width": null,
      "min_height": null,
      "min_width": null,
      "object_fit": null,
      "object_position": null,
      "order": null,
      "overflow": null,
      "overflow_x": null,
      "overflow_y": null,
      "padding": null,
      "right": null,
      "top": null,
      "visibility": null,
      "width": null
     }
    },
    "71c961a440c74056b20ba6060a047b13": {
     "model_module": "@jupyter-widgets/base",
     "model_module_version": "1.2.0",
     "model_name": "LayoutModel",
     "state": {
      "_model_module": "@jupyter-widgets/base",
      "_model_module_version": "1.2.0",
      "_model_name": "LayoutModel",
      "_view_count": null,
      "_view_module": "@jupyter-widgets/base",
      "_view_module_version": "1.2.0",
      "_view_name": "LayoutView",
      "align_content": null,
      "align_items": null,
      "align_self": null,
      "border": null,
      "bottom": null,
      "display": null,
      "flex": null,
      "flex_flow": null,
      "grid_area": null,
      "grid_auto_columns": null,
      "grid_auto_flow": null,
      "grid_auto_rows": null,
      "grid_column": null,
      "grid_gap": null,
      "grid_row": null,
      "grid_template_areas": null,
      "grid_template_columns": null,
      "grid_template_rows": null,
      "height": null,
      "justify_content": null,
      "justify_items": null,
      "left": null,
      "margin": null,
      "max_height": null,
      "max_width": null,
      "min_height": null,
      "min_width": null,
      "object_fit": null,
      "object_position": null,
      "order": null,
      "overflow": null,
      "overflow_x": null,
      "overflow_y": null,
      "padding": null,
      "right": null,
      "top": null,
      "visibility": null,
      "width": null
     }
    },
    "71fef024199b47b4b151a689e461ede1": {
     "model_module": "@jupyter-widgets/controls",
     "model_module_version": "1.5.0",
     "model_name": "DescriptionStyleModel",
     "state": {
      "_model_module": "@jupyter-widgets/controls",
      "_model_module_version": "1.5.0",
      "_model_name": "DescriptionStyleModel",
      "_view_count": null,
      "_view_module": "@jupyter-widgets/base",
      "_view_module_version": "1.2.0",
      "_view_name": "StyleView",
      "description_width": ""
     }
    },
    "766fbee584db4e788ee44a87e930bec2": {
     "model_module": "@jupyter-widgets/base",
     "model_module_version": "1.2.0",
     "model_name": "LayoutModel",
     "state": {
      "_model_module": "@jupyter-widgets/base",
      "_model_module_version": "1.2.0",
      "_model_name": "LayoutModel",
      "_view_count": null,
      "_view_module": "@jupyter-widgets/base",
      "_view_module_version": "1.2.0",
      "_view_name": "LayoutView",
      "align_content": null,
      "align_items": null,
      "align_self": null,
      "border": null,
      "bottom": null,
      "display": null,
      "flex": null,
      "flex_flow": null,
      "grid_area": null,
      "grid_auto_columns": null,
      "grid_auto_flow": null,
      "grid_auto_rows": null,
      "grid_column": null,
      "grid_gap": null,
      "grid_row": null,
      "grid_template_areas": null,
      "grid_template_columns": null,
      "grid_template_rows": null,
      "height": null,
      "justify_content": null,
      "justify_items": null,
      "left": null,
      "margin": null,
      "max_height": null,
      "max_width": null,
      "min_height": null,
      "min_width": null,
      "object_fit": null,
      "object_position": null,
      "order": null,
      "overflow": null,
      "overflow_x": null,
      "overflow_y": null,
      "padding": null,
      "right": null,
      "top": null,
      "visibility": null,
      "width": null
     }
    },
    "7748780ddd6d4c5ab6ac27ef71e91b34": {
     "model_module": "@jupyter-widgets/base",
     "model_module_version": "1.2.0",
     "model_name": "LayoutModel",
     "state": {
      "_model_module": "@jupyter-widgets/base",
      "_model_module_version": "1.2.0",
      "_model_name": "LayoutModel",
      "_view_count": null,
      "_view_module": "@jupyter-widgets/base",
      "_view_module_version": "1.2.0",
      "_view_name": "LayoutView",
      "align_content": null,
      "align_items": null,
      "align_self": null,
      "border": null,
      "bottom": null,
      "display": null,
      "flex": null,
      "flex_flow": null,
      "grid_area": null,
      "grid_auto_columns": null,
      "grid_auto_flow": null,
      "grid_auto_rows": null,
      "grid_column": null,
      "grid_gap": null,
      "grid_row": null,
      "grid_template_areas": null,
      "grid_template_columns": null,
      "grid_template_rows": null,
      "height": null,
      "justify_content": null,
      "justify_items": null,
      "left": null,
      "margin": null,
      "max_height": null,
      "max_width": null,
      "min_height": null,
      "min_width": null,
      "object_fit": null,
      "object_position": null,
      "order": null,
      "overflow": null,
      "overflow_x": null,
      "overflow_y": null,
      "padding": null,
      "right": null,
      "top": null,
      "visibility": null,
      "width": null
     }
    },
    "7789c7ca680742bc918c43169737ef4d": {
     "model_module": "@jupyter-widgets/controls",
     "model_module_version": "1.5.0",
     "model_name": "HTMLModel",
     "state": {
      "_dom_classes": [],
      "_model_module": "@jupyter-widgets/controls",
      "_model_module_version": "1.5.0",
      "_model_name": "HTMLModel",
      "_view_count": null,
      "_view_module": "@jupyter-widgets/controls",
      "_view_module_version": "1.5.0",
      "_view_name": "HTMLView",
      "description": "",
      "description_tooltip": null,
      "layout": "IPY_MODEL_994111154bbb45878c30d2b60093aff6",
      "placeholder": "​",
      "style": "IPY_MODEL_69b20994d6d54029885def37be89252a",
      "value": "Downloading builder script: 100%"
     }
    },
    "779fe0918f804ed7b25e0833a4a837db": {
     "model_module": "@jupyter-widgets/controls",
     "model_module_version": "1.5.0",
     "model_name": "DescriptionStyleModel",
     "state": {
      "_model_module": "@jupyter-widgets/controls",
      "_model_module_version": "1.5.0",
      "_model_name": "DescriptionStyleModel",
      "_view_count": null,
      "_view_module": "@jupyter-widgets/base",
      "_view_module_version": "1.2.0",
      "_view_name": "StyleView",
      "description_width": ""
     }
    },
    "79ca9f6fe4af4832ae86a236b6212b7f": {
     "model_module": "@jupyter-widgets/base",
     "model_module_version": "1.2.0",
     "model_name": "LayoutModel",
     "state": {
      "_model_module": "@jupyter-widgets/base",
      "_model_module_version": "1.2.0",
      "_model_name": "LayoutModel",
      "_view_count": null,
      "_view_module": "@jupyter-widgets/base",
      "_view_module_version": "1.2.0",
      "_view_name": "LayoutView",
      "align_content": null,
      "align_items": null,
      "align_self": null,
      "border": null,
      "bottom": null,
      "display": null,
      "flex": null,
      "flex_flow": null,
      "grid_area": null,
      "grid_auto_columns": null,
      "grid_auto_flow": null,
      "grid_auto_rows": null,
      "grid_column": null,
      "grid_gap": null,
      "grid_row": null,
      "grid_template_areas": null,
      "grid_template_columns": null,
      "grid_template_rows": null,
      "height": null,
      "justify_content": null,
      "justify_items": null,
      "left": null,
      "margin": null,
      "max_height": null,
      "max_width": null,
      "min_height": null,
      "min_width": null,
      "object_fit": null,
      "object_position": null,
      "order": null,
      "overflow": null,
      "overflow_x": null,
      "overflow_y": null,
      "padding": null,
      "right": null,
      "top": null,
      "visibility": null,
      "width": null
     }
    },
    "7b76cbe8d18543ad9f136862305a7ea2": {
     "model_module": "@jupyter-widgets/controls",
     "model_module_version": "1.5.0",
     "model_name": "HTMLModel",
     "state": {
      "_dom_classes": [],
      "_model_module": "@jupyter-widgets/controls",
      "_model_module_version": "1.5.0",
      "_model_name": "HTMLModel",
      "_view_count": null,
      "_view_module": "@jupyter-widgets/controls",
      "_view_module_version": "1.5.0",
      "_view_name": "HTMLView",
      "description": "",
      "description_tooltip": null,
      "layout": "IPY_MODEL_2f9fa8c8aa95407ea11cc0336f98562c",
      "placeholder": "​",
      "style": "IPY_MODEL_779fe0918f804ed7b25e0833a4a837db",
      "value": " 2.42M/2.42M [00:00&lt;00:00, 18.3MB/s]"
     }
    },
    "7d71ce02b2e24e48b8e02d252c38ec5f": {
     "model_module": "@jupyter-widgets/controls",
     "model_module_version": "1.5.0",
     "model_name": "FloatProgressModel",
     "state": {
      "_dom_classes": [],
      "_model_module": "@jupyter-widgets/controls",
      "_model_module_version": "1.5.0",
      "_model_name": "FloatProgressModel",
      "_view_count": null,
      "_view_module": "@jupyter-widgets/controls",
      "_view_module_version": "1.5.0",
      "_view_name": "ProgressView",
      "bar_style": "success",
      "description": "",
      "description_tooltip": null,
      "layout": "IPY_MODEL_d792621de35e450fb86e44852e7e7ee5",
      "max": 2201,
      "min": 0,
      "orientation": "horizontal",
      "style": "IPY_MODEL_9fd7e80b48bf4efdb0d017a2eb809361",
      "value": 2201
     }
    },
    "7dc01ad741794a6489a8d3de0e7b1903": {
     "model_module": "@jupyter-widgets/controls",
     "model_module_version": "1.5.0",
     "model_name": "HBoxModel",
     "state": {
      "_dom_classes": [],
      "_model_module": "@jupyter-widgets/controls",
      "_model_module_version": "1.5.0",
      "_model_name": "HBoxModel",
      "_view_count": null,
      "_view_module": "@jupyter-widgets/controls",
      "_view_module_version": "1.5.0",
      "_view_name": "HBoxView",
      "box_style": "",
      "children": [
       "IPY_MODEL_c4a92744fd644bcbadf69123b5a4f200",
       "IPY_MODEL_b905191daedf49c29dc7d01593bb4f48",
       "IPY_MODEL_8e5fabc5972840e0a018c62172323d07"
      ],
      "layout": "IPY_MODEL_5256773e54554dc2a4076d84a6c2b5cb"
     }
    },
    "7dfd0148676a4d0ebe01c4adfc480d72": {
     "model_module": "@jupyter-widgets/base",
     "model_module_version": "1.2.0",
     "model_name": "LayoutModel",
     "state": {
      "_model_module": "@jupyter-widgets/base",
      "_model_module_version": "1.2.0",
      "_model_name": "LayoutModel",
      "_view_count": null,
      "_view_module": "@jupyter-widgets/base",
      "_view_module_version": "1.2.0",
      "_view_name": "LayoutView",
      "align_content": null,
      "align_items": null,
      "align_self": null,
      "border": null,
      "bottom": null,
      "display": null,
      "flex": null,
      "flex_flow": null,
      "grid_area": null,
      "grid_auto_columns": null,
      "grid_auto_flow": null,
      "grid_auto_rows": null,
      "grid_column": null,
      "grid_gap": null,
      "grid_row": null,
      "grid_template_areas": null,
      "grid_template_columns": null,
      "grid_template_rows": null,
      "height": null,
      "justify_content": null,
      "justify_items": null,
      "left": null,
      "margin": null,
      "max_height": null,
      "max_width": null,
      "min_height": null,
      "min_width": null,
      "object_fit": null,
      "object_position": null,
      "order": null,
      "overflow": null,
      "overflow_x": null,
      "overflow_y": null,
      "padding": null,
      "right": null,
      "top": null,
      "visibility": null,
      "width": null
     }
    },
    "7edc959e8c1d493fbe40077aa16fb3d4": {
     "model_module": "@jupyter-widgets/base",
     "model_module_version": "1.2.0",
     "model_name": "LayoutModel",
     "state": {
      "_model_module": "@jupyter-widgets/base",
      "_model_module_version": "1.2.0",
      "_model_name": "LayoutModel",
      "_view_count": null,
      "_view_module": "@jupyter-widgets/base",
      "_view_module_version": "1.2.0",
      "_view_name": "LayoutView",
      "align_content": null,
      "align_items": null,
      "align_self": null,
      "border": null,
      "bottom": null,
      "display": null,
      "flex": null,
      "flex_flow": null,
      "grid_area": null,
      "grid_auto_columns": null,
      "grid_auto_flow": null,
      "grid_auto_rows": null,
      "grid_column": null,
      "grid_gap": null,
      "grid_row": null,
      "grid_template_areas": null,
      "grid_template_columns": null,
      "grid_template_rows": null,
      "height": null,
      "justify_content": null,
      "justify_items": null,
      "left": null,
      "margin": null,
      "max_height": null,
      "max_width": null,
      "min_height": null,
      "min_width": null,
      "object_fit": null,
      "object_position": null,
      "order": null,
      "overflow": null,
      "overflow_x": null,
      "overflow_y": null,
      "padding": null,
      "right": null,
      "top": null,
      "visibility": null,
      "width": null
     }
    },
    "7eeb2bad3d004fb1a2d2f3b90a444b71": {
     "model_module": "@jupyter-widgets/controls",
     "model_module_version": "1.5.0",
     "model_name": "DescriptionStyleModel",
     "state": {
      "_model_module": "@jupyter-widgets/controls",
      "_model_module_version": "1.5.0",
      "_model_name": "DescriptionStyleModel",
      "_view_count": null,
      "_view_module": "@jupyter-widgets/base",
      "_view_module_version": "1.2.0",
      "_view_name": "StyleView",
      "description_width": ""
     }
    },
    "7f4fb655a8e140a8812c4d1a8aef0611": {
     "model_module": "@jupyter-widgets/controls",
     "model_module_version": "1.5.0",
     "model_name": "ProgressStyleModel",
     "state": {
      "_model_module": "@jupyter-widgets/controls",
      "_model_module_version": "1.5.0",
      "_model_name": "ProgressStyleModel",
      "_view_count": null,
      "_view_module": "@jupyter-widgets/base",
      "_view_module_version": "1.2.0",
      "_view_name": "StyleView",
      "bar_color": null,
      "description_width": ""
     }
    },
    "7fbf190ca55949daaf971902c94cafef": {
     "model_module": "@jupyter-widgets/base",
     "model_module_version": "1.2.0",
     "model_name": "LayoutModel",
     "state": {
      "_model_module": "@jupyter-widgets/base",
      "_model_module_version": "1.2.0",
      "_model_name": "LayoutModel",
      "_view_count": null,
      "_view_module": "@jupyter-widgets/base",
      "_view_module_version": "1.2.0",
      "_view_name": "LayoutView",
      "align_content": null,
      "align_items": null,
      "align_self": null,
      "border": null,
      "bottom": null,
      "display": null,
      "flex": null,
      "flex_flow": null,
      "grid_area": null,
      "grid_auto_columns": null,
      "grid_auto_flow": null,
      "grid_auto_rows": null,
      "grid_column": null,
      "grid_gap": null,
      "grid_row": null,
      "grid_template_areas": null,
      "grid_template_columns": null,
      "grid_template_rows": null,
      "height": null,
      "justify_content": null,
      "justify_items": null,
      "left": null,
      "margin": null,
      "max_height": null,
      "max_width": null,
      "min_height": null,
      "min_width": null,
      "object_fit": null,
      "object_position": null,
      "order": null,
      "overflow": null,
      "overflow_x": null,
      "overflow_y": null,
      "padding": null,
      "right": null,
      "top": null,
      "visibility": null,
      "width": null
     }
    },
    "81e90e3745aa40878ef3d04f00c9c504": {
     "model_module": "@jupyter-widgets/controls",
     "model_module_version": "1.5.0",
     "model_name": "DescriptionStyleModel",
     "state": {
      "_model_module": "@jupyter-widgets/controls",
      "_model_module_version": "1.5.0",
      "_model_name": "DescriptionStyleModel",
      "_view_count": null,
      "_view_module": "@jupyter-widgets/base",
      "_view_module_version": "1.2.0",
      "_view_name": "StyleView",
      "description_width": ""
     }
    },
    "82491f90614d4eef9e175f344ca4fed8": {
     "model_module": "@jupyter-widgets/controls",
     "model_module_version": "1.5.0",
     "model_name": "ProgressStyleModel",
     "state": {
      "_model_module": "@jupyter-widgets/controls",
      "_model_module_version": "1.5.0",
      "_model_name": "ProgressStyleModel",
      "_view_count": null,
      "_view_module": "@jupyter-widgets/base",
      "_view_module_version": "1.2.0",
      "_view_name": "StyleView",
      "bar_color": null,
      "description_width": ""
     }
    },
    "843bea0a5d0646b28d86344521fc2df5": {
     "model_module": "@jupyter-widgets/controls",
     "model_module_version": "1.5.0",
     "model_name": "HBoxModel",
     "state": {
      "_dom_classes": [],
      "_model_module": "@jupyter-widgets/controls",
      "_model_module_version": "1.5.0",
      "_model_name": "HBoxModel",
      "_view_count": null,
      "_view_module": "@jupyter-widgets/controls",
      "_view_module_version": "1.5.0",
      "_view_name": "HBoxView",
      "box_style": "",
      "children": [
       "IPY_MODEL_aa363cf8f5d44106a47a11c3f7f3e9d9",
       "IPY_MODEL_28f26b52600a4481a0a0c3ef9403a26e",
       "IPY_MODEL_3b8de61e75994849baa340cbb9244fcc"
      ],
      "layout": "IPY_MODEL_d22af35d6263481b8af5bd148c9aef08"
     }
    },
    "8456424b72a74a9187eabc2dbb025c5b": {
     "model_module": "@jupyter-widgets/controls",
     "model_module_version": "1.5.0",
     "model_name": "HBoxModel",
     "state": {
      "_dom_classes": [],
      "_model_module": "@jupyter-widgets/controls",
      "_model_module_version": "1.5.0",
      "_model_name": "HBoxModel",
      "_view_count": null,
      "_view_module": "@jupyter-widgets/controls",
      "_view_module_version": "1.5.0",
      "_view_name": "HBoxView",
      "box_style": "",
      "children": [
       "IPY_MODEL_b736d0000f59450da1709daf7f48833d",
       "IPY_MODEL_e3c4fe75f5164657ac2b64902121a4d3",
       "IPY_MODEL_d5d0b0261db642ad955966cd3b881a77"
      ],
      "layout": "IPY_MODEL_b1147d8aec4944c4ad0c291d9c6b25ad"
     }
    },
    "870da9d0644243f29e7d645ec242881c": {
     "model_module": "@jupyter-widgets/controls",
     "model_module_version": "1.5.0",
     "model_name": "FloatProgressModel",
     "state": {
      "_dom_classes": [],
      "_model_module": "@jupyter-widgets/controls",
      "_model_module_version": "1.5.0",
      "_model_name": "FloatProgressModel",
      "_view_count": null,
      "_view_module": "@jupyter-widgets/controls",
      "_view_module_version": "1.5.0",
      "_view_name": "ProgressView",
      "bar_style": "success",
      "description": "",
      "description_tooltip": null,
      "layout": "IPY_MODEL_29ba4f742ce0486097b31a9b6e4c1425",
      "max": 87599,
      "min": 0,
      "orientation": "horizontal",
      "style": "IPY_MODEL_a26629e5c0964c4da44146a2a5f301a6",
      "value": 87599
     }
    },
    "897f1f9d19e7476f94394f080b1e0cc1": {
     "model_module": "@jupyter-widgets/base",
     "model_module_version": "1.2.0",
     "model_name": "LayoutModel",
     "state": {
      "_model_module": "@jupyter-widgets/base",
      "_model_module_version": "1.2.0",
      "_model_name": "LayoutModel",
      "_view_count": null,
      "_view_module": "@jupyter-widgets/base",
      "_view_module_version": "1.2.0",
      "_view_name": "LayoutView",
      "align_content": null,
      "align_items": null,
      "align_self": null,
      "border": null,
      "bottom": null,
      "display": null,
      "flex": null,
      "flex_flow": null,
      "grid_area": null,
      "grid_auto_columns": null,
      "grid_auto_flow": null,
      "grid_auto_rows": null,
      "grid_column": null,
      "grid_gap": null,
      "grid_row": null,
      "grid_template_areas": null,
      "grid_template_columns": null,
      "grid_template_rows": null,
      "height": null,
      "justify_content": null,
      "justify_items": null,
      "left": null,
      "margin": null,
      "max_height": null,
      "max_width": null,
      "min_height": null,
      "min_width": null,
      "object_fit": null,
      "object_position": null,
      "order": null,
      "overflow": null,
      "overflow_x": null,
      "overflow_y": null,
      "padding": null,
      "right": null,
      "top": null,
      "visibility": null,
      "width": null
     }
    },
    "8cc7f813849d4ab1b4333935973b43e5": {
     "model_module": "@jupyter-widgets/controls",
     "model_module_version": "1.5.0",
     "model_name": "HTMLModel",
     "state": {
      "_dom_classes": [],
      "_model_module": "@jupyter-widgets/controls",
      "_model_module_version": "1.5.0",
      "_model_name": "HTMLModel",
      "_view_count": null,
      "_view_module": "@jupyter-widgets/controls",
      "_view_module_version": "1.5.0",
      "_view_name": "HTMLView",
      "description": "",
      "description_tooltip": null,
      "layout": "IPY_MODEL_0918873cebb14deebb2af2eaeac61f11",
      "placeholder": "​",
      "style": "IPY_MODEL_49f9e68701a149f4b591373dad79b2be",
      "value": "spiece.model: 100%"
     }
    },
    "8e5fabc5972840e0a018c62172323d07": {
     "model_module": "@jupyter-widgets/controls",
     "model_module_version": "1.5.0",
     "model_name": "HTMLModel",
     "state": {
      "_dom_classes": [],
      "_model_module": "@jupyter-widgets/controls",
      "_model_module_version": "1.5.0",
      "_model_name": "HTMLModel",
      "_view_count": null,
      "_view_module": "@jupyter-widgets/controls",
      "_view_module_version": "1.5.0",
      "_view_name": "HTMLView",
      "description": "",
      "description_tooltip": null,
      "layout": "IPY_MODEL_897f1f9d19e7476f94394f080b1e0cc1",
      "placeholder": "​",
      "style": "IPY_MODEL_cc54523507094c2da38bc4009916af87",
      "value": " 1.82M/1.82M [00:00&lt;00:00, 6.88MB/s]"
     }
    },
    "8fa00abfa2a14161a8474a4cee6cf771": {
     "model_module": "@jupyter-widgets/controls",
     "model_module_version": "1.5.0",
     "model_name": "HTMLModel",
     "state": {
      "_dom_classes": [],
      "_model_module": "@jupyter-widgets/controls",
      "_model_module_version": "1.5.0",
      "_model_name": "HTMLModel",
      "_view_count": null,
      "_view_module": "@jupyter-widgets/controls",
      "_view_module_version": "1.5.0",
      "_view_name": "HTMLView",
      "description": "",
      "description_tooltip": null,
      "layout": "IPY_MODEL_5eb9290237dc497da7f8cab37c5e19f2",
      "placeholder": "​",
      "style": "IPY_MODEL_cb1b12dece7c4276bd806f1dcbb8178b",
      "value": " 3171/3171 [00:03&lt;00:00, 1013.54 examples/s]"
     }
    },
    "90a65456728a4f05befd4806e9550930": {
     "model_module": "@jupyter-widgets/controls",
     "model_module_version": "1.5.0",
     "model_name": "DescriptionStyleModel",
     "state": {
      "_model_module": "@jupyter-widgets/controls",
      "_model_module_version": "1.5.0",
      "_model_name": "DescriptionStyleModel",
      "_view_count": null,
      "_view_module": "@jupyter-widgets/base",
      "_view_module_version": "1.2.0",
      "_view_name": "StyleView",
      "description_width": ""
     }
    },
    "92bb494af38140e3a66bb3d45e4053cc": {
     "model_module": "@jupyter-widgets/controls",
     "model_module_version": "1.5.0",
     "model_name": "HTMLModel",
     "state": {
      "_dom_classes": [],
      "_model_module": "@jupyter-widgets/controls",
      "_model_module_version": "1.5.0",
      "_model_name": "HTMLModel",
      "_view_count": null,
      "_view_module": "@jupyter-widgets/controls",
      "_view_module_version": "1.5.0",
      "_view_name": "HTMLView",
      "description": "",
      "description_tooltip": null,
      "layout": "IPY_MODEL_cad634da25674fb2b401bf9d7bd74873",
      "placeholder": "​",
      "style": "IPY_MODEL_f8b148e575d14b6780e4d1d35301fe44",
      "value": "Generating validation split: 100%"
     }
    },
    "93fad6e20faf4e5bab794c94531fd1f8": {
     "model_module": "@jupyter-widgets/base",
     "model_module_version": "1.2.0",
     "model_name": "LayoutModel",
     "state": {
      "_model_module": "@jupyter-widgets/base",
      "_model_module_version": "1.2.0",
      "_model_name": "LayoutModel",
      "_view_count": null,
      "_view_module": "@jupyter-widgets/base",
      "_view_module_version": "1.2.0",
      "_view_name": "LayoutView",
      "align_content": null,
      "align_items": null,
      "align_self": null,
      "border": null,
      "bottom": null,
      "display": null,
      "flex": null,
      "flex_flow": null,
      "grid_area": null,
      "grid_auto_columns": null,
      "grid_auto_flow": null,
      "grid_auto_rows": null,
      "grid_column": null,
      "grid_gap": null,
      "grid_row": null,
      "grid_template_areas": null,
      "grid_template_columns": null,
      "grid_template_rows": null,
      "height": null,
      "justify_content": null,
      "justify_items": null,
      "left": null,
      "margin": null,
      "max_height": null,
      "max_width": null,
      "min_height": null,
      "min_width": null,
      "object_fit": null,
      "object_position": null,
      "order": null,
      "overflow": null,
      "overflow_x": null,
      "overflow_y": null,
      "padding": null,
      "right": null,
      "top": null,
      "visibility": null,
      "width": null
     }
    },
    "953e58c00bc1481f82bf4cbe14df9622": {
     "model_module": "@jupyter-widgets/controls",
     "model_module_version": "1.5.0",
     "model_name": "ProgressStyleModel",
     "state": {
      "_model_module": "@jupyter-widgets/controls",
      "_model_module_version": "1.5.0",
      "_model_name": "ProgressStyleModel",
      "_view_count": null,
      "_view_module": "@jupyter-widgets/base",
      "_view_module_version": "1.2.0",
      "_view_name": "StyleView",
      "bar_color": null,
      "description_width": ""
     }
    },
    "97427033e3714032a8c8bf91990fffd0": {
     "model_module": "@jupyter-widgets/controls",
     "model_module_version": "1.5.0",
     "model_name": "ProgressStyleModel",
     "state": {
      "_model_module": "@jupyter-widgets/controls",
      "_model_module_version": "1.5.0",
      "_model_name": "ProgressStyleModel",
      "_view_count": null,
      "_view_module": "@jupyter-widgets/base",
      "_view_module_version": "1.2.0",
      "_view_name": "StyleView",
      "bar_color": null,
      "description_width": ""
     }
    },
    "9809cd0a31d74989a4c6b8a0b907b03e": {
     "model_module": "@jupyter-widgets/base",
     "model_module_version": "1.2.0",
     "model_name": "LayoutModel",
     "state": {
      "_model_module": "@jupyter-widgets/base",
      "_model_module_version": "1.2.0",
      "_model_name": "LayoutModel",
      "_view_count": null,
      "_view_module": "@jupyter-widgets/base",
      "_view_module_version": "1.2.0",
      "_view_name": "LayoutView",
      "align_content": null,
      "align_items": null,
      "align_self": null,
      "border": null,
      "bottom": null,
      "display": null,
      "flex": null,
      "flex_flow": null,
      "grid_area": null,
      "grid_auto_columns": null,
      "grid_auto_flow": null,
      "grid_auto_rows": null,
      "grid_column": null,
      "grid_gap": null,
      "grid_row": null,
      "grid_template_areas": null,
      "grid_template_columns": null,
      "grid_template_rows": null,
      "height": null,
      "justify_content": null,
      "justify_items": null,
      "left": null,
      "margin": null,
      "max_height": null,
      "max_width": null,
      "min_height": null,
      "min_width": null,
      "object_fit": null,
      "object_position": null,
      "order": null,
      "overflow": null,
      "overflow_x": null,
      "overflow_y": null,
      "padding": null,
      "right": null,
      "top": null,
      "visibility": null,
      "width": null
     }
    },
    "994111154bbb45878c30d2b60093aff6": {
     "model_module": "@jupyter-widgets/base",
     "model_module_version": "1.2.0",
     "model_name": "LayoutModel",
     "state": {
      "_model_module": "@jupyter-widgets/base",
      "_model_module_version": "1.2.0",
      "_model_name": "LayoutModel",
      "_view_count": null,
      "_view_module": "@jupyter-widgets/base",
      "_view_module_version": "1.2.0",
      "_view_name": "LayoutView",
      "align_content": null,
      "align_items": null,
      "align_self": null,
      "border": null,
      "bottom": null,
      "display": null,
      "flex": null,
      "flex_flow": null,
      "grid_area": null,
      "grid_auto_columns": null,
      "grid_auto_flow": null,
      "grid_auto_rows": null,
      "grid_column": null,
      "grid_gap": null,
      "grid_row": null,
      "grid_template_areas": null,
      "grid_template_columns": null,
      "grid_template_rows": null,
      "height": null,
      "justify_content": null,
      "justify_items": null,
      "left": null,
      "margin": null,
      "max_height": null,
      "max_width": null,
      "min_height": null,
      "min_width": null,
      "object_fit": null,
      "object_position": null,
      "order": null,
      "overflow": null,
      "overflow_x": null,
      "overflow_y": null,
      "padding": null,
      "right": null,
      "top": null,
      "visibility": null,
      "width": null
     }
    },
    "9ba7d3221df7437c83f0bfd03d114b74": {
     "model_module": "@jupyter-widgets/controls",
     "model_module_version": "1.5.0",
     "model_name": "HTMLModel",
     "state": {
      "_dom_classes": [],
      "_model_module": "@jupyter-widgets/controls",
      "_model_module_version": "1.5.0",
      "_model_name": "HTMLModel",
      "_view_count": null,
      "_view_module": "@jupyter-widgets/controls",
      "_view_module_version": "1.5.0",
      "_view_name": "HTMLView",
      "description": "",
      "description_tooltip": null,
      "layout": "IPY_MODEL_51afcdd2fe324c29b62d2c24b337abeb",
      "placeholder": "​",
      "style": "IPY_MODEL_81e90e3745aa40878ef3d04f00c9c504",
      "value": "config.json: 100%"
     }
    },
    "9d8c471dcdb14aa584a90ab7baea7b99": {
     "model_module": "@jupyter-widgets/controls",
     "model_module_version": "1.5.0",
     "model_name": "FloatProgressModel",
     "state": {
      "_dom_classes": [],
      "_model_module": "@jupyter-widgets/controls",
      "_model_module_version": "1.5.0",
      "_model_name": "FloatProgressModel",
      "_view_count": null,
      "_view_module": "@jupyter-widgets/controls",
      "_view_module_version": "1.5.0",
      "_view_name": "ProgressView",
      "bar_style": "success",
      "description": "",
      "description_tooltip": null,
      "layout": "IPY_MODEL_766fbee584db4e788ee44a87e930bec2",
      "max": 10570,
      "min": 0,
      "orientation": "horizontal",
      "style": "IPY_MODEL_7f4fb655a8e140a8812c4d1a8aef0611",
      "value": 10570
     }
    },
    "9f44da956c92463b837e7fdede052152": {
     "model_module": "@jupyter-widgets/controls",
     "model_module_version": "1.5.0",
     "model_name": "FloatProgressModel",
     "state": {
      "_dom_classes": [],
      "_model_module": "@jupyter-widgets/controls",
      "_model_module_version": "1.5.0",
      "_model_name": "FloatProgressModel",
      "_view_count": null,
      "_view_module": "@jupyter-widgets/controls",
      "_view_module_version": "1.5.0",
      "_view_name": "ProgressView",
      "bar_style": "success",
      "description": "",
      "description_tooltip": null,
      "layout": "IPY_MODEL_79ca9f6fe4af4832ae86a236b6212b7f",
      "max": 3171,
      "min": 0,
      "orientation": "horizontal",
      "style": "IPY_MODEL_bbdd1b7b38f14fc581d266bb0ad5b82e",
      "value": 3171
     }
    },
    "9fd7e80b48bf4efdb0d017a2eb809361": {
     "model_module": "@jupyter-widgets/controls",
     "model_module_version": "1.5.0",
     "model_name": "ProgressStyleModel",
     "state": {
      "_model_module": "@jupyter-widgets/controls",
      "_model_module_version": "1.5.0",
      "_model_name": "ProgressStyleModel",
      "_view_count": null,
      "_view_module": "@jupyter-widgets/base",
      "_view_module_version": "1.2.0",
      "_view_name": "StyleView",
      "bar_color": null,
      "description_width": ""
     }
    },
    "a1f1569977744c3dbd1478becc4ad5ac": {
     "model_module": "@jupyter-widgets/controls",
     "model_module_version": "1.5.0",
     "model_name": "ProgressStyleModel",
     "state": {
      "_model_module": "@jupyter-widgets/controls",
      "_model_module_version": "1.5.0",
      "_model_name": "ProgressStyleModel",
      "_view_count": null,
      "_view_module": "@jupyter-widgets/base",
      "_view_module_version": "1.2.0",
      "_view_name": "StyleView",
      "bar_color": null,
      "description_width": ""
     }
    },
    "a26629e5c0964c4da44146a2a5f301a6": {
     "model_module": "@jupyter-widgets/controls",
     "model_module_version": "1.5.0",
     "model_name": "ProgressStyleModel",
     "state": {
      "_model_module": "@jupyter-widgets/controls",
      "_model_module_version": "1.5.0",
      "_model_name": "ProgressStyleModel",
      "_view_count": null,
      "_view_module": "@jupyter-widgets/base",
      "_view_module_version": "1.2.0",
      "_view_name": "StyleView",
      "bar_color": null,
      "description_width": ""
     }
    },
    "a61da36b355e4909beeb387114eb4c3d": {
     "model_module": "@jupyter-widgets/controls",
     "model_module_version": "1.5.0",
     "model_name": "DescriptionStyleModel",
     "state": {
      "_model_module": "@jupyter-widgets/controls",
      "_model_module_version": "1.5.0",
      "_model_name": "DescriptionStyleModel",
      "_view_count": null,
      "_view_module": "@jupyter-widgets/base",
      "_view_module_version": "1.2.0",
      "_view_name": "StyleView",
      "description_width": ""
     }
    },
    "a659abe5448c4269bb4773575aa20cb1": {
     "model_module": "@jupyter-widgets/controls",
     "model_module_version": "1.5.0",
     "model_name": "HBoxModel",
     "state": {
      "_dom_classes": [],
      "_model_module": "@jupyter-widgets/controls",
      "_model_module_version": "1.5.0",
      "_model_name": "HBoxModel",
      "_view_count": null,
      "_view_module": "@jupyter-widgets/controls",
      "_view_module_version": "1.5.0",
      "_view_name": "HBoxView",
      "box_style": "",
      "children": [
       "IPY_MODEL_ebc988d7b78d403b8cf661aea4e3a255",
       "IPY_MODEL_6ad5bee0e164469caa947f1a4def5cdd",
       "IPY_MODEL_26c3ef468cd2419abca883c9ca73e9cd"
      ],
      "layout": "IPY_MODEL_9809cd0a31d74989a4c6b8a0b907b03e"
     }
    },
    "aa363cf8f5d44106a47a11c3f7f3e9d9": {
     "model_module": "@jupyter-widgets/controls",
     "model_module_version": "1.5.0",
     "model_name": "HTMLModel",
     "state": {
      "_dom_classes": [],
      "_model_module": "@jupyter-widgets/controls",
      "_model_module_version": "1.5.0",
      "_model_name": "HTMLModel",
      "_view_count": null,
      "_view_module": "@jupyter-widgets/controls",
      "_view_module_version": "1.5.0",
      "_view_name": "HTMLView",
      "description": "",
      "description_tooltip": null,
      "layout": "IPY_MODEL_e6af0cf1fb014f19819a58c244ccc28e",
      "placeholder": "​",
      "style": "IPY_MODEL_36d21997ce2f4df99ab52c335ebc5539",
      "value": "tokenizer_config.json: 100%"
     }
    },
    "aed82f02af3f4fe9b6e343832bd38ceb": {
     "model_module": "@jupyter-widgets/controls",
     "model_module_version": "1.5.0",
     "model_name": "DescriptionStyleModel",
     "state": {
      "_model_module": "@jupyter-widgets/controls",
      "_model_module_version": "1.5.0",
      "_model_name": "DescriptionStyleModel",
      "_view_count": null,
      "_view_module": "@jupyter-widgets/base",
      "_view_module_version": "1.2.0",
      "_view_name": "StyleView",
      "description_width": ""
     }
    },
    "af3269bef23d49ffa9640688be02dcc5": {
     "model_module": "@jupyter-widgets/controls",
     "model_module_version": "1.5.0",
     "model_name": "HBoxModel",
     "state": {
      "_dom_classes": [],
      "_model_module": "@jupyter-widgets/controls",
      "_model_module_version": "1.5.0",
      "_model_name": "HBoxModel",
      "_view_count": null,
      "_view_module": "@jupyter-widgets/controls",
      "_view_module_version": "1.5.0",
      "_view_name": "HBoxView",
      "box_style": "",
      "children": [
       "IPY_MODEL_005a30af0ac04fbbb69fa0b021c42fa5",
       "IPY_MODEL_7d71ce02b2e24e48b8e02d252c38ec5f",
       "IPY_MODEL_e427760e4cf549ff81a6db9a1ae4bd1c"
      ],
      "layout": "IPY_MODEL_c8443cda31524284a04292465912cd03"
     }
    },
    "af70127aad274f3487b39f9542993825": {
     "model_module": "@jupyter-widgets/base",
     "model_module_version": "1.2.0",
     "model_name": "LayoutModel",
     "state": {
      "_model_module": "@jupyter-widgets/base",
      "_model_module_version": "1.2.0",
      "_model_name": "LayoutModel",
      "_view_count": null,
      "_view_module": "@jupyter-widgets/base",
      "_view_module_version": "1.2.0",
      "_view_name": "LayoutView",
      "align_content": null,
      "align_items": null,
      "align_self": null,
      "border": null,
      "bottom": null,
      "display": null,
      "flex": null,
      "flex_flow": null,
      "grid_area": null,
      "grid_auto_columns": null,
      "grid_auto_flow": null,
      "grid_auto_rows": null,
      "grid_column": null,
      "grid_gap": null,
      "grid_row": null,
      "grid_template_areas": null,
      "grid_template_columns": null,
      "grid_template_rows": null,
      "height": null,
      "justify_content": null,
      "justify_items": null,
      "left": null,
      "margin": null,
      "max_height": null,
      "max_width": null,
      "min_height": null,
      "min_width": null,
      "object_fit": null,
      "object_position": null,
      "order": null,
      "overflow": null,
      "overflow_x": null,
      "overflow_y": null,
      "padding": null,
      "right": null,
      "top": null,
      "visibility": null,
      "width": null
     }
    },
    "b0511a94f26341808134f80806af27dc": {
     "model_module": "@jupyter-widgets/controls",
     "model_module_version": "1.5.0",
     "model_name": "FloatProgressModel",
     "state": {
      "_dom_classes": [],
      "_model_module": "@jupyter-widgets/controls",
      "_model_module_version": "1.5.0",
      "_model_name": "FloatProgressModel",
      "_view_count": null,
      "_view_module": "@jupyter-widgets/controls",
      "_view_module_version": "1.5.0",
      "_view_name": "ProgressView",
      "bar_style": "success",
      "description": "",
      "description_tooltip": null,
      "layout": "IPY_MODEL_43beb8be796a4c16918c455b14afdcea",
      "max": 307867048,
      "min": 0,
      "orientation": "horizontal",
      "style": "IPY_MODEL_472be07f6e6a44dfba59ba332d8cfdfb",
      "value": 307867048
     }
    },
    "b0d7f920e666412f90655d1e80ebebaf": {
     "model_module": "@jupyter-widgets/controls",
     "model_module_version": "1.5.0",
     "model_name": "HBoxModel",
     "state": {
      "_dom_classes": [],
      "_model_module": "@jupyter-widgets/controls",
      "_model_module_version": "1.5.0",
      "_model_name": "HBoxModel",
      "_view_count": null,
      "_view_module": "@jupyter-widgets/controls",
      "_view_module_version": "1.5.0",
      "_view_name": "HBoxView",
      "box_style": "",
      "children": [
       "IPY_MODEL_6ab4ef78466c4099aa7fd36ec6d60a27",
       "IPY_MODEL_9f44da956c92463b837e7fdede052152",
       "IPY_MODEL_8fa00abfa2a14161a8474a4cee6cf771"
      ],
      "layout": "IPY_MODEL_2da5cca77ad5477d9fa857dcb895a271"
     }
    },
    "b1147d8aec4944c4ad0c291d9c6b25ad": {
     "model_module": "@jupyter-widgets/base",
     "model_module_version": "1.2.0",
     "model_name": "LayoutModel",
     "state": {
      "_model_module": "@jupyter-widgets/base",
      "_model_module_version": "1.2.0",
      "_model_name": "LayoutModel",
      "_view_count": null,
      "_view_module": "@jupyter-widgets/base",
      "_view_module_version": "1.2.0",
      "_view_name": "LayoutView",
      "align_content": null,
      "align_items": null,
      "align_self": null,
      "border": null,
      "bottom": null,
      "display": null,
      "flex": null,
      "flex_flow": null,
      "grid_area": null,
      "grid_auto_columns": null,
      "grid_auto_flow": null,
      "grid_auto_rows": null,
      "grid_column": null,
      "grid_gap": null,
      "grid_row": null,
      "grid_template_areas": null,
      "grid_template_columns": null,
      "grid_template_rows": null,
      "height": null,
      "justify_content": null,
      "justify_items": null,
      "left": null,
      "margin": null,
      "max_height": null,
      "max_width": null,
      "min_height": null,
      "min_width": null,
      "object_fit": null,
      "object_position": null,
      "order": null,
      "overflow": null,
      "overflow_x": null,
      "overflow_y": null,
      "padding": null,
      "right": null,
      "top": null,
      "visibility": null,
      "width": null
     }
    },
    "b155c2aa2f3a4ec2b6e3cc0b57ee98bd": {
     "model_module": "@jupyter-widgets/base",
     "model_module_version": "1.2.0",
     "model_name": "LayoutModel",
     "state": {
      "_model_module": "@jupyter-widgets/base",
      "_model_module_version": "1.2.0",
      "_model_name": "LayoutModel",
      "_view_count": null,
      "_view_module": "@jupyter-widgets/base",
      "_view_module_version": "1.2.0",
      "_view_name": "LayoutView",
      "align_content": null,
      "align_items": null,
      "align_self": null,
      "border": null,
      "bottom": null,
      "display": null,
      "flex": null,
      "flex_flow": null,
      "grid_area": null,
      "grid_auto_columns": null,
      "grid_auto_flow": null,
      "grid_auto_rows": null,
      "grid_column": null,
      "grid_gap": null,
      "grid_row": null,
      "grid_template_areas": null,
      "grid_template_columns": null,
      "grid_template_rows": null,
      "height": null,
      "justify_content": null,
      "justify_items": null,
      "left": null,
      "margin": null,
      "max_height": null,
      "max_width": null,
      "min_height": null,
      "min_width": null,
      "object_fit": null,
      "object_position": null,
      "order": null,
      "overflow": null,
      "overflow_x": null,
      "overflow_y": null,
      "padding": null,
      "right": null,
      "top": null,
      "visibility": null,
      "width": null
     }
    },
    "b1f52fca815142128b99f151afcbe9ff": {
     "model_module": "@jupyter-widgets/controls",
     "model_module_version": "1.5.0",
     "model_name": "DescriptionStyleModel",
     "state": {
      "_model_module": "@jupyter-widgets/controls",
      "_model_module_version": "1.5.0",
      "_model_name": "DescriptionStyleModel",
      "_view_count": null,
      "_view_module": "@jupyter-widgets/base",
      "_view_module_version": "1.2.0",
      "_view_name": "StyleView",
      "description_width": ""
     }
    },
    "b35ce3d787bd471bb5697d539b6c934c": {
     "model_module": "@jupyter-widgets/base",
     "model_module_version": "1.2.0",
     "model_name": "LayoutModel",
     "state": {
      "_model_module": "@jupyter-widgets/base",
      "_model_module_version": "1.2.0",
      "_model_name": "LayoutModel",
      "_view_count": null,
      "_view_module": "@jupyter-widgets/base",
      "_view_module_version": "1.2.0",
      "_view_name": "LayoutView",
      "align_content": null,
      "align_items": null,
      "align_self": null,
      "border": null,
      "bottom": null,
      "display": null,
      "flex": null,
      "flex_flow": null,
      "grid_area": null,
      "grid_auto_columns": null,
      "grid_auto_flow": null,
      "grid_auto_rows": null,
      "grid_column": null,
      "grid_gap": null,
      "grid_row": null,
      "grid_template_areas": null,
      "grid_template_columns": null,
      "grid_template_rows": null,
      "height": null,
      "justify_content": null,
      "justify_items": null,
      "left": null,
      "margin": null,
      "max_height": null,
      "max_width": null,
      "min_height": null,
      "min_width": null,
      "object_fit": null,
      "object_position": null,
      "order": null,
      "overflow": null,
      "overflow_x": null,
      "overflow_y": null,
      "padding": null,
      "right": null,
      "top": null,
      "visibility": null,
      "width": null
     }
    },
    "b598f1af7d3949a3b891b46b0728208c": {
     "model_module": "@jupyter-widgets/base",
     "model_module_version": "1.2.0",
     "model_name": "LayoutModel",
     "state": {
      "_model_module": "@jupyter-widgets/base",
      "_model_module_version": "1.2.0",
      "_model_name": "LayoutModel",
      "_view_count": null,
      "_view_module": "@jupyter-widgets/base",
      "_view_module_version": "1.2.0",
      "_view_name": "LayoutView",
      "align_content": null,
      "align_items": null,
      "align_self": null,
      "border": null,
      "bottom": null,
      "display": null,
      "flex": null,
      "flex_flow": null,
      "grid_area": null,
      "grid_auto_columns": null,
      "grid_auto_flow": null,
      "grid_auto_rows": null,
      "grid_column": null,
      "grid_gap": null,
      "grid_row": null,
      "grid_template_areas": null,
      "grid_template_columns": null,
      "grid_template_rows": null,
      "height": null,
      "justify_content": null,
      "justify_items": null,
      "left": null,
      "margin": null,
      "max_height": null,
      "max_width": null,
      "min_height": null,
      "min_width": null,
      "object_fit": null,
      "object_position": null,
      "order": null,
      "overflow": null,
      "overflow_x": null,
      "overflow_y": null,
      "padding": null,
      "right": null,
      "top": null,
      "visibility": null,
      "width": null
     }
    },
    "b72b2dc92d7e426f83362aa8d289a866": {
     "model_module": "@jupyter-widgets/controls",
     "model_module_version": "1.5.0",
     "model_name": "ProgressStyleModel",
     "state": {
      "_model_module": "@jupyter-widgets/controls",
      "_model_module_version": "1.5.0",
      "_model_name": "ProgressStyleModel",
      "_view_count": null,
      "_view_module": "@jupyter-widgets/base",
      "_view_module_version": "1.2.0",
      "_view_name": "StyleView",
      "bar_color": null,
      "description_width": ""
     }
    },
    "b736d0000f59450da1709daf7f48833d": {
     "model_module": "@jupyter-widgets/controls",
     "model_module_version": "1.5.0",
     "model_name": "HTMLModel",
     "state": {
      "_dom_classes": [],
      "_model_module": "@jupyter-widgets/controls",
      "_model_module_version": "1.5.0",
      "_model_name": "HTMLModel",
      "_view_count": null,
      "_view_module": "@jupyter-widgets/controls",
      "_view_module_version": "1.5.0",
      "_view_name": "HTMLView",
      "description": "",
      "description_tooltip": null,
      "layout": "IPY_MODEL_bb6d673c4c174107a49554dbf99d8e78",
      "placeholder": "​",
      "style": "IPY_MODEL_a61da36b355e4909beeb387114eb4c3d",
      "value": "Downloading readme: 100%"
     }
    },
    "b905191daedf49c29dc7d01593bb4f48": {
     "model_module": "@jupyter-widgets/controls",
     "model_module_version": "1.5.0",
     "model_name": "FloatProgressModel",
     "state": {
      "_dom_classes": [],
      "_model_module": "@jupyter-widgets/controls",
      "_model_module_version": "1.5.0",
      "_model_name": "FloatProgressModel",
      "_view_count": null,
      "_view_module": "@jupyter-widgets/controls",
      "_view_module_version": "1.5.0",
      "_view_name": "ProgressView",
      "bar_style": "success",
      "description": "",
      "description_tooltip": null,
      "layout": "IPY_MODEL_c491ae712070412aaf752dc6d4f84d91",
      "max": 1819889,
      "min": 0,
      "orientation": "horizontal",
      "style": "IPY_MODEL_a1f1569977744c3dbd1478becc4ad5ac",
      "value": 1819889
     }
    },
    "bb6d673c4c174107a49554dbf99d8e78": {
     "model_module": "@jupyter-widgets/base",
     "model_module_version": "1.2.0",
     "model_name": "LayoutModel",
     "state": {
      "_model_module": "@jupyter-widgets/base",
      "_model_module_version": "1.2.0",
      "_model_name": "LayoutModel",
      "_view_count": null,
      "_view_module": "@jupyter-widgets/base",
      "_view_module_version": "1.2.0",
      "_view_name": "LayoutView",
      "align_content": null,
      "align_items": null,
      "align_self": null,
      "border": null,
      "bottom": null,
      "display": null,
      "flex": null,
      "flex_flow": null,
      "grid_area": null,
      "grid_auto_columns": null,
      "grid_auto_flow": null,
      "grid_auto_rows": null,
      "grid_column": null,
      "grid_gap": null,
      "grid_row": null,
      "grid_template_areas": null,
      "grid_template_columns": null,
      "grid_template_rows": null,
      "height": null,
      "justify_content": null,
      "justify_items": null,
      "left": null,
      "margin": null,
      "max_height": null,
      "max_width": null,
      "min_height": null,
      "min_width": null,
      "object_fit": null,
      "object_position": null,
      "order": null,
      "overflow": null,
      "overflow_x": null,
      "overflow_y": null,
      "padding": null,
      "right": null,
      "top": null,
      "visibility": null,
      "width": null
     }
    },
    "bb7eb1a4a51149efb62df1f23e9e74fe": {
     "model_module": "@jupyter-widgets/controls",
     "model_module_version": "1.5.0",
     "model_name": "DescriptionStyleModel",
     "state": {
      "_model_module": "@jupyter-widgets/controls",
      "_model_module_version": "1.5.0",
      "_model_name": "DescriptionStyleModel",
      "_view_count": null,
      "_view_module": "@jupyter-widgets/base",
      "_view_module_version": "1.2.0",
      "_view_name": "StyleView",
      "description_width": ""
     }
    },
    "bbdd1b7b38f14fc581d266bb0ad5b82e": {
     "model_module": "@jupyter-widgets/controls",
     "model_module_version": "1.5.0",
     "model_name": "ProgressStyleModel",
     "state": {
      "_model_module": "@jupyter-widgets/controls",
      "_model_module_version": "1.5.0",
      "_model_name": "ProgressStyleModel",
      "_view_count": null,
      "_view_module": "@jupyter-widgets/base",
      "_view_module_version": "1.2.0",
      "_view_name": "StyleView",
      "bar_color": null,
      "description_width": ""
     }
    },
    "bd5499d8592c46f394f04ce6988caa6f": {
     "model_module": "@jupyter-widgets/controls",
     "model_module_version": "1.5.0",
     "model_name": "HBoxModel",
     "state": {
      "_dom_classes": [],
      "_model_module": "@jupyter-widgets/controls",
      "_model_module_version": "1.5.0",
      "_model_name": "HBoxModel",
      "_view_count": null,
      "_view_module": "@jupyter-widgets/controls",
      "_view_module_version": "1.5.0",
      "_view_name": "HBoxView",
      "box_style": "",
      "children": [
       "IPY_MODEL_08c451067d6f4209ba8cc451980196f0",
       "IPY_MODEL_6e4859fc42ce46b3bc6665d34a1848db",
       "IPY_MODEL_e406ff6d15034e09a6e771cc737156ca"
      ],
      "layout": "IPY_MODEL_b155c2aa2f3a4ec2b6e3cc0b57ee98bd"
     }
    },
    "c396abafc27342d0bcf47d218017092d": {
     "model_module": "@jupyter-widgets/controls",
     "model_module_version": "1.5.0",
     "model_name": "FloatProgressModel",
     "state": {
      "_dom_classes": [],
      "_model_module": "@jupyter-widgets/controls",
      "_model_module_version": "1.5.0",
      "_model_name": "FloatProgressModel",
      "_view_count": null,
      "_view_module": "@jupyter-widgets/controls",
      "_view_module_version": "1.5.0",
      "_view_name": "ProgressView",
      "bar_style": "success",
      "description": "",
      "description_tooltip": null,
      "layout": "IPY_MODEL_b598f1af7d3949a3b891b46b0728208c",
      "max": 1401,
      "min": 0,
      "orientation": "horizontal",
      "style": "IPY_MODEL_1c543b02052141a9a9d892e4abcd2c67",
      "value": 1401
     }
    },
    "c3fd7d9235a14f4d98cfbadd111e8eea": {
     "model_module": "@jupyter-widgets/controls",
     "model_module_version": "1.5.0",
     "model_name": "HBoxModel",
     "state": {
      "_dom_classes": [],
      "_model_module": "@jupyter-widgets/controls",
      "_model_module_version": "1.5.0",
      "_model_name": "HBoxModel",
      "_view_count": null,
      "_view_module": "@jupyter-widgets/controls",
      "_view_module_version": "1.5.0",
      "_view_name": "HBoxView",
      "box_style": "",
      "children": [
       "IPY_MODEL_7789c7ca680742bc918c43169737ef4d",
       "IPY_MODEL_6dedd54cb31a40ed856997f1fb0eb06f",
       "IPY_MODEL_6771f1fa3b7f429cba210c1d060e94ff"
      ],
      "layout": "IPY_MODEL_51f501467f3344eeaafc21c779140a89"
     }
    },
    "c491ae712070412aaf752dc6d4f84d91": {
     "model_module": "@jupyter-widgets/base",
     "model_module_version": "1.2.0",
     "model_name": "LayoutModel",
     "state": {
      "_model_module": "@jupyter-widgets/base",
      "_model_module_version": "1.2.0",
      "_model_name": "LayoutModel",
      "_view_count": null,
      "_view_module": "@jupyter-widgets/base",
      "_view_module_version": "1.2.0",
      "_view_name": "LayoutView",
      "align_content": null,
      "align_items": null,
      "align_self": null,
      "border": null,
      "bottom": null,
      "display": null,
      "flex": null,
      "flex_flow": null,
      "grid_area": null,
      "grid_auto_columns": null,
      "grid_auto_flow": null,
      "grid_auto_rows": null,
      "grid_column": null,
      "grid_gap": null,
      "grid_row": null,
      "grid_template_areas": null,
      "grid_template_columns": null,
      "grid_template_rows": null,
      "height": null,
      "justify_content": null,
      "justify_items": null,
      "left": null,
      "margin": null,
      "max_height": null,
      "max_width": null,
      "min_height": null,
      "min_width": null,
      "object_fit": null,
      "object_position": null,
      "order": null,
      "overflow": null,
      "overflow_x": null,
      "overflow_y": null,
      "padding": null,
      "right": null,
      "top": null,
      "visibility": null,
      "width": null
     }
    },
    "c4a92744fd644bcbadf69123b5a4f200": {
     "model_module": "@jupyter-widgets/controls",
     "model_module_version": "1.5.0",
     "model_name": "HTMLModel",
     "state": {
      "_dom_classes": [],
      "_model_module": "@jupyter-widgets/controls",
      "_model_module_version": "1.5.0",
      "_model_name": "HTMLModel",
      "_view_count": null,
      "_view_module": "@jupyter-widgets/controls",
      "_view_module_version": "1.5.0",
      "_view_name": "HTMLView",
      "description": "",
      "description_tooltip": null,
      "layout": "IPY_MODEL_fc6445154c5546e8b208fb8518779b24",
      "placeholder": "​",
      "style": "IPY_MODEL_32bced593daf4f9d930d2581dbf8c9fe",
      "value": "Downloading data: 100%"
     }
    },
    "c810c9edf1ff498a88400eff1b20663c": {
     "model_module": "@jupyter-widgets/base",
     "model_module_version": "1.2.0",
     "model_name": "LayoutModel",
     "state": {
      "_model_module": "@jupyter-widgets/base",
      "_model_module_version": "1.2.0",
      "_model_name": "LayoutModel",
      "_view_count": null,
      "_view_module": "@jupyter-widgets/base",
      "_view_module_version": "1.2.0",
      "_view_name": "LayoutView",
      "align_content": null,
      "align_items": null,
      "align_self": null,
      "border": null,
      "bottom": null,
      "display": null,
      "flex": null,
      "flex_flow": null,
      "grid_area": null,
      "grid_auto_columns": null,
      "grid_auto_flow": null,
      "grid_auto_rows": null,
      "grid_column": null,
      "grid_gap": null,
      "grid_row": null,
      "grid_template_areas": null,
      "grid_template_columns": null,
      "grid_template_rows": null,
      "height": null,
      "justify_content": null,
      "justify_items": null,
      "left": null,
      "margin": null,
      "max_height": null,
      "max_width": null,
      "min_height": null,
      "min_width": null,
      "object_fit": null,
      "object_position": null,
      "order": null,
      "overflow": null,
      "overflow_x": null,
      "overflow_y": null,
      "padding": null,
      "right": null,
      "top": null,
      "visibility": null,
      "width": null
     }
    },
    "c8443cda31524284a04292465912cd03": {
     "model_module": "@jupyter-widgets/base",
     "model_module_version": "1.2.0",
     "model_name": "LayoutModel",
     "state": {
      "_model_module": "@jupyter-widgets/base",
      "_model_module_version": "1.2.0",
      "_model_name": "LayoutModel",
      "_view_count": null,
      "_view_module": "@jupyter-widgets/base",
      "_view_module_version": "1.2.0",
      "_view_name": "LayoutView",
      "align_content": null,
      "align_items": null,
      "align_self": null,
      "border": null,
      "bottom": null,
      "display": null,
      "flex": null,
      "flex_flow": null,
      "grid_area": null,
      "grid_auto_columns": null,
      "grid_auto_flow": null,
      "grid_auto_rows": null,
      "grid_column": null,
      "grid_gap": null,
      "grid_row": null,
      "grid_template_areas": null,
      "grid_template_columns": null,
      "grid_template_rows": null,
      "height": null,
      "justify_content": null,
      "justify_items": null,
      "left": null,
      "margin": null,
      "max_height": null,
      "max_width": null,
      "min_height": null,
      "min_width": null,
      "object_fit": null,
      "object_position": null,
      "order": null,
      "overflow": null,
      "overflow_x": null,
      "overflow_y": null,
      "padding": null,
      "right": null,
      "top": null,
      "visibility": null,
      "width": null
     }
    },
    "c85836700da145efb0831b34b84ac97b": {
     "model_module": "@jupyter-widgets/controls",
     "model_module_version": "1.5.0",
     "model_name": "HTMLModel",
     "state": {
      "_dom_classes": [],
      "_model_module": "@jupyter-widgets/controls",
      "_model_module_version": "1.5.0",
      "_model_name": "HTMLModel",
      "_view_count": null,
      "_view_module": "@jupyter-widgets/controls",
      "_view_module_version": "1.5.0",
      "_view_name": "HTMLView",
      "description": "",
      "description_tooltip": null,
      "layout": "IPY_MODEL_f4a4cd0eee8c4cb28c6167ba42f59434",
      "placeholder": "​",
      "style": "IPY_MODEL_1c9205f96a754233b9cb4c18f0e27ec4",
      "value": " 87599/87599 [00:00&lt;00:00, 306975.49 examples/s]"
     }
    },
    "cad634da25674fb2b401bf9d7bd74873": {
     "model_module": "@jupyter-widgets/base",
     "model_module_version": "1.2.0",
     "model_name": "LayoutModel",
     "state": {
      "_model_module": "@jupyter-widgets/base",
      "_model_module_version": "1.2.0",
      "_model_name": "LayoutModel",
      "_view_count": null,
      "_view_module": "@jupyter-widgets/base",
      "_view_module_version": "1.2.0",
      "_view_name": "LayoutView",
      "align_content": null,
      "align_items": null,
      "align_self": null,
      "border": null,
      "bottom": null,
      "display": null,
      "flex": null,
      "flex_flow": null,
      "grid_area": null,
      "grid_auto_columns": null,
      "grid_auto_flow": null,
      "grid_auto_rows": null,
      "grid_column": null,
      "grid_gap": null,
      "grid_row": null,
      "grid_template_areas": null,
      "grid_template_columns": null,
      "grid_template_rows": null,
      "height": null,
      "justify_content": null,
      "justify_items": null,
      "left": null,
      "margin": null,
      "max_height": null,
      "max_width": null,
      "min_height": null,
      "min_width": null,
      "object_fit": null,
      "object_position": null,
      "order": null,
      "overflow": null,
      "overflow_x": null,
      "overflow_y": null,
      "padding": null,
      "right": null,
      "top": null,
      "visibility": null,
      "width": null
     }
    },
    "cb1b12dece7c4276bd806f1dcbb8178b": {
     "model_module": "@jupyter-widgets/controls",
     "model_module_version": "1.5.0",
     "model_name": "DescriptionStyleModel",
     "state": {
      "_model_module": "@jupyter-widgets/controls",
      "_model_module_version": "1.5.0",
      "_model_name": "DescriptionStyleModel",
      "_view_count": null,
      "_view_module": "@jupyter-widgets/base",
      "_view_module_version": "1.2.0",
      "_view_name": "StyleView",
      "description_width": ""
     }
    },
    "cc54523507094c2da38bc4009916af87": {
     "model_module": "@jupyter-widgets/controls",
     "model_module_version": "1.5.0",
     "model_name": "DescriptionStyleModel",
     "state": {
      "_model_module": "@jupyter-widgets/controls",
      "_model_module_version": "1.5.0",
      "_model_name": "DescriptionStyleModel",
      "_view_count": null,
      "_view_module": "@jupyter-widgets/base",
      "_view_module_version": "1.2.0",
      "_view_name": "StyleView",
      "description_width": ""
     }
    },
    "cde548cc3d3b4fae83eadb5d5861b3a4": {
     "model_module": "@jupyter-widgets/controls",
     "model_module_version": "1.5.0",
     "model_name": "DescriptionStyleModel",
     "state": {
      "_model_module": "@jupyter-widgets/controls",
      "_model_module_version": "1.5.0",
      "_model_name": "DescriptionStyleModel",
      "_view_count": null,
      "_view_module": "@jupyter-widgets/base",
      "_view_module_version": "1.2.0",
      "_view_name": "StyleView",
      "description_width": ""
     }
    },
    "ce87ec34866f42d5893e390c6e3bba6f": {
     "model_module": "@jupyter-widgets/base",
     "model_module_version": "1.2.0",
     "model_name": "LayoutModel",
     "state": {
      "_model_module": "@jupyter-widgets/base",
      "_model_module_version": "1.2.0",
      "_model_name": "LayoutModel",
      "_view_count": null,
      "_view_module": "@jupyter-widgets/base",
      "_view_module_version": "1.2.0",
      "_view_name": "LayoutView",
      "align_content": null,
      "align_items": null,
      "align_self": null,
      "border": null,
      "bottom": null,
      "display": null,
      "flex": null,
      "flex_flow": null,
      "grid_area": null,
      "grid_auto_columns": null,
      "grid_auto_flow": null,
      "grid_auto_rows": null,
      "grid_column": null,
      "grid_gap": null,
      "grid_row": null,
      "grid_template_areas": null,
      "grid_template_columns": null,
      "grid_template_rows": null,
      "height": null,
      "justify_content": null,
      "justify_items": null,
      "left": null,
      "margin": null,
      "max_height": null,
      "max_width": null,
      "min_height": null,
      "min_width": null,
      "object_fit": null,
      "object_position": null,
      "order": null,
      "overflow": null,
      "overflow_x": null,
      "overflow_y": null,
      "padding": null,
      "right": null,
      "top": null,
      "visibility": null,
      "width": null
     }
    },
    "ced12bd60d484a57878e200164e4b02b": {
     "model_module": "@jupyter-widgets/base",
     "model_module_version": "1.2.0",
     "model_name": "LayoutModel",
     "state": {
      "_model_module": "@jupyter-widgets/base",
      "_model_module_version": "1.2.0",
      "_model_name": "LayoutModel",
      "_view_count": null,
      "_view_module": "@jupyter-widgets/base",
      "_view_module_version": "1.2.0",
      "_view_name": "LayoutView",
      "align_content": null,
      "align_items": null,
      "align_self": null,
      "border": null,
      "bottom": null,
      "display": null,
      "flex": null,
      "flex_flow": null,
      "grid_area": null,
      "grid_auto_columns": null,
      "grid_auto_flow": null,
      "grid_auto_rows": null,
      "grid_column": null,
      "grid_gap": null,
      "grid_row": null,
      "grid_template_areas": null,
      "grid_template_columns": null,
      "grid_template_rows": null,
      "height": null,
      "justify_content": null,
      "justify_items": null,
      "left": null,
      "margin": null,
      "max_height": null,
      "max_width": null,
      "min_height": null,
      "min_width": null,
      "object_fit": null,
      "object_position": null,
      "order": null,
      "overflow": null,
      "overflow_x": null,
      "overflow_y": null,
      "padding": null,
      "right": null,
      "top": null,
      "visibility": null,
      "width": null
     }
    },
    "d22af35d6263481b8af5bd148c9aef08": {
     "model_module": "@jupyter-widgets/base",
     "model_module_version": "1.2.0",
     "model_name": "LayoutModel",
     "state": {
      "_model_module": "@jupyter-widgets/base",
      "_model_module_version": "1.2.0",
      "_model_name": "LayoutModel",
      "_view_count": null,
      "_view_module": "@jupyter-widgets/base",
      "_view_module_version": "1.2.0",
      "_view_name": "LayoutView",
      "align_content": null,
      "align_items": null,
      "align_self": null,
      "border": null,
      "bottom": null,
      "display": null,
      "flex": null,
      "flex_flow": null,
      "grid_area": null,
      "grid_auto_columns": null,
      "grid_auto_flow": null,
      "grid_auto_rows": null,
      "grid_column": null,
      "grid_gap": null,
      "grid_row": null,
      "grid_template_areas": null,
      "grid_template_columns": null,
      "grid_template_rows": null,
      "height": null,
      "justify_content": null,
      "justify_items": null,
      "left": null,
      "margin": null,
      "max_height": null,
      "max_width": null,
      "min_height": null,
      "min_width": null,
      "object_fit": null,
      "object_position": null,
      "order": null,
      "overflow": null,
      "overflow_x": null,
      "overflow_y": null,
      "padding": null,
      "right": null,
      "top": null,
      "visibility": null,
      "width": null
     }
    },
    "d29390e5e818435b80f3d1b4776859a8": {
     "model_module": "@jupyter-widgets/base",
     "model_module_version": "1.2.0",
     "model_name": "LayoutModel",
     "state": {
      "_model_module": "@jupyter-widgets/base",
      "_model_module_version": "1.2.0",
      "_model_name": "LayoutModel",
      "_view_count": null,
      "_view_module": "@jupyter-widgets/base",
      "_view_module_version": "1.2.0",
      "_view_name": "LayoutView",
      "align_content": null,
      "align_items": null,
      "align_self": null,
      "border": null,
      "bottom": null,
      "display": null,
      "flex": null,
      "flex_flow": null,
      "grid_area": null,
      "grid_auto_columns": null,
      "grid_auto_flow": null,
      "grid_auto_rows": null,
      "grid_column": null,
      "grid_gap": null,
      "grid_row": null,
      "grid_template_areas": null,
      "grid_template_columns": null,
      "grid_template_rows": null,
      "height": null,
      "justify_content": null,
      "justify_items": null,
      "left": null,
      "margin": null,
      "max_height": null,
      "max_width": null,
      "min_height": null,
      "min_width": null,
      "object_fit": null,
      "object_position": null,
      "order": null,
      "overflow": null,
      "overflow_x": null,
      "overflow_y": null,
      "padding": null,
      "right": null,
      "top": null,
      "visibility": null,
      "width": null
     }
    },
    "d4da7b7b2e4740f4932045f064b2379f": {
     "model_module": "@jupyter-widgets/controls",
     "model_module_version": "1.5.0",
     "model_name": "ProgressStyleModel",
     "state": {
      "_model_module": "@jupyter-widgets/controls",
      "_model_module_version": "1.5.0",
      "_model_name": "ProgressStyleModel",
      "_view_count": null,
      "_view_module": "@jupyter-widgets/base",
      "_view_module_version": "1.2.0",
      "_view_name": "StyleView",
      "bar_color": null,
      "description_width": ""
     }
    },
    "d5d0b0261db642ad955966cd3b881a77": {
     "model_module": "@jupyter-widgets/controls",
     "model_module_version": "1.5.0",
     "model_name": "HTMLModel",
     "state": {
      "_dom_classes": [],
      "_model_module": "@jupyter-widgets/controls",
      "_model_module_version": "1.5.0",
      "_model_name": "HTMLModel",
      "_view_count": null,
      "_view_module": "@jupyter-widgets/controls",
      "_view_module_version": "1.5.0",
      "_view_name": "HTMLView",
      "description": "",
      "description_tooltip": null,
      "layout": "IPY_MODEL_2de48fa3ac244018a79120b6de48ff1b",
      "placeholder": "​",
      "style": "IPY_MODEL_42663c20e09d461c9b1c7a00314ade72",
      "value": " 7.62k/7.62k [00:00&lt;00:00, 456kB/s]"
     }
    },
    "d792621de35e450fb86e44852e7e7ee5": {
     "model_module": "@jupyter-widgets/base",
     "model_module_version": "1.2.0",
     "model_name": "LayoutModel",
     "state": {
      "_model_module": "@jupyter-widgets/base",
      "_model_module_version": "1.2.0",
      "_model_name": "LayoutModel",
      "_view_count": null,
      "_view_module": "@jupyter-widgets/base",
      "_view_module_version": "1.2.0",
      "_view_name": "LayoutView",
      "align_content": null,
      "align_items": null,
      "align_self": null,
      "border": null,
      "bottom": null,
      "display": null,
      "flex": null,
      "flex_flow": null,
      "grid_area": null,
      "grid_auto_columns": null,
      "grid_auto_flow": null,
      "grid_auto_rows": null,
      "grid_column": null,
      "grid_gap": null,
      "grid_row": null,
      "grid_template_areas": null,
      "grid_template_columns": null,
      "grid_template_rows": null,
      "height": null,
      "justify_content": null,
      "justify_items": null,
      "left": null,
      "margin": null,
      "max_height": null,
      "max_width": null,
      "min_height": null,
      "min_width": null,
      "object_fit": null,
      "object_position": null,
      "order": null,
      "overflow": null,
      "overflow_x": null,
      "overflow_y": null,
      "padding": null,
      "right": null,
      "top": null,
      "visibility": null,
      "width": null
     }
    },
    "db1d525ce26945d88eff23963ed0160c": {
     "model_module": "@jupyter-widgets/controls",
     "model_module_version": "1.5.0",
     "model_name": "HTMLModel",
     "state": {
      "_dom_classes": [],
      "_model_module": "@jupyter-widgets/controls",
      "_model_module_version": "1.5.0",
      "_model_name": "HTMLModel",
      "_view_count": null,
      "_view_module": "@jupyter-widgets/controls",
      "_view_module_version": "1.5.0",
      "_view_name": "HTMLView",
      "description": "",
      "description_tooltip": null,
      "layout": "IPY_MODEL_ce87ec34866f42d5893e390c6e3bba6f",
      "placeholder": "​",
      "style": "IPY_MODEL_49293930a2014497a53bcbfea37c470b",
      "value": "Generating train split: 100%"
     }
    },
    "db2bb3ffa4154df2afa76bbbf63ad6f6": {
     "model_module": "@jupyter-widgets/controls",
     "model_module_version": "1.5.0",
     "model_name": "HTMLModel",
     "state": {
      "_dom_classes": [],
      "_model_module": "@jupyter-widgets/controls",
      "_model_module_version": "1.5.0",
      "_model_name": "HTMLModel",
      "_view_count": null,
      "_view_module": "@jupyter-widgets/controls",
      "_view_module_version": "1.5.0",
      "_view_name": "HTMLView",
      "description": "",
      "description_tooltip": null,
      "layout": "IPY_MODEL_e28d84a505f3448eb0bd62f3feb1fabd",
      "placeholder": "​",
      "style": "IPY_MODEL_4cede74fdb8343398f65ea9d1541472a",
      "value": " 792k/792k [00:00&lt;00:00, 9.89MB/s]"
     }
    },
    "dc77c5e5e7954de5bb7c35332ce6c29e": {
     "model_module": "@jupyter-widgets/controls",
     "model_module_version": "1.5.0",
     "model_name": "HTMLModel",
     "state": {
      "_dom_classes": [],
      "_model_module": "@jupyter-widgets/controls",
      "_model_module_version": "1.5.0",
      "_model_name": "HTMLModel",
      "_view_count": null,
      "_view_module": "@jupyter-widgets/controls",
      "_view_module_version": "1.5.0",
      "_view_name": "HTMLView",
      "description": "",
      "description_tooltip": null,
      "layout": "IPY_MODEL_1c650a26519541358a61de006884a048",
      "placeholder": "​",
      "style": "IPY_MODEL_0a328f34f7594844a2ea68ea077ba7ae",
      "value": " 10570/10570 [00:00&lt;00:00, 149522.24 examples/s]"
     }
    },
    "df5dd6cb7e764e0a910f2711cc267ece": {
     "model_module": "@jupyter-widgets/base",
     "model_module_version": "1.2.0",
     "model_name": "LayoutModel",
     "state": {
      "_model_module": "@jupyter-widgets/base",
      "_model_module_version": "1.2.0",
      "_model_name": "LayoutModel",
      "_view_count": null,
      "_view_module": "@jupyter-widgets/base",
      "_view_module_version": "1.2.0",
      "_view_name": "LayoutView",
      "align_content": null,
      "align_items": null,
      "align_self": null,
      "border": null,
      "bottom": null,
      "display": null,
      "flex": null,
      "flex_flow": null,
      "grid_area": null,
      "grid_auto_columns": null,
      "grid_auto_flow": null,
      "grid_auto_rows": null,
      "grid_column": null,
      "grid_gap": null,
      "grid_row": null,
      "grid_template_areas": null,
      "grid_template_columns": null,
      "grid_template_rows": null,
      "height": null,
      "justify_content": null,
      "justify_items": null,
      "left": null,
      "margin": null,
      "max_height": null,
      "max_width": null,
      "min_height": null,
      "min_width": null,
      "object_fit": null,
      "object_position": null,
      "order": null,
      "overflow": null,
      "overflow_x": null,
      "overflow_y": null,
      "padding": null,
      "right": null,
      "top": null,
      "visibility": null,
      "width": null
     }
    },
    "e28d84a505f3448eb0bd62f3feb1fabd": {
     "model_module": "@jupyter-widgets/base",
     "model_module_version": "1.2.0",
     "model_name": "LayoutModel",
     "state": {
      "_model_module": "@jupyter-widgets/base",
      "_model_module_version": "1.2.0",
      "_model_name": "LayoutModel",
      "_view_count": null,
      "_view_module": "@jupyter-widgets/base",
      "_view_module_version": "1.2.0",
      "_view_name": "LayoutView",
      "align_content": null,
      "align_items": null,
      "align_self": null,
      "border": null,
      "bottom": null,
      "display": null,
      "flex": null,
      "flex_flow": null,
      "grid_area": null,
      "grid_auto_columns": null,
      "grid_auto_flow": null,
      "grid_auto_rows": null,
      "grid_column": null,
      "grid_gap": null,
      "grid_row": null,
      "grid_template_areas": null,
      "grid_template_columns": null,
      "grid_template_rows": null,
      "height": null,
      "justify_content": null,
      "justify_items": null,
      "left": null,
      "margin": null,
      "max_height": null,
      "max_width": null,
      "min_height": null,
      "min_width": null,
      "object_fit": null,
      "object_position": null,
      "order": null,
      "overflow": null,
      "overflow_x": null,
      "overflow_y": null,
      "padding": null,
      "right": null,
      "top": null,
      "visibility": null,
      "width": null
     }
    },
    "e3c148faf340432b9360f05ebf0e8a95": {
     "model_module": "@jupyter-widgets/controls",
     "model_module_version": "1.5.0",
     "model_name": "HBoxModel",
     "state": {
      "_dom_classes": [],
      "_model_module": "@jupyter-widgets/controls",
      "_model_module_version": "1.5.0",
      "_model_name": "HBoxModel",
      "_view_count": null,
      "_view_module": "@jupyter-widgets/controls",
      "_view_module_version": "1.5.0",
      "_view_name": "HBoxView",
      "box_style": "",
      "children": [
       "IPY_MODEL_6d241979d4c54abe84b8fdb185aad23e",
       "IPY_MODEL_b0511a94f26341808134f80806af27dc",
       "IPY_MODEL_45dd5d38d2214970bf972fb8b309f3f4"
      ],
      "layout": "IPY_MODEL_121a7431331b4746bb5a8c9b0eba4167"
     }
    },
    "e3c4fe75f5164657ac2b64902121a4d3": {
     "model_module": "@jupyter-widgets/controls",
     "model_module_version": "1.5.0",
     "model_name": "FloatProgressModel",
     "state": {
      "_dom_classes": [],
      "_model_module": "@jupyter-widgets/controls",
      "_model_module_version": "1.5.0",
      "_model_name": "FloatProgressModel",
      "_view_count": null,
      "_view_module": "@jupyter-widgets/controls",
      "_view_module_version": "1.5.0",
      "_view_name": "ProgressView",
      "bar_style": "success",
      "description": "",
      "description_tooltip": null,
      "layout": "IPY_MODEL_6f3cca6b8ed54e4b83d03ad13dd71f31",
      "max": 7620,
      "min": 0,
      "orientation": "horizontal",
      "style": "IPY_MODEL_953e58c00bc1481f82bf4cbe14df9622",
      "value": 7620
     }
    },
    "e406ff6d15034e09a6e771cc737156ca": {
     "model_module": "@jupyter-widgets/controls",
     "model_module_version": "1.5.0",
     "model_name": "HTMLModel",
     "state": {
      "_dom_classes": [],
      "_model_module": "@jupyter-widgets/controls",
      "_model_module_version": "1.5.0",
      "_model_name": "HTMLModel",
      "_view_count": null,
      "_view_module": "@jupyter-widgets/controls",
      "_view_module_version": "1.5.0",
      "_view_name": "HTMLView",
      "description": "",
      "description_tooltip": null,
      "layout": "IPY_MODEL_4b19e9abec1643c99389f52866630384",
      "placeholder": "​",
      "style": "IPY_MODEL_21731633ab1b44769f736009e8e979bc",
      "value": " 147/147 [00:00&lt;00:00, 11.4kB/s]"
     }
    },
    "e427760e4cf549ff81a6db9a1ae4bd1c": {
     "model_module": "@jupyter-widgets/controls",
     "model_module_version": "1.5.0",
     "model_name": "HTMLModel",
     "state": {
      "_dom_classes": [],
      "_model_module": "@jupyter-widgets/controls",
      "_model_module_version": "1.5.0",
      "_model_name": "HTMLModel",
      "_view_count": null,
      "_view_module": "@jupyter-widgets/controls",
      "_view_module_version": "1.5.0",
      "_view_name": "HTMLView",
      "description": "",
      "description_tooltip": null,
      "layout": "IPY_MODEL_0c26586acfd7442ca7c5b3e3a0572695",
      "placeholder": "​",
      "style": "IPY_MODEL_bb7eb1a4a51149efb62df1f23e9e74fe",
      "value": " 2.20k/2.20k [00:00&lt;00:00, 125kB/s]"
     }
    },
    "e6af0cf1fb014f19819a58c244ccc28e": {
     "model_module": "@jupyter-widgets/base",
     "model_module_version": "1.2.0",
     "model_name": "LayoutModel",
     "state": {
      "_model_module": "@jupyter-widgets/base",
      "_model_module_version": "1.2.0",
      "_model_name": "LayoutModel",
      "_view_count": null,
      "_view_module": "@jupyter-widgets/base",
      "_view_module_version": "1.2.0",
      "_view_name": "LayoutView",
      "align_content": null,
      "align_items": null,
      "align_self": null,
      "border": null,
      "bottom": null,
      "display": null,
      "flex": null,
      "flex_flow": null,
      "grid_area": null,
      "grid_auto_columns": null,
      "grid_auto_flow": null,
      "grid_auto_rows": null,
      "grid_column": null,
      "grid_gap": null,
      "grid_row": null,
      "grid_template_areas": null,
      "grid_template_columns": null,
      "grid_template_rows": null,
      "height": null,
      "justify_content": null,
      "justify_items": null,
      "left": null,
      "margin": null,
      "max_height": null,
      "max_width": null,
      "min_height": null,
      "min_width": null,
      "object_fit": null,
      "object_position": null,
      "order": null,
      "overflow": null,
      "overflow_x": null,
      "overflow_y": null,
      "padding": null,
      "right": null,
      "top": null,
      "visibility": null,
      "width": null
     }
    },
    "e6cb78127a474fda9ffa2293e0353552": {
     "model_module": "@jupyter-widgets/controls",
     "model_module_version": "1.5.0",
     "model_name": "HBoxModel",
     "state": {
      "_dom_classes": [],
      "_model_module": "@jupyter-widgets/controls",
      "_model_module_version": "1.5.0",
      "_model_name": "HBoxModel",
      "_view_count": null,
      "_view_module": "@jupyter-widgets/controls",
      "_view_module_version": "1.5.0",
      "_view_name": "HBoxView",
      "box_style": "",
      "children": [
       "IPY_MODEL_202792f70b64416b9c76297815f9a43e",
       "IPY_MODEL_ec5b0b3bf22843a6a9aed773b5b86c52",
       "IPY_MODEL_7b76cbe8d18543ad9f136862305a7ea2"
      ],
      "layout": "IPY_MODEL_71c961a440c74056b20ba6060a047b13"
     }
    },
    "ebc988d7b78d403b8cf661aea4e3a255": {
     "model_module": "@jupyter-widgets/controls",
     "model_module_version": "1.5.0",
     "model_name": "HTMLModel",
     "state": {
      "_dom_classes": [],
      "_model_module": "@jupyter-widgets/controls",
      "_model_module_version": "1.5.0",
      "_model_name": "HTMLModel",
      "_view_count": null,
      "_view_module": "@jupyter-widgets/controls",
      "_view_module_version": "1.5.0",
      "_view_name": "HTMLView",
      "description": "",
      "description_tooltip": null,
      "layout": "IPY_MODEL_61a08e21cc5b4eeeaf17bc48198958c9",
      "placeholder": "​",
      "style": "IPY_MODEL_90a65456728a4f05befd4806e9550930",
      "value": "Map: 100%"
     }
    },
    "ebf30d7d78aa474986792064297b12b7": {
     "model_module": "@jupyter-widgets/base",
     "model_module_version": "1.2.0",
     "model_name": "LayoutModel",
     "state": {
      "_model_module": "@jupyter-widgets/base",
      "_model_module_version": "1.2.0",
      "_model_name": "LayoutModel",
      "_view_count": null,
      "_view_module": "@jupyter-widgets/base",
      "_view_module_version": "1.2.0",
      "_view_name": "LayoutView",
      "align_content": null,
      "align_items": null,
      "align_self": null,
      "border": null,
      "bottom": null,
      "display": null,
      "flex": null,
      "flex_flow": null,
      "grid_area": null,
      "grid_auto_columns": null,
      "grid_auto_flow": null,
      "grid_auto_rows": null,
      "grid_column": null,
      "grid_gap": null,
      "grid_row": null,
      "grid_template_areas": null,
      "grid_template_columns": null,
      "grid_template_rows": null,
      "height": null,
      "justify_content": null,
      "justify_items": null,
      "left": null,
      "margin": null,
      "max_height": null,
      "max_width": null,
      "min_height": null,
      "min_width": null,
      "object_fit": null,
      "object_position": null,
      "order": null,
      "overflow": null,
      "overflow_x": null,
      "overflow_y": null,
      "padding": null,
      "right": null,
      "top": null,
      "visibility": null,
      "width": null
     }
    },
    "ec5b0b3bf22843a6a9aed773b5b86c52": {
     "model_module": "@jupyter-widgets/controls",
     "model_module_version": "1.5.0",
     "model_name": "FloatProgressModel",
     "state": {
      "_dom_classes": [],
      "_model_module": "@jupyter-widgets/controls",
      "_model_module_version": "1.5.0",
      "_model_name": "FloatProgressModel",
      "_view_count": null,
      "_view_module": "@jupyter-widgets/controls",
      "_view_module_version": "1.5.0",
      "_view_name": "ProgressView",
      "bar_style": "success",
      "description": "",
      "description_tooltip": null,
      "layout": "IPY_MODEL_6e84423ebe5c4d1bba53af4ba67d461c",
      "max": 2424064,
      "min": 0,
      "orientation": "horizontal",
      "style": "IPY_MODEL_f4632595a65b4dee92470dd73bbcc800",
      "value": 2424064
     }
    },
    "ef51e6c69aaa47c6aad2f0745a922340": {
     "model_module": "@jupyter-widgets/controls",
     "model_module_version": "1.5.0",
     "model_name": "HBoxModel",
     "state": {
      "_dom_classes": [],
      "_model_module": "@jupyter-widgets/controls",
      "_model_module_version": "1.5.0",
      "_model_name": "HBoxModel",
      "_view_count": null,
      "_view_module": "@jupyter-widgets/controls",
      "_view_module_version": "1.5.0",
      "_view_name": "HBoxView",
      "box_style": "",
      "children": [
       "IPY_MODEL_92bb494af38140e3a66bb3d45e4053cc",
       "IPY_MODEL_9d8c471dcdb14aa584a90ab7baea7b99",
       "IPY_MODEL_dc77c5e5e7954de5bb7c35332ce6c29e"
      ],
      "layout": "IPY_MODEL_7748780ddd6d4c5ab6ac27ef71e91b34"
     }
    },
    "f05a3dc491be4f8786c43f84f3acc9cc": {
     "model_module": "@jupyter-widgets/controls",
     "model_module_version": "1.5.0",
     "model_name": "DescriptionStyleModel",
     "state": {
      "_model_module": "@jupyter-widgets/controls",
      "_model_module_version": "1.5.0",
      "_model_name": "DescriptionStyleModel",
      "_view_count": null,
      "_view_module": "@jupyter-widgets/base",
      "_view_module_version": "1.2.0",
      "_view_name": "StyleView",
      "description_width": ""
     }
    },
    "f4632595a65b4dee92470dd73bbcc800": {
     "model_module": "@jupyter-widgets/controls",
     "model_module_version": "1.5.0",
     "model_name": "ProgressStyleModel",
     "state": {
      "_model_module": "@jupyter-widgets/controls",
      "_model_module_version": "1.5.0",
      "_model_name": "ProgressStyleModel",
      "_view_count": null,
      "_view_module": "@jupyter-widgets/base",
      "_view_module_version": "1.2.0",
      "_view_name": "StyleView",
      "bar_color": null,
      "description_width": ""
     }
    },
    "f4a4cd0eee8c4cb28c6167ba42f59434": {
     "model_module": "@jupyter-widgets/base",
     "model_module_version": "1.2.0",
     "model_name": "LayoutModel",
     "state": {
      "_model_module": "@jupyter-widgets/base",
      "_model_module_version": "1.2.0",
      "_model_name": "LayoutModel",
      "_view_count": null,
      "_view_module": "@jupyter-widgets/base",
      "_view_module_version": "1.2.0",
      "_view_name": "LayoutView",
      "align_content": null,
      "align_items": null,
      "align_self": null,
      "border": null,
      "bottom": null,
      "display": null,
      "flex": null,
      "flex_flow": null,
      "grid_area": null,
      "grid_auto_columns": null,
      "grid_auto_flow": null,
      "grid_auto_rows": null,
      "grid_column": null,
      "grid_gap": null,
      "grid_row": null,
      "grid_template_areas": null,
      "grid_template_columns": null,
      "grid_template_rows": null,
      "height": null,
      "justify_content": null,
      "justify_items": null,
      "left": null,
      "margin": null,
      "max_height": null,
      "max_width": null,
      "min_height": null,
      "min_width": null,
      "object_fit": null,
      "object_position": null,
      "order": null,
      "overflow": null,
      "overflow_x": null,
      "overflow_y": null,
      "padding": null,
      "right": null,
      "top": null,
      "visibility": null,
      "width": null
     }
    },
    "f8b148e575d14b6780e4d1d35301fe44": {
     "model_module": "@jupyter-widgets/controls",
     "model_module_version": "1.5.0",
     "model_name": "DescriptionStyleModel",
     "state": {
      "_model_module": "@jupyter-widgets/controls",
      "_model_module_version": "1.5.0",
      "_model_name": "DescriptionStyleModel",
      "_view_count": null,
      "_view_module": "@jupyter-widgets/base",
      "_view_module_version": "1.2.0",
      "_view_name": "StyleView",
      "description_width": ""
     }
    },
    "fc6445154c5546e8b208fb8518779b24": {
     "model_module": "@jupyter-widgets/base",
     "model_module_version": "1.2.0",
     "model_name": "LayoutModel",
     "state": {
      "_model_module": "@jupyter-widgets/base",
      "_model_module_version": "1.2.0",
      "_model_name": "LayoutModel",
      "_view_count": null,
      "_view_module": "@jupyter-widgets/base",
      "_view_module_version": "1.2.0",
      "_view_name": "LayoutView",
      "align_content": null,
      "align_items": null,
      "align_self": null,
      "border": null,
      "bottom": null,
      "display": null,
      "flex": null,
      "flex_flow": null,
      "grid_area": null,
      "grid_auto_columns": null,
      "grid_auto_flow": null,
      "grid_auto_rows": null,
      "grid_column": null,
      "grid_gap": null,
      "grid_row": null,
      "grid_template_areas": null,
      "grid_template_columns": null,
      "grid_template_rows": null,
      "height": null,
      "justify_content": null,
      "justify_items": null,
      "left": null,
      "margin": null,
      "max_height": null,
      "max_width": null,
      "min_height": null,
      "min_width": null,
      "object_fit": null,
      "object_position": null,
      "order": null,
      "overflow": null,
      "overflow_x": null,
      "overflow_y": null,
      "padding": null,
      "right": null,
      "top": null,
      "visibility": null,
      "width": null
     }
    },
    "ff07cfe7549a422b8594d8a6c240f731": {
     "model_module": "@jupyter-widgets/controls",
     "model_module_version": "1.5.0",
     "model_name": "DescriptionStyleModel",
     "state": {
      "_model_module": "@jupyter-widgets/controls",
      "_model_module_version": "1.5.0",
      "_model_name": "DescriptionStyleModel",
      "_view_count": null,
      "_view_module": "@jupyter-widgets/base",
      "_view_module_version": "1.2.0",
      "_view_name": "StyleView",
      "description_width": ""
     }
    }
   }
  }
 },
 "nbformat": 4,
 "nbformat_minor": 4
}
